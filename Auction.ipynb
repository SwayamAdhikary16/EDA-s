{
 "cells": [
  {
   "cell_type": "code",
   "execution_count": 216,
   "metadata": {},
   "outputs": [],
   "source": [
    "import pandas as pd\n",
    "import numpy as np \n",
    "import matplotlib.pyplot as plt\n",
    "import seaborn as sns\n",
    "%matplotlib inline"
   ]
  },
  {
   "cell_type": "code",
   "execution_count": 217,
   "metadata": {},
   "outputs": [],
   "source": [
    "file  = r'D:\\EDA\\Files\\ipl_2022_dataset.csv'"
   ]
  },
  {
   "cell_type": "code",
   "execution_count": 218,
   "metadata": {},
   "outputs": [
    {
     "data": {
      "text/html": [
       "<div>\n",
       "<style scoped>\n",
       "    .dataframe tbody tr th:only-of-type {\n",
       "        vertical-align: middle;\n",
       "    }\n",
       "\n",
       "    .dataframe tbody tr th {\n",
       "        vertical-align: top;\n",
       "    }\n",
       "\n",
       "    .dataframe thead th {\n",
       "        text-align: right;\n",
       "    }\n",
       "</style>\n",
       "<table border=\"1\" class=\"dataframe\">\n",
       "  <thead>\n",
       "    <tr style=\"text-align: right;\">\n",
       "      <th></th>\n",
       "      <th>Unnamed: 0</th>\n",
       "      <th>Player</th>\n",
       "      <th>Base Price</th>\n",
       "      <th>TYPE</th>\n",
       "      <th>COST IN ₹ (CR.)</th>\n",
       "      <th>Cost IN $ (000)</th>\n",
       "      <th>2021 Squad</th>\n",
       "      <th>Team</th>\n",
       "    </tr>\n",
       "  </thead>\n",
       "  <tbody>\n",
       "    <tr>\n",
       "      <th>136</th>\n",
       "      <td>136</td>\n",
       "      <td>Ankit Singh Rajpoot</td>\n",
       "      <td>20 Lakh</td>\n",
       "      <td>BOWLER</td>\n",
       "      <td>0.5</td>\n",
       "      <td>65.0</td>\n",
       "      <td>NaN</td>\n",
       "      <td>Lucknow Super Giants</td>\n",
       "    </tr>\n",
       "    <tr>\n",
       "      <th>260</th>\n",
       "      <td>260</td>\n",
       "      <td>Tabraiz Shamsi</td>\n",
       "      <td>1 Cr</td>\n",
       "      <td>BOWLER</td>\n",
       "      <td>NaN</td>\n",
       "      <td>NaN</td>\n",
       "      <td>RR</td>\n",
       "      <td>Unsold</td>\n",
       "    </tr>\n",
       "    <tr>\n",
       "      <th>242</th>\n",
       "      <td>242</td>\n",
       "      <td>Imran Tahir</td>\n",
       "      <td>2 Cr</td>\n",
       "      <td>BOWLER</td>\n",
       "      <td>NaN</td>\n",
       "      <td>NaN</td>\n",
       "      <td>CSK</td>\n",
       "      <td>Unsold</td>\n",
       "    </tr>\n",
       "    <tr>\n",
       "      <th>384</th>\n",
       "      <td>384</td>\n",
       "      <td>Satyajeet Bachhav</td>\n",
       "      <td>20 Lakh</td>\n",
       "      <td>BOWLER</td>\n",
       "      <td>NaN</td>\n",
       "      <td>NaN</td>\n",
       "      <td>NaN</td>\n",
       "      <td>Unsold</td>\n",
       "    </tr>\n",
       "    <tr>\n",
       "      <th>118</th>\n",
       "      <td>118</td>\n",
       "      <td>Writtick Chatterjee</td>\n",
       "      <td>20 Lakh</td>\n",
       "      <td>ALL-ROUNDER</td>\n",
       "      <td>0.2</td>\n",
       "      <td>26.0</td>\n",
       "      <td>NaN</td>\n",
       "      <td>Punjab Kings</td>\n",
       "    </tr>\n",
       "  </tbody>\n",
       "</table>\n",
       "</div>"
      ],
      "text/plain": [
       "     Unnamed: 0               Player Base Price         TYPE  COST IN ₹ (CR.)  \\\n",
       "136         136  Ankit Singh Rajpoot    20 Lakh       BOWLER              0.5   \n",
       "260         260       Tabraiz Shamsi       1 Cr       BOWLER              NaN   \n",
       "242         242          Imran Tahir       2 Cr       BOWLER              NaN   \n",
       "384         384    Satyajeet Bachhav    20 Lakh       BOWLER              NaN   \n",
       "118         118  Writtick Chatterjee    20 Lakh  ALL-ROUNDER              0.2   \n",
       "\n",
       "     Cost IN $ (000) 2021 Squad                  Team  \n",
       "136             65.0        NaN  Lucknow Super Giants  \n",
       "260              NaN         RR                Unsold  \n",
       "242              NaN        CSK                Unsold  \n",
       "384              NaN        NaN                Unsold  \n",
       "118             26.0        NaN          Punjab Kings  "
      ]
     },
     "execution_count": 218,
     "metadata": {},
     "output_type": "execute_result"
    }
   ],
   "source": [
    "df = pd.read_csv(file)\n",
    "df.sample(5)"
   ]
  },
  {
   "cell_type": "code",
   "execution_count": 219,
   "metadata": {},
   "outputs": [
    {
     "data": {
      "text/html": [
       "<div>\n",
       "<style scoped>\n",
       "    .dataframe tbody tr th:only-of-type {\n",
       "        vertical-align: middle;\n",
       "    }\n",
       "\n",
       "    .dataframe tbody tr th {\n",
       "        vertical-align: top;\n",
       "    }\n",
       "\n",
       "    .dataframe thead th {\n",
       "        text-align: right;\n",
       "    }\n",
       "</style>\n",
       "<table border=\"1\" class=\"dataframe\">\n",
       "  <thead>\n",
       "    <tr style=\"text-align: right;\">\n",
       "      <th></th>\n",
       "      <th>Unnamed: 0</th>\n",
       "      <th>COST IN ₹ (CR.)</th>\n",
       "      <th>Cost IN $ (000)</th>\n",
       "    </tr>\n",
       "  </thead>\n",
       "  <tbody>\n",
       "    <tr>\n",
       "      <th>count</th>\n",
       "      <td>633.000000</td>\n",
       "      <td>237.000000</td>\n",
       "      <td>237.000000</td>\n",
       "    </tr>\n",
       "    <tr>\n",
       "      <th>mean</th>\n",
       "      <td>316.000000</td>\n",
       "      <td>3.695781</td>\n",
       "      <td>480.451477</td>\n",
       "    </tr>\n",
       "    <tr>\n",
       "      <th>std</th>\n",
       "      <td>182.875641</td>\n",
       "      <td>4.238092</td>\n",
       "      <td>550.951945</td>\n",
       "    </tr>\n",
       "    <tr>\n",
       "      <th>min</th>\n",
       "      <td>0.000000</td>\n",
       "      <td>0.200000</td>\n",
       "      <td>26.000000</td>\n",
       "    </tr>\n",
       "    <tr>\n",
       "      <th>25%</th>\n",
       "      <td>158.000000</td>\n",
       "      <td>0.400000</td>\n",
       "      <td>52.000000</td>\n",
       "    </tr>\n",
       "    <tr>\n",
       "      <th>50%</th>\n",
       "      <td>316.000000</td>\n",
       "      <td>1.900000</td>\n",
       "      <td>247.000000</td>\n",
       "    </tr>\n",
       "    <tr>\n",
       "      <th>75%</th>\n",
       "      <td>474.000000</td>\n",
       "      <td>6.500000</td>\n",
       "      <td>845.000000</td>\n",
       "    </tr>\n",
       "    <tr>\n",
       "      <th>max</th>\n",
       "      <td>632.000000</td>\n",
       "      <td>17.000000</td>\n",
       "      <td>2210.000000</td>\n",
       "    </tr>\n",
       "  </tbody>\n",
       "</table>\n",
       "</div>"
      ],
      "text/plain": [
       "       Unnamed: 0  COST IN ₹ (CR.)  Cost IN $ (000)\n",
       "count  633.000000       237.000000       237.000000\n",
       "mean   316.000000         3.695781       480.451477\n",
       "std    182.875641         4.238092       550.951945\n",
       "min      0.000000         0.200000        26.000000\n",
       "25%    158.000000         0.400000        52.000000\n",
       "50%    316.000000         1.900000       247.000000\n",
       "75%    474.000000         6.500000       845.000000\n",
       "max    632.000000        17.000000      2210.000000"
      ]
     },
     "execution_count": 219,
     "metadata": {},
     "output_type": "execute_result"
    }
   ],
   "source": [
    "df.describe()"
   ]
  },
  {
   "cell_type": "code",
   "execution_count": 220,
   "metadata": {},
   "outputs": [
    {
     "data": {
      "text/plain": [
       "Unnamed: 0           0\n",
       "Player               0\n",
       "Base Price           0\n",
       "TYPE                 0\n",
       "COST IN ₹ (CR.)    396\n",
       "Cost IN $ (000)    396\n",
       "2021 Squad         434\n",
       "Team                 0\n",
       "dtype: int64"
      ]
     },
     "execution_count": 220,
     "metadata": {},
     "output_type": "execute_result"
    }
   ],
   "source": [
    "df.isnull().sum()"
   ]
  },
  {
   "cell_type": "code",
   "execution_count": 221,
   "metadata": {},
   "outputs": [
    {
     "data": {
      "text/plain": [
       "Index(['Unnamed: 0', 'Player', 'Base Price', 'TYPE', 'COST IN ₹ (CR.)',\n",
       "       'Cost IN $ (000)', '2021 Squad', 'Team'],\n",
       "      dtype='object')"
      ]
     },
     "execution_count": 221,
     "metadata": {},
     "output_type": "execute_result"
    }
   ],
   "source": [
    "df.columns"
   ]
  },
  {
   "cell_type": "code",
   "execution_count": 222,
   "metadata": {},
   "outputs": [],
   "source": [
    "#Observation\n",
    "#1)Only the columns Base Price,COST IN ₹ (CR.),Cost IN $ (000) are numerical rest all are categorical"
   ]
  },
  {
   "cell_type": "code",
   "execution_count": 223,
   "metadata": {},
   "outputs": [
    {
     "data": {
      "text/plain": [
       "(633, 8)"
      ]
     },
     "execution_count": 223,
     "metadata": {},
     "output_type": "execute_result"
    }
   ],
   "source": [
    "df.shape"
   ]
  },
  {
   "cell_type": "code",
   "execution_count": 224,
   "metadata": {},
   "outputs": [
    {
     "data": {
      "text/html": [
       "<div>\n",
       "<style scoped>\n",
       "    .dataframe tbody tr th:only-of-type {\n",
       "        vertical-align: middle;\n",
       "    }\n",
       "\n",
       "    .dataframe tbody tr th {\n",
       "        vertical-align: top;\n",
       "    }\n",
       "\n",
       "    .dataframe thead th {\n",
       "        text-align: right;\n",
       "    }\n",
       "</style>\n",
       "<table border=\"1\" class=\"dataframe\">\n",
       "  <thead>\n",
       "    <tr style=\"text-align: right;\">\n",
       "      <th></th>\n",
       "      <th>Base Price</th>\n",
       "      <th>Count</th>\n",
       "    </tr>\n",
       "  </thead>\n",
       "  <tbody>\n",
       "    <tr>\n",
       "      <th>0</th>\n",
       "      <td>1 Cr</td>\n",
       "      <td>33</td>\n",
       "    </tr>\n",
       "    <tr>\n",
       "      <th>1</th>\n",
       "      <td>1.5 Cr</td>\n",
       "      <td>20</td>\n",
       "    </tr>\n",
       "    <tr>\n",
       "      <th>2</th>\n",
       "      <td>2 Cr</td>\n",
       "      <td>48</td>\n",
       "    </tr>\n",
       "    <tr>\n",
       "      <th>3</th>\n",
       "      <td>20 Lakh</td>\n",
       "      <td>344</td>\n",
       "    </tr>\n",
       "    <tr>\n",
       "      <th>4</th>\n",
       "      <td>30 Lakh</td>\n",
       "      <td>9</td>\n",
       "    </tr>\n",
       "    <tr>\n",
       "      <th>5</th>\n",
       "      <td>40 Lakh</td>\n",
       "      <td>16</td>\n",
       "    </tr>\n",
       "    <tr>\n",
       "      <th>6</th>\n",
       "      <td>50 Lakh</td>\n",
       "      <td>104</td>\n",
       "    </tr>\n",
       "    <tr>\n",
       "      <th>7</th>\n",
       "      <td>75 Lakh</td>\n",
       "      <td>26</td>\n",
       "    </tr>\n",
       "    <tr>\n",
       "      <th>8</th>\n",
       "      <td>Draft Pick</td>\n",
       "      <td>6</td>\n",
       "    </tr>\n",
       "    <tr>\n",
       "      <th>9</th>\n",
       "      <td>Retained</td>\n",
       "      <td>27</td>\n",
       "    </tr>\n",
       "  </tbody>\n",
       "</table>\n",
       "</div>"
      ],
      "text/plain": [
       "   Base Price  Count\n",
       "0        1 Cr     33\n",
       "1      1.5 Cr     20\n",
       "2        2 Cr     48\n",
       "3     20 Lakh    344\n",
       "4     30 Lakh      9\n",
       "5     40 Lakh     16\n",
       "6     50 Lakh    104\n",
       "7     75 Lakh     26\n",
       "8  Draft Pick      6\n",
       "9    Retained     27"
      ]
     },
     "execution_count": 224,
     "metadata": {},
     "output_type": "execute_result"
    }
   ],
   "source": [
    "df.groupby('Base Price').size().reset_index().rename(columns={0:'Count'})"
   ]
  },
  {
   "cell_type": "code",
   "execution_count": 225,
   "metadata": {},
   "outputs": [],
   "source": [
    "#Ovservation\n",
    "# 1) 27 Players are retained by teams\n",
    "# 2) 6 Players are Draft Pick"
   ]
  },
  {
   "cell_type": "code",
   "execution_count": 226,
   "metadata": {},
   "outputs": [
    {
     "data": {
      "text/html": [
       "<div>\n",
       "<style scoped>\n",
       "    .dataframe tbody tr th:only-of-type {\n",
       "        vertical-align: middle;\n",
       "    }\n",
       "\n",
       "    .dataframe tbody tr th {\n",
       "        vertical-align: top;\n",
       "    }\n",
       "\n",
       "    .dataframe thead th {\n",
       "        text-align: right;\n",
       "    }\n",
       "</style>\n",
       "<table border=\"1\" class=\"dataframe\">\n",
       "  <thead>\n",
       "    <tr style=\"text-align: right;\">\n",
       "      <th></th>\n",
       "      <th>TYPE</th>\n",
       "      <th>Count</th>\n",
       "    </tr>\n",
       "  </thead>\n",
       "  <tbody>\n",
       "    <tr>\n",
       "      <th>0</th>\n",
       "      <td>ALL-ROUNDER</td>\n",
       "      <td>242</td>\n",
       "    </tr>\n",
       "    <tr>\n",
       "      <th>1</th>\n",
       "      <td>BATTER</td>\n",
       "      <td>112</td>\n",
       "    </tr>\n",
       "    <tr>\n",
       "      <th>2</th>\n",
       "      <td>BOWLER</td>\n",
       "      <td>215</td>\n",
       "    </tr>\n",
       "    <tr>\n",
       "      <th>3</th>\n",
       "      <td>WICKETKEEPER</td>\n",
       "      <td>64</td>\n",
       "    </tr>\n",
       "  </tbody>\n",
       "</table>\n",
       "</div>"
      ],
      "text/plain": [
       "           TYPE  Count\n",
       "0   ALL-ROUNDER    242\n",
       "1        BATTER    112\n",
       "2        BOWLER    215\n",
       "3  WICKETKEEPER     64"
      ]
     },
     "execution_count": 226,
     "metadata": {},
     "output_type": "execute_result"
    }
   ],
   "source": [
    "P = df.groupby('TYPE').size().reset_index().rename(columns={0:'Count'})\n",
    "P"
   ]
  },
  {
   "cell_type": "code",
   "execution_count": 227,
   "metadata": {},
   "outputs": [
    {
     "data": {
      "text/plain": [
       "<BarContainer object of 4 artists>"
      ]
     },
     "execution_count": 227,
     "metadata": {},
     "output_type": "execute_result"
    },
    {
     "data": {
      "image/png": "[encoded data removed]",
      "text/plain": [
       "<Figure size 432x288 with 1 Axes>"
      ]
     },
     "metadata": {
      "needs_background": "light"
     },
     "output_type": "display_data"
    }
   ],
   "source": [
    "plt.bar(x = P['TYPE'], height = P['Count'])"
   ]
  },
  {
   "cell_type": "code",
   "execution_count": 228,
   "metadata": {},
   "outputs": [],
   "source": [
    "P1 = df[df['Team']!='Unsold']"
   ]
  },
  {
   "cell_type": "code",
   "execution_count": 229,
   "metadata": {},
   "outputs": [
    {
     "data": {
      "text/html": [
       "<div>\n",
       "<style scoped>\n",
       "    .dataframe tbody tr th:only-of-type {\n",
       "        vertical-align: middle;\n",
       "    }\n",
       "\n",
       "    .dataframe tbody tr th {\n",
       "        vertical-align: top;\n",
       "    }\n",
       "\n",
       "    .dataframe thead th {\n",
       "        text-align: right;\n",
       "    }\n",
       "</style>\n",
       "<table border=\"1\" class=\"dataframe\">\n",
       "  <thead>\n",
       "    <tr style=\"text-align: right;\">\n",
       "      <th></th>\n",
       "      <th>Team</th>\n",
       "      <th>Count</th>\n",
       "    </tr>\n",
       "  </thead>\n",
       "  <tbody>\n",
       "    <tr>\n",
       "      <th>0</th>\n",
       "      <td>Chennai Super Kings</td>\n",
       "      <td>25</td>\n",
       "    </tr>\n",
       "    <tr>\n",
       "      <th>1</th>\n",
       "      <td>Delhi Capitals</td>\n",
       "      <td>24</td>\n",
       "    </tr>\n",
       "    <tr>\n",
       "      <th>2</th>\n",
       "      <td>Gujarat Titans</td>\n",
       "      <td>22</td>\n",
       "    </tr>\n",
       "    <tr>\n",
       "      <th>3</th>\n",
       "      <td>Kolkata Knight Riders</td>\n",
       "      <td>25</td>\n",
       "    </tr>\n",
       "    <tr>\n",
       "      <th>4</th>\n",
       "      <td>Lucknow Super Giants</td>\n",
       "      <td>22</td>\n",
       "    </tr>\n",
       "    <tr>\n",
       "      <th>5</th>\n",
       "      <td>Mumbai Indians</td>\n",
       "      <td>25</td>\n",
       "    </tr>\n",
       "    <tr>\n",
       "      <th>6</th>\n",
       "      <td>Punjab Kings</td>\n",
       "      <td>25</td>\n",
       "    </tr>\n",
       "    <tr>\n",
       "      <th>7</th>\n",
       "      <td>Rajasthan Royals</td>\n",
       "      <td>24</td>\n",
       "    </tr>\n",
       "    <tr>\n",
       "      <th>8</th>\n",
       "      <td>Royal Challengers Bangalore</td>\n",
       "      <td>22</td>\n",
       "    </tr>\n",
       "    <tr>\n",
       "      <th>9</th>\n",
       "      <td>Sunrisers Hyderabad</td>\n",
       "      <td>23</td>\n",
       "    </tr>\n",
       "  </tbody>\n",
       "</table>\n",
       "</div>"
      ],
      "text/plain": [
       "                          Team  Count\n",
       "0          Chennai Super Kings     25\n",
       "1               Delhi Capitals     24\n",
       "2               Gujarat Titans     22\n",
       "3        Kolkata Knight Riders     25\n",
       "4         Lucknow Super Giants     22\n",
       "5               Mumbai Indians     25\n",
       "6                 Punjab Kings     25\n",
       "7             Rajasthan Royals     24\n",
       "8  Royal Challengers Bangalore     22\n",
       "9          Sunrisers Hyderabad     23"
      ]
     },
     "execution_count": 229,
     "metadata": {},
     "output_type": "execute_result"
    }
   ],
   "source": [
    "P1.groupby('Team').size().reset_index().rename(columns={0:'Count'})"
   ]
  },
  {
   "cell_type": "code",
   "execution_count": 230,
   "metadata": {},
   "outputs": [
    {
     "data": {
      "text/html": [
       "<div>\n",
       "<style scoped>\n",
       "    .dataframe tbody tr th:only-of-type {\n",
       "        vertical-align: middle;\n",
       "    }\n",
       "\n",
       "    .dataframe tbody tr th {\n",
       "        vertical-align: top;\n",
       "    }\n",
       "\n",
       "    .dataframe thead th {\n",
       "        text-align: right;\n",
       "    }\n",
       "</style>\n",
       "<table border=\"1\" class=\"dataframe\">\n",
       "  <thead>\n",
       "    <tr style=\"text-align: right;\">\n",
       "      <th></th>\n",
       "      <th>TYPE</th>\n",
       "      <th>Count</th>\n",
       "    </tr>\n",
       "  </thead>\n",
       "  <tbody>\n",
       "    <tr>\n",
       "      <th>0</th>\n",
       "      <td>ALL-ROUNDER</td>\n",
       "      <td>88</td>\n",
       "    </tr>\n",
       "    <tr>\n",
       "      <th>1</th>\n",
       "      <td>BATTER</td>\n",
       "      <td>45</td>\n",
       "    </tr>\n",
       "    <tr>\n",
       "      <th>2</th>\n",
       "      <td>BOWLER</td>\n",
       "      <td>77</td>\n",
       "    </tr>\n",
       "    <tr>\n",
       "      <th>3</th>\n",
       "      <td>WICKETKEEPER</td>\n",
       "      <td>27</td>\n",
       "    </tr>\n",
       "  </tbody>\n",
       "</table>\n",
       "</div>"
      ],
      "text/plain": [
       "           TYPE  Count\n",
       "0   ALL-ROUNDER     88\n",
       "1        BATTER     45\n",
       "2        BOWLER     77\n",
       "3  WICKETKEEPER     27"
      ]
     },
     "execution_count": 230,
     "metadata": {},
     "output_type": "execute_result"
    }
   ],
   "source": [
    "P2 = P1.groupby('TYPE').size().reset_index().rename(columns={0:'Count'})\n",
    "P2"
   ]
  },
  {
   "cell_type": "code",
   "execution_count": 231,
   "metadata": {},
   "outputs": [
    {
     "data": {
      "text/plain": [
       "<AxesSubplot: ylabel='Team'>"
      ]
     },
     "execution_count": 231,
     "metadata": {},
     "output_type": "execute_result"
    },
    {
     "data": {
      "image/png": "[encoded data removed]",
      "text/plain": [
       "<Figure size 432x288 with 1 Axes>"
      ]
     },
     "metadata": {},
     "output_type": "display_data"
    }
   ],
   "source": [
    "P1['Team'].value_counts().plot(kind = 'pie', autopct = \"%.2f%%\",labels = P1.Team.value_counts().index)"
   ]
  },
  {
   "cell_type": "code",
   "execution_count": 232,
   "metadata": {},
   "outputs": [
    {
     "data": {
      "text/plain": [
       "TYPE     ALL-ROUNDERBATTERBOWLERWICKETKEEPER\n",
       "Count                                    237\n",
       "dtype: object"
      ]
     },
     "execution_count": 232,
     "metadata": {},
     "output_type": "execute_result"
    }
   ],
   "source": [
    "P2.sum()"
   ]
  },
  {
   "cell_type": "code",
   "execution_count": 233,
   "metadata": {},
   "outputs": [
    {
     "data": {
      "text/plain": [
       "Unnamed: 0         633\n",
       "Player             633\n",
       "Base Price         633\n",
       "TYPE               633\n",
       "COST IN ₹ (CR.)    237\n",
       "Cost IN $ (000)    237\n",
       "2021 Squad         199\n",
       "Team               633\n",
       "dtype: int64"
      ]
     },
     "execution_count": 233,
     "metadata": {},
     "output_type": "execute_result"
    }
   ],
   "source": [
    "df.count()\n"
   ]
  },
  {
   "cell_type": "code",
   "execution_count": 234,
   "metadata": {},
   "outputs": [
    {
     "data": {
      "text/plain": [
       "<BarContainer object of 4 artists>"
      ]
     },
     "execution_count": 234,
     "metadata": {},
     "output_type": "execute_result"
    },
    {
     "data": {
      "image/png": "[encoded data removed]",
      "text/plain": [
       "<Figure size 432x288 with 1 Axes>"
      ]
     },
     "metadata": {
      "needs_background": "light"
     },
     "output_type": "display_data"
    }
   ],
   "source": [
    "plt.bar(x = P2['TYPE'],height = P2['Count'])"
   ]
  },
  {
   "cell_type": "code",
   "execution_count": 235,
   "metadata": {},
   "outputs": [],
   "source": [
    "# OBSERVATION\n",
    "# a)88 All rounders were sold out of 242 i.e 36.36%.\n",
    "# b)45 Batters were sold out of 112 i.e 40.17%.\n",
    "# c)77 Bowlers were sold out of 215 i.e 35.81%.\n",
    "# d)27 Wicket Keepers were sold out of 64 i.e 42.18 %.\n",
    "#WE infer that Wicket Keepers has the highest percentage of getting sold."
   ]
  },
  {
   "attachments": {},
   "cell_type": "markdown",
   "metadata": {},
   "source": [
    "All - Rounders"
   ]
  },
  {
   "cell_type": "code",
   "execution_count": 236,
   "metadata": {},
   "outputs": [
    {
     "data": {
      "text/html": [
       "<div>\n",
       "<style scoped>\n",
       "    .dataframe tbody tr th:only-of-type {\n",
       "        vertical-align: middle;\n",
       "    }\n",
       "\n",
       "    .dataframe tbody tr th {\n",
       "        vertical-align: top;\n",
       "    }\n",
       "\n",
       "    .dataframe thead th {\n",
       "        text-align: right;\n",
       "    }\n",
       "</style>\n",
       "<table border=\"1\" class=\"dataframe\">\n",
       "  <thead>\n",
       "    <tr style=\"text-align: right;\">\n",
       "      <th></th>\n",
       "      <th>Unnamed: 0</th>\n",
       "      <th>Player</th>\n",
       "      <th>Base Price</th>\n",
       "      <th>TYPE</th>\n",
       "      <th>COST IN ₹ (CR.)</th>\n",
       "      <th>Cost IN $ (000)</th>\n",
       "      <th>2021 Squad</th>\n",
       "      <th>Team</th>\n",
       "    </tr>\n",
       "  </thead>\n",
       "  <tbody>\n",
       "    <tr>\n",
       "      <th>1</th>\n",
       "      <td>1</td>\n",
       "      <td>Hardik Pandya</td>\n",
       "      <td>Draft Pick</td>\n",
       "      <td>ALL-ROUNDER</td>\n",
       "      <td>15.0</td>\n",
       "      <td>1950.0</td>\n",
       "      <td>MI</td>\n",
       "      <td>Gujarat Titans</td>\n",
       "    </tr>\n",
       "    <tr>\n",
       "      <th>3</th>\n",
       "      <td>3</td>\n",
       "      <td>Rahul Tewatia</td>\n",
       "      <td>40 Lakh</td>\n",
       "      <td>ALL-ROUNDER</td>\n",
       "      <td>9.0</td>\n",
       "      <td>1170.0</td>\n",
       "      <td>RR</td>\n",
       "      <td>Gujarat Titans</td>\n",
       "    </tr>\n",
       "    <tr>\n",
       "      <th>14</th>\n",
       "      <td>14</td>\n",
       "      <td>Jayant Yadav</td>\n",
       "      <td>1 Cr</td>\n",
       "      <td>ALL-ROUNDER</td>\n",
       "      <td>1.7</td>\n",
       "      <td>221.0</td>\n",
       "      <td>MI</td>\n",
       "      <td>Gujarat Titans</td>\n",
       "    </tr>\n",
       "    <tr>\n",
       "      <th>15</th>\n",
       "      <td>15</td>\n",
       "      <td>Vijay Shankar</td>\n",
       "      <td>50 Lakh</td>\n",
       "      <td>ALL-ROUNDER</td>\n",
       "      <td>1.4</td>\n",
       "      <td>182.0</td>\n",
       "      <td>SRH</td>\n",
       "      <td>Gujarat Titans</td>\n",
       "    </tr>\n",
       "    <tr>\n",
       "      <th>16</th>\n",
       "      <td>16</td>\n",
       "      <td>Dominic Drakes</td>\n",
       "      <td>75 Lakh</td>\n",
       "      <td>ALL-ROUNDER</td>\n",
       "      <td>1.1</td>\n",
       "      <td>143.0</td>\n",
       "      <td>CSK</td>\n",
       "      <td>Gujarat Titans</td>\n",
       "    </tr>\n",
       "  </tbody>\n",
       "</table>\n",
       "</div>"
      ],
      "text/plain": [
       "    Unnamed: 0          Player  Base Price         TYPE  COST IN ₹ (CR.)  \\\n",
       "1            1   Hardik Pandya  Draft Pick  ALL-ROUNDER             15.0   \n",
       "3            3   Rahul Tewatia     40 Lakh  ALL-ROUNDER              9.0   \n",
       "14          14    Jayant Yadav        1 Cr  ALL-ROUNDER              1.7   \n",
       "15          15   Vijay Shankar     50 Lakh  ALL-ROUNDER              1.4   \n",
       "16          16  Dominic Drakes     75 Lakh  ALL-ROUNDER              1.1   \n",
       "\n",
       "    Cost IN $ (000) 2021 Squad            Team  \n",
       "1            1950.0         MI  Gujarat Titans  \n",
       "3            1170.0         RR  Gujarat Titans  \n",
       "14            221.0         MI  Gujarat Titans  \n",
       "15            182.0        SRH  Gujarat Titans  \n",
       "16            143.0        CSK  Gujarat Titans  "
      ]
     },
     "execution_count": 236,
     "metadata": {},
     "output_type": "execute_result"
    }
   ],
   "source": [
    "AR = P1.loc[P1['TYPE']=='ALL-ROUNDER']\n",
    "AR.head()"
   ]
  },
  {
   "cell_type": "code",
   "execution_count": 237,
   "metadata": {},
   "outputs": [
    {
     "data": {
      "text/html": [
       "<div>\n",
       "<style scoped>\n",
       "    .dataframe tbody tr th:only-of-type {\n",
       "        vertical-align: middle;\n",
       "    }\n",
       "\n",
       "    .dataframe tbody tr th {\n",
       "        vertical-align: top;\n",
       "    }\n",
       "\n",
       "    .dataframe thead th {\n",
       "        text-align: right;\n",
       "    }\n",
       "</style>\n",
       "<table border=\"1\" class=\"dataframe\">\n",
       "  <thead>\n",
       "    <tr style=\"text-align: right;\">\n",
       "      <th></th>\n",
       "      <th>sum</th>\n",
       "      <th>count</th>\n",
       "    </tr>\n",
       "    <tr>\n",
       "      <th>Team</th>\n",
       "      <th></th>\n",
       "      <th></th>\n",
       "    </tr>\n",
       "  </thead>\n",
       "  <tbody>\n",
       "    <tr>\n",
       "      <th>Chennai Super Kings</th>\n",
       "      <td>40.10</td>\n",
       "      <td>9</td>\n",
       "    </tr>\n",
       "    <tr>\n",
       "      <th>Delhi Capitals</th>\n",
       "      <td>18.85</td>\n",
       "      <td>9</td>\n",
       "    </tr>\n",
       "    <tr>\n",
       "      <th>Gujarat Titans</th>\n",
       "      <td>29.10</td>\n",
       "      <td>8</td>\n",
       "    </tr>\n",
       "    <tr>\n",
       "      <th>Kolkata Knight Riders</th>\n",
       "      <td>50.40</td>\n",
       "      <td>10</td>\n",
       "    </tr>\n",
       "    <tr>\n",
       "      <th>Lucknow Super Giants</th>\n",
       "      <td>33.95</td>\n",
       "      <td>9</td>\n",
       "    </tr>\n",
       "    <tr>\n",
       "      <th>Mumbai Indians</th>\n",
       "      <td>28.70</td>\n",
       "      <td>11</td>\n",
       "    </tr>\n",
       "    <tr>\n",
       "      <th>Punjab Kings</th>\n",
       "      <td>34.05</td>\n",
       "      <td>11</td>\n",
       "    </tr>\n",
       "    <tr>\n",
       "      <th>Rajasthan Royals</th>\n",
       "      <td>11.45</td>\n",
       "      <td>6</td>\n",
       "    </tr>\n",
       "    <tr>\n",
       "      <th>Royal Challengers Bangalore</th>\n",
       "      <td>39.35</td>\n",
       "      <td>9</td>\n",
       "    </tr>\n",
       "    <tr>\n",
       "      <th>Sunrisers Hyderabad</th>\n",
       "      <td>31.40</td>\n",
       "      <td>6</td>\n",
       "    </tr>\n",
       "  </tbody>\n",
       "</table>\n",
       "</div>"
      ],
      "text/plain": [
       "                               sum  count\n",
       "Team                                     \n",
       "Chennai Super Kings          40.10      9\n",
       "Delhi Capitals               18.85      9\n",
       "Gujarat Titans               29.10      8\n",
       "Kolkata Knight Riders        50.40     10\n",
       "Lucknow Super Giants         33.95      9\n",
       "Mumbai Indians               28.70     11\n",
       "Punjab Kings                 34.05     11\n",
       "Rajasthan Royals             11.45      6\n",
       "Royal Challengers Bangalore  39.35      9\n",
       "Sunrisers Hyderabad          31.40      6"
      ]
     },
     "execution_count": 237,
     "metadata": {},
     "output_type": "execute_result"
    }
   ],
   "source": [
    "AR.groupby('Team')['COST IN ₹ (CR.)'].agg(['sum','count'])"
   ]
  },
  {
   "cell_type": "code",
   "execution_count": 238,
   "metadata": {},
   "outputs": [
    {
     "data": {
      "text/plain": [
       "<AxesSubplot: xlabel='Team'>"
      ]
     },
     "execution_count": 238,
     "metadata": {},
     "output_type": "execute_result"
    },
    {
     "data": {
      "image/png": "[encoded data removed]",
      "text/plain": [
       "<Figure size 432x288 with 1 Axes>"
      ]
     },
     "metadata": {
      "needs_background": "light"
     },
     "output_type": "display_data"
    }
   ],
   "source": [
    "cl1 = ['yellow','blue','blue','purple','cyan','blue','red','pink','red','orange']\n",
    "AR.groupby('Team')['COST IN ₹ (CR.)'].agg(['sum','count']).plot(kind='bar')\n",
    "\n"
   ]
  },
  {
   "cell_type": "code",
   "execution_count": 239,
   "metadata": {},
   "outputs": [],
   "source": [
    "#Observation\n",
    "#a)Maximum number of all rounders are bought by 2 teams Mumbai Indians and Punjab Kings i.e 11 all rounders\n",
    "#b)Maximum money spent on all rounder is by Chennai Super kings that is 40.10 cr."
   ]
  },
  {
   "attachments": {},
   "cell_type": "markdown",
   "metadata": {},
   "source": [
    "Batters"
   ]
  },
  {
   "cell_type": "code",
   "execution_count": 240,
   "metadata": {},
   "outputs": [],
   "source": [
    "BT = P1.loc[P1['TYPE']=='BATTER']"
   ]
  },
  {
   "cell_type": "code",
   "execution_count": 241,
   "metadata": {},
   "outputs": [
    {
     "data": {
      "text/html": [
       "<div>\n",
       "<style scoped>\n",
       "    .dataframe tbody tr th:only-of-type {\n",
       "        vertical-align: middle;\n",
       "    }\n",
       "\n",
       "    .dataframe tbody tr th {\n",
       "        vertical-align: top;\n",
       "    }\n",
       "\n",
       "    .dataframe thead th {\n",
       "        text-align: right;\n",
       "    }\n",
       "</style>\n",
       "<table border=\"1\" class=\"dataframe\">\n",
       "  <thead>\n",
       "    <tr style=\"text-align: right;\">\n",
       "      <th></th>\n",
       "      <th>sum</th>\n",
       "      <th>count</th>\n",
       "    </tr>\n",
       "    <tr>\n",
       "      <th>Team</th>\n",
       "      <th></th>\n",
       "      <th></th>\n",
       "    </tr>\n",
       "  </thead>\n",
       "  <tbody>\n",
       "    <tr>\n",
       "      <th>Chennai Super Kings</th>\n",
       "      <td>9.40</td>\n",
       "      <td>5</td>\n",
       "    </tr>\n",
       "    <tr>\n",
       "      <th>Delhi Capitals</th>\n",
       "      <td>17.85</td>\n",
       "      <td>5</td>\n",
       "    </tr>\n",
       "    <tr>\n",
       "      <th>Gujarat Titans</th>\n",
       "      <td>15.60</td>\n",
       "      <td>4</td>\n",
       "    </tr>\n",
       "    <tr>\n",
       "      <th>Kolkata Knight Riders</th>\n",
       "      <td>16.10</td>\n",
       "      <td>7</td>\n",
       "    </tr>\n",
       "    <tr>\n",
       "      <th>Lucknow Super Giants</th>\n",
       "      <td>6.80</td>\n",
       "      <td>3</td>\n",
       "    </tr>\n",
       "    <tr>\n",
       "      <th>Mumbai Indians</th>\n",
       "      <td>27.40</td>\n",
       "      <td>5</td>\n",
       "    </tr>\n",
       "    <tr>\n",
       "      <th>Punjab Kings</th>\n",
       "      <td>20.75</td>\n",
       "      <td>3</td>\n",
       "    </tr>\n",
       "    <tr>\n",
       "      <th>Rajasthan Royals</th>\n",
       "      <td>22.65</td>\n",
       "      <td>5</td>\n",
       "    </tr>\n",
       "    <tr>\n",
       "      <th>Royal Challengers Bangalore</th>\n",
       "      <td>22.80</td>\n",
       "      <td>3</td>\n",
       "    </tr>\n",
       "    <tr>\n",
       "      <th>Sunrisers Hyderabad</th>\n",
       "      <td>25.50</td>\n",
       "      <td>5</td>\n",
       "    </tr>\n",
       "  </tbody>\n",
       "</table>\n",
       "</div>"
      ],
      "text/plain": [
       "                               sum  count\n",
       "Team                                     \n",
       "Chennai Super Kings           9.40      5\n",
       "Delhi Capitals               17.85      5\n",
       "Gujarat Titans               15.60      4\n",
       "Kolkata Knight Riders        16.10      7\n",
       "Lucknow Super Giants          6.80      3\n",
       "Mumbai Indians               27.40      5\n",
       "Punjab Kings                 20.75      3\n",
       "Rajasthan Royals             22.65      5\n",
       "Royal Challengers Bangalore  22.80      3\n",
       "Sunrisers Hyderabad          25.50      5"
      ]
     },
     "execution_count": 241,
     "metadata": {},
     "output_type": "execute_result"
    }
   ],
   "source": [
    "BT.groupby('Team')['COST IN ₹ (CR.)'].agg(['sum','count'])"
   ]
  },
  {
   "cell_type": "code",
   "execution_count": 242,
   "metadata": {},
   "outputs": [
    {
     "data": {
      "text/plain": [
       "<AxesSubplot: xlabel='Team'>"
      ]
     },
     "execution_count": 242,
     "metadata": {},
     "output_type": "execute_result"
    },
    {
     "data": {
      "image/png": "[encoded data removed]",
      "text/plain": [
       "<Figure size 432x288 with 1 Axes>"
      ]
     },
     "metadata": {
      "needs_background": "light"
     },
     "output_type": "display_data"
    }
   ],
   "source": [
    "BT.groupby('Team')['COST IN ₹ (CR.)'].agg(['sum','count']).plot(kind = 'bar')"
   ]
  },
  {
   "cell_type": "code",
   "execution_count": 243,
   "metadata": {},
   "outputs": [],
   "source": [
    "#Observation\n",
    "# 1) Maximum batters are bought by Kolkata Knight Riders\n",
    "# 2)Maximum money spent on batters is by Mumbai Indians that is 27.40 cr"
   ]
  },
  {
   "attachments": {},
   "cell_type": "markdown",
   "metadata": {},
   "source": [
    "Bowlers\n"
   ]
  },
  {
   "cell_type": "code",
   "execution_count": 244,
   "metadata": {},
   "outputs": [],
   "source": [
    "BW = P1.loc[P1['TYPE']=='BOWLER']"
   ]
  },
  {
   "cell_type": "code",
   "execution_count": 245,
   "metadata": {},
   "outputs": [
    {
     "data": {
      "text/html": [
       "<div>\n",
       "<style scoped>\n",
       "    .dataframe tbody tr th:only-of-type {\n",
       "        vertical-align: middle;\n",
       "    }\n",
       "\n",
       "    .dataframe tbody tr th {\n",
       "        vertical-align: top;\n",
       "    }\n",
       "\n",
       "    .dataframe thead th {\n",
       "        text-align: right;\n",
       "    }\n",
       "</style>\n",
       "<table border=\"1\" class=\"dataframe\">\n",
       "  <thead>\n",
       "    <tr style=\"text-align: right;\">\n",
       "      <th></th>\n",
       "      <th>sum</th>\n",
       "      <th>count</th>\n",
       "    </tr>\n",
       "    <tr>\n",
       "      <th>Team</th>\n",
       "      <th></th>\n",
       "      <th></th>\n",
       "    </tr>\n",
       "  </thead>\n",
       "  <tbody>\n",
       "    <tr>\n",
       "      <th>Chennai Super Kings</th>\n",
       "      <td>18.60</td>\n",
       "      <td>8</td>\n",
       "    </tr>\n",
       "    <tr>\n",
       "      <th>Delhi Capitals</th>\n",
       "      <td>31.20</td>\n",
       "      <td>7</td>\n",
       "    </tr>\n",
       "    <tr>\n",
       "      <th>Gujarat Titans</th>\n",
       "      <td>40.65</td>\n",
       "      <td>8</td>\n",
       "    </tr>\n",
       "    <tr>\n",
       "      <th>Kolkata Knight Riders</th>\n",
       "      <td>12.25</td>\n",
       "      <td>5</td>\n",
       "    </tr>\n",
       "    <tr>\n",
       "      <th>Lucknow Super Giants</th>\n",
       "      <td>24.90</td>\n",
       "      <td>8</td>\n",
       "    </tr>\n",
       "    <tr>\n",
       "      <th>Mumbai Indians</th>\n",
       "      <td>18.35</td>\n",
       "      <td>7</td>\n",
       "    </tr>\n",
       "    <tr>\n",
       "      <th>Punjab Kings</th>\n",
       "      <td>22.20</td>\n",
       "      <td>8</td>\n",
       "    </tr>\n",
       "    <tr>\n",
       "      <th>Rajasthan Royals</th>\n",
       "      <td>30.75</td>\n",
       "      <td>10</td>\n",
       "    </tr>\n",
       "    <tr>\n",
       "      <th>Royal Challengers Bangalore</th>\n",
       "      <td>17.20</td>\n",
       "      <td>7</td>\n",
       "    </tr>\n",
       "    <tr>\n",
       "      <th>Sunrisers Hyderabad</th>\n",
       "      <td>20.25</td>\n",
       "      <td>9</td>\n",
       "    </tr>\n",
       "  </tbody>\n",
       "</table>\n",
       "</div>"
      ],
      "text/plain": [
       "                               sum  count\n",
       "Team                                     \n",
       "Chennai Super Kings          18.60      8\n",
       "Delhi Capitals               31.20      7\n",
       "Gujarat Titans               40.65      8\n",
       "Kolkata Knight Riders        12.25      5\n",
       "Lucknow Super Giants         24.90      8\n",
       "Mumbai Indians               18.35      7\n",
       "Punjab Kings                 22.20      8\n",
       "Rajasthan Royals             30.75     10\n",
       "Royal Challengers Bangalore  17.20      7\n",
       "Sunrisers Hyderabad          20.25      9"
      ]
     },
     "execution_count": 245,
     "metadata": {},
     "output_type": "execute_result"
    }
   ],
   "source": [
    "BW.groupby('Team')['COST IN ₹ (CR.)'].agg(['sum','count'])"
   ]
  },
  {
   "cell_type": "code",
   "execution_count": 246,
   "metadata": {},
   "outputs": [
    {
     "data": {
      "text/plain": [
       "<AxesSubplot: xlabel='Team'>"
      ]
     },
     "execution_count": 246,
     "metadata": {},
     "output_type": "execute_result"
    },
    {
     "data": {
      "image/png": "[encoded data removed]",
      "text/plain": [
       "<Figure size 432x288 with 1 Axes>"
      ]
     },
     "metadata": {
      "needs_background": "light"
     },
     "output_type": "display_data"
    }
   ],
   "source": [
    "BW.groupby('Team')['COST IN ₹ (CR.)'].agg(['sum','count']).plot(kind = 'bar')"
   ]
  },
  {
   "cell_type": "code",
   "execution_count": 247,
   "metadata": {},
   "outputs": [],
   "source": [
    "#Observation\n",
    "#a)Maximum bowlers are bought by Rajasthan Royals\n",
    "#b)Maximum money is spwnt on bowlers is 40.65 cr by Gujarat Titans."
   ]
  },
  {
   "attachments": {},
   "cell_type": "markdown",
   "metadata": {},
   "source": [
    "Wicket Keeper\n"
   ]
  },
  {
   "cell_type": "code",
   "execution_count": 248,
   "metadata": {},
   "outputs": [],
   "source": [
    "WK = P1.loc[P1['TYPE']=='WICKETKEEPER']"
   ]
  },
  {
   "cell_type": "code",
   "execution_count": 249,
   "metadata": {},
   "outputs": [
    {
     "data": {
      "text/html": [
       "<div>\n",
       "<style scoped>\n",
       "    .dataframe tbody tr th:only-of-type {\n",
       "        vertical-align: middle;\n",
       "    }\n",
       "\n",
       "    .dataframe tbody tr th {\n",
       "        vertical-align: top;\n",
       "    }\n",
       "\n",
       "    .dataframe thead th {\n",
       "        text-align: right;\n",
       "    }\n",
       "</style>\n",
       "<table border=\"1\" class=\"dataframe\">\n",
       "  <thead>\n",
       "    <tr style=\"text-align: right;\">\n",
       "      <th></th>\n",
       "      <th>sum</th>\n",
       "      <th>count</th>\n",
       "    </tr>\n",
       "    <tr>\n",
       "      <th>Team</th>\n",
       "      <th></th>\n",
       "      <th></th>\n",
       "    </tr>\n",
       "  </thead>\n",
       "  <tbody>\n",
       "    <tr>\n",
       "      <th>Chennai Super Kings</th>\n",
       "      <td>18.95</td>\n",
       "      <td>3</td>\n",
       "    </tr>\n",
       "    <tr>\n",
       "      <th>Delhi Capitals</th>\n",
       "      <td>18.50</td>\n",
       "      <td>3</td>\n",
       "    </tr>\n",
       "    <tr>\n",
       "      <th>Gujarat Titans</th>\n",
       "      <td>4.30</td>\n",
       "      <td>2</td>\n",
       "    </tr>\n",
       "    <tr>\n",
       "      <th>Kolkata Knight Riders</th>\n",
       "      <td>2.80</td>\n",
       "      <td>3</td>\n",
       "    </tr>\n",
       "    <tr>\n",
       "      <th>Lucknow Super Giants</th>\n",
       "      <td>23.75</td>\n",
       "      <td>2</td>\n",
       "    </tr>\n",
       "    <tr>\n",
       "      <th>Mumbai Indians</th>\n",
       "      <td>15.45</td>\n",
       "      <td>2</td>\n",
       "    </tr>\n",
       "    <tr>\n",
       "      <th>Punjab Kings</th>\n",
       "      <td>7.55</td>\n",
       "      <td>3</td>\n",
       "    </tr>\n",
       "    <tr>\n",
       "      <th>Rajasthan Royals</th>\n",
       "      <td>24.20</td>\n",
       "      <td>3</td>\n",
       "    </tr>\n",
       "    <tr>\n",
       "      <th>Royal Challengers Bangalore</th>\n",
       "      <td>9.10</td>\n",
       "      <td>3</td>\n",
       "    </tr>\n",
       "    <tr>\n",
       "      <th>Sunrisers Hyderabad</th>\n",
       "      <td>12.75</td>\n",
       "      <td>3</td>\n",
       "    </tr>\n",
       "  </tbody>\n",
       "</table>\n",
       "</div>"
      ],
      "text/plain": [
       "                               sum  count\n",
       "Team                                     \n",
       "Chennai Super Kings          18.95      3\n",
       "Delhi Capitals               18.50      3\n",
       "Gujarat Titans                4.30      2\n",
       "Kolkata Knight Riders         2.80      3\n",
       "Lucknow Super Giants         23.75      2\n",
       "Mumbai Indians               15.45      2\n",
       "Punjab Kings                  7.55      3\n",
       "Rajasthan Royals             24.20      3\n",
       "Royal Challengers Bangalore   9.10      3\n",
       "Sunrisers Hyderabad          12.75      3"
      ]
     },
     "execution_count": 249,
     "metadata": {},
     "output_type": "execute_result"
    }
   ],
   "source": [
    "WK.groupby('Team')['COST IN ₹ (CR.)'].agg(['sum','count'])"
   ]
  },
  {
   "cell_type": "code",
   "execution_count": 250,
   "metadata": {},
   "outputs": [
    {
     "data": {
      "text/plain": [
       "<AxesSubplot: xlabel='Team'>"
      ]
     },
     "execution_count": 250,
     "metadata": {},
     "output_type": "execute_result"
    },
    {
     "data": {
      "image/png": "[encoded data removed]",
      "text/plain": [
       "<Figure size 432x288 with 1 Axes>"
      ]
     },
     "metadata": {
      "needs_background": "light"
     },
     "output_type": "display_data"
    }
   ],
   "source": [
    "WK.groupby('Team')['COST IN ₹ (CR.)'].agg(['sum','count']).plot(kind = 'bar')"
   ]
  },
  {
   "cell_type": "code",
   "execution_count": 251,
   "metadata": {},
   "outputs": [],
   "source": [
    "#Observation\n",
    "#a)All the teams have 2-3 wicket keepers\n",
    "#b)Maximum money spent on Wiket - Keepers is by Rajasthan Royals."
   ]
  },
  {
   "attachments": {},
   "cell_type": "markdown",
   "metadata": {},
   "source": [
    "Economy\n"
   ]
  },
  {
   "cell_type": "code",
   "execution_count": 252,
   "metadata": {},
   "outputs": [
    {
     "data": {
      "text/plain": [
       "875.9000000000001"
      ]
     },
     "execution_count": 252,
     "metadata": {},
     "output_type": "execute_result"
    }
   ],
   "source": [
    "df['COST IN ₹ (CR.)'].sum()"
   ]
  },
  {
   "cell_type": "code",
   "execution_count": 253,
   "metadata": {},
   "outputs": [
    {
     "data": {
      "text/plain": [
       "17.0"
      ]
     },
     "execution_count": 253,
     "metadata": {},
     "output_type": "execute_result"
    }
   ],
   "source": [
    "df['COST IN ₹ (CR.)'].max()"
   ]
  },
  {
   "cell_type": "code",
   "execution_count": 254,
   "metadata": {},
   "outputs": [
    {
     "data": {
      "text/plain": [
       "3.6957805907173"
      ]
     },
     "execution_count": 254,
     "metadata": {},
     "output_type": "execute_result"
    }
   ],
   "source": [
    "df['COST IN ₹ (CR.)'].mean()"
   ]
  },
  {
   "cell_type": "code",
   "execution_count": 255,
   "metadata": {},
   "outputs": [
    {
     "data": {
      "text/plain": [
       "4.238091881863017"
      ]
     },
     "execution_count": 255,
     "metadata": {},
     "output_type": "execute_result"
    }
   ],
   "source": [
    "df['COST IN ₹ (CR.)'].std()"
   ]
  },
  {
   "cell_type": "code",
   "execution_count": 256,
   "metadata": {},
   "outputs": [],
   "source": [
    "#OBSERVATION\n",
    "#1)Total money spent in this auction by teams was a sum of 875.9 cr\n",
    "#2)Maximum money spent among all players is 17 cr\n",
    "#3)Mean of all money spent in is 3.695 cr\n",
    "#4)Standard deviation is 4.23 cr."
   ]
  },
  {
   "cell_type": "code",
   "execution_count": 257,
   "metadata": {},
   "outputs": [
    {
     "data": {
      "text/plain": [
       "<AxesSubplot: ylabel='Team'>"
      ]
     },
     "execution_count": 257,
     "metadata": {},
     "output_type": "execute_result"
    },
    {
     "data": {
      "image/png": "[encoded data removed]",
      "text/plain": [
       "<Figure size 864x864 with 1 Axes>"
      ]
     },
     "metadata": {},
     "output_type": "display_data"
    }
   ],
   "source": [
    "plt.rcParams['figure.figsize'] = (12,12)\n",
    "df['Team'].value_counts().plot(kind = 'pie', autopct = \"%.2f%%\",labels = df.Team.value_counts().index)"
   ]
  },
  {
   "cell_type": "code",
   "execution_count": 258,
   "metadata": {},
   "outputs": [
    {
     "data": {
      "text/html": [
       "<div>\n",
       "<style scoped>\n",
       "    .dataframe tbody tr th:only-of-type {\n",
       "        vertical-align: middle;\n",
       "    }\n",
       "\n",
       "    .dataframe tbody tr th {\n",
       "        vertical-align: top;\n",
       "    }\n",
       "\n",
       "    .dataframe thead th {\n",
       "        text-align: right;\n",
       "    }\n",
       "</style>\n",
       "<table border=\"1\" class=\"dataframe\">\n",
       "  <thead>\n",
       "    <tr style=\"text-align: right;\">\n",
       "      <th></th>\n",
       "      <th>Team</th>\n",
       "      <th>Count</th>\n",
       "    </tr>\n",
       "  </thead>\n",
       "  <tbody>\n",
       "    <tr>\n",
       "      <th>0</th>\n",
       "      <td>Chennai Super Kings</td>\n",
       "      <td>25</td>\n",
       "    </tr>\n",
       "    <tr>\n",
       "      <th>1</th>\n",
       "      <td>Delhi Capitals</td>\n",
       "      <td>24</td>\n",
       "    </tr>\n",
       "    <tr>\n",
       "      <th>2</th>\n",
       "      <td>Gujarat Titans</td>\n",
       "      <td>22</td>\n",
       "    </tr>\n",
       "    <tr>\n",
       "      <th>3</th>\n",
       "      <td>Kolkata Knight Riders</td>\n",
       "      <td>25</td>\n",
       "    </tr>\n",
       "    <tr>\n",
       "      <th>4</th>\n",
       "      <td>Lucknow Super Giants</td>\n",
       "      <td>22</td>\n",
       "    </tr>\n",
       "    <tr>\n",
       "      <th>5</th>\n",
       "      <td>Mumbai Indians</td>\n",
       "      <td>25</td>\n",
       "    </tr>\n",
       "    <tr>\n",
       "      <th>6</th>\n",
       "      <td>Punjab Kings</td>\n",
       "      <td>25</td>\n",
       "    </tr>\n",
       "    <tr>\n",
       "      <th>7</th>\n",
       "      <td>Rajasthan Royals</td>\n",
       "      <td>24</td>\n",
       "    </tr>\n",
       "    <tr>\n",
       "      <th>8</th>\n",
       "      <td>Royal Challengers Bangalore</td>\n",
       "      <td>22</td>\n",
       "    </tr>\n",
       "    <tr>\n",
       "      <th>9</th>\n",
       "      <td>Sunrisers Hyderabad</td>\n",
       "      <td>23</td>\n",
       "    </tr>\n",
       "    <tr>\n",
       "      <th>10</th>\n",
       "      <td>Unsold</td>\n",
       "      <td>396</td>\n",
       "    </tr>\n",
       "  </tbody>\n",
       "</table>\n",
       "</div>"
      ],
      "text/plain": [
       "                           Team  Count\n",
       "0           Chennai Super Kings     25\n",
       "1                Delhi Capitals     24\n",
       "2                Gujarat Titans     22\n",
       "3         Kolkata Knight Riders     25\n",
       "4          Lucknow Super Giants     22\n",
       "5                Mumbai Indians     25\n",
       "6                  Punjab Kings     25\n",
       "7              Rajasthan Royals     24\n",
       "8   Royal Challengers Bangalore     22\n",
       "9           Sunrisers Hyderabad     23\n",
       "10                       Unsold    396"
      ]
     },
     "execution_count": 258,
     "metadata": {},
     "output_type": "execute_result"
    }
   ],
   "source": [
    "team = df.groupby('Team').size().reset_index().rename(columns={0:'Count'})\n",
    "team"
   ]
  },
  {
   "cell_type": "code",
   "execution_count": 259,
   "metadata": {},
   "outputs": [
    {
     "data": {
      "text/plain": [
       "<BarContainer object of 11 artists>"
      ]
     },
     "execution_count": 259,
     "metadata": {},
     "output_type": "execute_result"
    },
    {
     "data": {
      "image/png": "[encoded data removed]",
      "text/plain": [
       "<Figure size 1728x864 with 1 Axes>"
      ]
     },
     "metadata": {
      "needs_background": "light"
     },
     "output_type": "display_data"
    }
   ],
   "source": [
    "plt.rcParams['figure.figsize'] = (24,12)\n",
    "colos = ['yellow','blue', 'blue','purple', 'cyan','blue','red','pink','red','orange','black']\n",
    "plt.bar(team['Team'],height = team['Count'],color = colos)"
   ]
  },
  {
   "cell_type": "code",
   "execution_count": 260,
   "metadata": {},
   "outputs": [],
   "source": [
    "#OBSERVATOION\n",
    "#From the above figures we observe that-\n",
    "#a)62.56% Players are Unsold i.e 396 player\n",
    "#b)Rest all the players are divided into teams in a the range of (3.48%-3.95%)ie(22-25)\n"
   ]
  },
  {
   "cell_type": "code",
   "execution_count": 261,
   "metadata": {},
   "outputs": [
    {
     "data": {
      "text/plain": [
       "<BarContainer object of 633 artists>"
      ]
     },
     "execution_count": 261,
     "metadata": {},
     "output_type": "execute_result"
    },
    {
     "data": {
      "image/png": "[encoded data removed]",
      "text/plain": [
       "<Figure size 2160x720 with 1 Axes>"
      ]
     },
     "metadata": {
      "needs_background": "light"
     },
     "output_type": "display_data"
    }
   ],
   "source": [
    "plt.rcParams['figure.figsize'] = (30,10)\n",
    "plt.bar(x = df['Team'],height = df['COST IN ₹ (CR.)'])"
   ]
  },
  {
   "cell_type": "code",
   "execution_count": 262,
   "metadata": {},
   "outputs": [],
   "source": [
    "#OBSERVATION\n",
    "#The above figure shows that maximum money is spent by Lucknow Super Giants with 22 players and minimum by Punjab Kings with 25 players.\n",
    "#Minimum money is spent by Pujab Kings "
   ]
  },
  {
   "attachments": {},
   "cell_type": "markdown",
   "metadata": {},
   "source": [
    "Chennai Super Kings"
   ]
  },
  {
   "cell_type": "code",
   "execution_count": 263,
   "metadata": {},
   "outputs": [
    {
     "data": {
      "text/html": [
       "<div>\n",
       "<style scoped>\n",
       "    .dataframe tbody tr th:only-of-type {\n",
       "        vertical-align: middle;\n",
       "    }\n",
       "\n",
       "    .dataframe tbody tr th {\n",
       "        vertical-align: top;\n",
       "    }\n",
       "\n",
       "    .dataframe thead th {\n",
       "        text-align: right;\n",
       "    }\n",
       "</style>\n",
       "<table border=\"1\" class=\"dataframe\">\n",
       "  <thead>\n",
       "    <tr style=\"text-align: right;\">\n",
       "      <th></th>\n",
       "      <th>Unnamed: 0</th>\n",
       "      <th>Player</th>\n",
       "      <th>Base Price</th>\n",
       "      <th>TYPE</th>\n",
       "      <th>COST IN ₹ (CR.)</th>\n",
       "      <th>Cost IN $ (000)</th>\n",
       "      <th>2021 Squad</th>\n",
       "      <th>Team</th>\n",
       "    </tr>\n",
       "  </thead>\n",
       "  <tbody>\n",
       "    <tr>\n",
       "      <th>22</th>\n",
       "      <td>22</td>\n",
       "      <td>Ravindra Jadeja</td>\n",
       "      <td>Retained</td>\n",
       "      <td>ALL-ROUNDER</td>\n",
       "      <td>16.00</td>\n",
       "      <td>2080.0</td>\n",
       "      <td>CSK</td>\n",
       "      <td>Chennai Super Kings</td>\n",
       "    </tr>\n",
       "    <tr>\n",
       "      <th>23</th>\n",
       "      <td>23</td>\n",
       "      <td>Deepak Chahar</td>\n",
       "      <td>2 Cr</td>\n",
       "      <td>BOWLER</td>\n",
       "      <td>14.00</td>\n",
       "      <td>1820.0</td>\n",
       "      <td>CSK</td>\n",
       "      <td>Chennai Super Kings</td>\n",
       "    </tr>\n",
       "    <tr>\n",
       "      <th>24</th>\n",
       "      <td>24</td>\n",
       "      <td>MS Dhoni</td>\n",
       "      <td>Retained</td>\n",
       "      <td>WICKETKEEPER</td>\n",
       "      <td>12.00</td>\n",
       "      <td>1560.0</td>\n",
       "      <td>CSK</td>\n",
       "      <td>Chennai Super Kings</td>\n",
       "    </tr>\n",
       "    <tr>\n",
       "      <th>25</th>\n",
       "      <td>25</td>\n",
       "      <td>Moeen Ali</td>\n",
       "      <td>Retained</td>\n",
       "      <td>ALL-ROUNDER</td>\n",
       "      <td>8.00</td>\n",
       "      <td>1040.0</td>\n",
       "      <td>CSK</td>\n",
       "      <td>Chennai Super Kings</td>\n",
       "    </tr>\n",
       "    <tr>\n",
       "      <th>26</th>\n",
       "      <td>26</td>\n",
       "      <td>Ambati Rayudu</td>\n",
       "      <td>2 Cr</td>\n",
       "      <td>WICKETKEEPER</td>\n",
       "      <td>6.75</td>\n",
       "      <td>877.5</td>\n",
       "      <td>CSK</td>\n",
       "      <td>Chennai Super Kings</td>\n",
       "    </tr>\n",
       "    <tr>\n",
       "      <th>27</th>\n",
       "      <td>27</td>\n",
       "      <td>Ruturaj Gaikwad</td>\n",
       "      <td>Retained</td>\n",
       "      <td>BATTER</td>\n",
       "      <td>6.00</td>\n",
       "      <td>780.0</td>\n",
       "      <td>CSK</td>\n",
       "      <td>Chennai Super Kings</td>\n",
       "    </tr>\n",
       "    <tr>\n",
       "      <th>28</th>\n",
       "      <td>28</td>\n",
       "      <td>Dwayne Bravo</td>\n",
       "      <td>2 Cr</td>\n",
       "      <td>ALL-ROUNDER</td>\n",
       "      <td>4.40</td>\n",
       "      <td>572.0</td>\n",
       "      <td>CSK</td>\n",
       "      <td>Chennai Super Kings</td>\n",
       "    </tr>\n",
       "    <tr>\n",
       "      <th>29</th>\n",
       "      <td>29</td>\n",
       "      <td>Shivam Dube</td>\n",
       "      <td>50 Lakh</td>\n",
       "      <td>ALL-ROUNDER</td>\n",
       "      <td>4.00</td>\n",
       "      <td>520.0</td>\n",
       "      <td>RR</td>\n",
       "      <td>Chennai Super Kings</td>\n",
       "    </tr>\n",
       "    <tr>\n",
       "      <th>30</th>\n",
       "      <td>30</td>\n",
       "      <td>Chris Jordan</td>\n",
       "      <td>2 Cr</td>\n",
       "      <td>ALL-ROUNDER</td>\n",
       "      <td>3.60</td>\n",
       "      <td>468.0</td>\n",
       "      <td>PBKS</td>\n",
       "      <td>Chennai Super Kings</td>\n",
       "    </tr>\n",
       "    <tr>\n",
       "      <th>31</th>\n",
       "      <td>31</td>\n",
       "      <td>Robin Uthappa</td>\n",
       "      <td>2 Cr</td>\n",
       "      <td>BATTER</td>\n",
       "      <td>2.00</td>\n",
       "      <td>260.0</td>\n",
       "      <td>CSK</td>\n",
       "      <td>Chennai Super Kings</td>\n",
       "    </tr>\n",
       "    <tr>\n",
       "      <th>32</th>\n",
       "      <td>32</td>\n",
       "      <td>Mitchell Santner</td>\n",
       "      <td>1 Cr</td>\n",
       "      <td>ALL-ROUNDER</td>\n",
       "      <td>1.90</td>\n",
       "      <td>247.0</td>\n",
       "      <td>CSK</td>\n",
       "      <td>Chennai Super Kings</td>\n",
       "    </tr>\n",
       "    <tr>\n",
       "      <th>33</th>\n",
       "      <td>33</td>\n",
       "      <td>Adam Milne</td>\n",
       "      <td>1.5 Cr</td>\n",
       "      <td>BOWLER</td>\n",
       "      <td>1.90</td>\n",
       "      <td>247.0</td>\n",
       "      <td>MI</td>\n",
       "      <td>Chennai Super Kings</td>\n",
       "    </tr>\n",
       "    <tr>\n",
       "      <th>34</th>\n",
       "      <td>34</td>\n",
       "      <td>Rajvardhan Hangargekar</td>\n",
       "      <td>30 Lakh</td>\n",
       "      <td>ALL-ROUNDER</td>\n",
       "      <td>1.50</td>\n",
       "      <td>195.0</td>\n",
       "      <td>NaN</td>\n",
       "      <td>Chennai Super Kings</td>\n",
       "    </tr>\n",
       "    <tr>\n",
       "      <th>35</th>\n",
       "      <td>35</td>\n",
       "      <td>Prashant Solanki</td>\n",
       "      <td>20 Lakh</td>\n",
       "      <td>BOWLER</td>\n",
       "      <td>1.20</td>\n",
       "      <td>156.0</td>\n",
       "      <td>NaN</td>\n",
       "      <td>Chennai Super Kings</td>\n",
       "    </tr>\n",
       "    <tr>\n",
       "      <th>36</th>\n",
       "      <td>36</td>\n",
       "      <td>Devon Conway</td>\n",
       "      <td>1 Cr</td>\n",
       "      <td>BATTER</td>\n",
       "      <td>1.00</td>\n",
       "      <td>130.0</td>\n",
       "      <td>NaN</td>\n",
       "      <td>Chennai Super Kings</td>\n",
       "    </tr>\n",
       "    <tr>\n",
       "      <th>37</th>\n",
       "      <td>37</td>\n",
       "      <td>Maheesh Theekshana</td>\n",
       "      <td>50 Lakh</td>\n",
       "      <td>BOWLER</td>\n",
       "      <td>0.70</td>\n",
       "      <td>91.0</td>\n",
       "      <td>NaN</td>\n",
       "      <td>Chennai Super Kings</td>\n",
       "    </tr>\n",
       "    <tr>\n",
       "      <th>38</th>\n",
       "      <td>38</td>\n",
       "      <td>Dwaine Pretorius</td>\n",
       "      <td>50 Lakh</td>\n",
       "      <td>ALL-ROUNDER</td>\n",
       "      <td>0.50</td>\n",
       "      <td>65.0</td>\n",
       "      <td>NaN</td>\n",
       "      <td>Chennai Super Kings</td>\n",
       "    </tr>\n",
       "    <tr>\n",
       "      <th>39</th>\n",
       "      <td>39</td>\n",
       "      <td>K.Bhagath Varma</td>\n",
       "      <td>20 Lakh</td>\n",
       "      <td>ALL-ROUNDER</td>\n",
       "      <td>0.20</td>\n",
       "      <td>26.0</td>\n",
       "      <td>CSK</td>\n",
       "      <td>Chennai Super Kings</td>\n",
       "    </tr>\n",
       "    <tr>\n",
       "      <th>40</th>\n",
       "      <td>40</td>\n",
       "      <td>Simarjeet Singh</td>\n",
       "      <td>20 Lakh</td>\n",
       "      <td>BOWLER</td>\n",
       "      <td>0.20</td>\n",
       "      <td>26.0</td>\n",
       "      <td>MI</td>\n",
       "      <td>Chennai Super Kings</td>\n",
       "    </tr>\n",
       "    <tr>\n",
       "      <th>41</th>\n",
       "      <td>41</td>\n",
       "      <td>N. Jagadeesan</td>\n",
       "      <td>20 Lakh</td>\n",
       "      <td>WICKETKEEPER</td>\n",
       "      <td>0.20</td>\n",
       "      <td>26.0</td>\n",
       "      <td>CSK</td>\n",
       "      <td>Chennai Super Kings</td>\n",
       "    </tr>\n",
       "    <tr>\n",
       "      <th>42</th>\n",
       "      <td>42</td>\n",
       "      <td>C.Hari Nishaanth</td>\n",
       "      <td>20 Lakh</td>\n",
       "      <td>BATTER</td>\n",
       "      <td>0.20</td>\n",
       "      <td>26.0</td>\n",
       "      <td>CSK</td>\n",
       "      <td>Chennai Super Kings</td>\n",
       "    </tr>\n",
       "    <tr>\n",
       "      <th>43</th>\n",
       "      <td>43</td>\n",
       "      <td>K.M. Asif</td>\n",
       "      <td>20 Lakh</td>\n",
       "      <td>BOWLER</td>\n",
       "      <td>0.20</td>\n",
       "      <td>26.0</td>\n",
       "      <td>CSK</td>\n",
       "      <td>Chennai Super Kings</td>\n",
       "    </tr>\n",
       "    <tr>\n",
       "      <th>44</th>\n",
       "      <td>44</td>\n",
       "      <td>Tushar Deshpande</td>\n",
       "      <td>20 Lakh</td>\n",
       "      <td>BOWLER</td>\n",
       "      <td>0.20</td>\n",
       "      <td>26.0</td>\n",
       "      <td>NaN</td>\n",
       "      <td>Chennai Super Kings</td>\n",
       "    </tr>\n",
       "    <tr>\n",
       "      <th>45</th>\n",
       "      <td>45</td>\n",
       "      <td>Subhranshu Senapati</td>\n",
       "      <td>20 Lakh</td>\n",
       "      <td>BATTER</td>\n",
       "      <td>0.20</td>\n",
       "      <td>26.0</td>\n",
       "      <td>NaN</td>\n",
       "      <td>Chennai Super Kings</td>\n",
       "    </tr>\n",
       "    <tr>\n",
       "      <th>46</th>\n",
       "      <td>46</td>\n",
       "      <td>Mukesh Choudhary</td>\n",
       "      <td>20 Lakh</td>\n",
       "      <td>BOWLER</td>\n",
       "      <td>0.20</td>\n",
       "      <td>26.0</td>\n",
       "      <td>NaN</td>\n",
       "      <td>Chennai Super Kings</td>\n",
       "    </tr>\n",
       "  </tbody>\n",
       "</table>\n",
       "</div>"
      ],
      "text/plain": [
       "    Unnamed: 0                  Player Base Price          TYPE  \\\n",
       "22          22         Ravindra Jadeja   Retained   ALL-ROUNDER   \n",
       "23          23           Deepak Chahar       2 Cr        BOWLER   \n",
       "24          24                MS Dhoni   Retained  WICKETKEEPER   \n",
       "25          25               Moeen Ali   Retained   ALL-ROUNDER   \n",
       "26          26           Ambati Rayudu       2 Cr  WICKETKEEPER   \n",
       "27          27         Ruturaj Gaikwad   Retained        BATTER   \n",
       "28          28            Dwayne Bravo       2 Cr   ALL-ROUNDER   \n",
       "29          29             Shivam Dube    50 Lakh   ALL-ROUNDER   \n",
       "30          30            Chris Jordan       2 Cr   ALL-ROUNDER   \n",
       "31          31           Robin Uthappa       2 Cr        BATTER   \n",
       "32          32        Mitchell Santner       1 Cr   ALL-ROUNDER   \n",
       "33          33              Adam Milne     1.5 Cr        BOWLER   \n",
       "34          34  Rajvardhan Hangargekar    30 Lakh   ALL-ROUNDER   \n",
       "35          35        Prashant Solanki    20 Lakh        BOWLER   \n",
       "36          36            Devon Conway       1 Cr        BATTER   \n",
       "37          37      Maheesh Theekshana    50 Lakh        BOWLER   \n",
       "38          38        Dwaine Pretorius    50 Lakh   ALL-ROUNDER   \n",
       "39          39         K.Bhagath Varma    20 Lakh   ALL-ROUNDER   \n",
       "40          40         Simarjeet Singh    20 Lakh        BOWLER   \n",
       "41          41           N. Jagadeesan    20 Lakh  WICKETKEEPER   \n",
       "42          42        C.Hari Nishaanth    20 Lakh        BATTER   \n",
       "43          43               K.M. Asif    20 Lakh        BOWLER   \n",
       "44          44        Tushar Deshpande    20 Lakh        BOWLER   \n",
       "45          45     Subhranshu Senapati    20 Lakh        BATTER   \n",
       "46          46        Mukesh Choudhary    20 Lakh        BOWLER   \n",
       "\n",
       "    COST IN ₹ (CR.)  Cost IN $ (000) 2021 Squad                 Team  \n",
       "22            16.00           2080.0        CSK  Chennai Super Kings  \n",
       "23            14.00           1820.0        CSK  Chennai Super Kings  \n",
       "24            12.00           1560.0        CSK  Chennai Super Kings  \n",
       "25             8.00           1040.0        CSK  Chennai Super Kings  \n",
       "26             6.75            877.5        CSK  Chennai Super Kings  \n",
       "27             6.00            780.0        CSK  Chennai Super Kings  \n",
       "28             4.40            572.0        CSK  Chennai Super Kings  \n",
       "29             4.00            520.0         RR  Chennai Super Kings  \n",
       "30             3.60            468.0       PBKS  Chennai Super Kings  \n",
       "31             2.00            260.0        CSK  Chennai Super Kings  \n",
       "32             1.90            247.0        CSK  Chennai Super Kings  \n",
       "33             1.90            247.0         MI  Chennai Super Kings  \n",
       "34             1.50            195.0        NaN  Chennai Super Kings  \n",
       "35             1.20            156.0        NaN  Chennai Super Kings  \n",
       "36             1.00            130.0        NaN  Chennai Super Kings  \n",
       "37             0.70             91.0        NaN  Chennai Super Kings  \n",
       "38             0.50             65.0        NaN  Chennai Super Kings  \n",
       "39             0.20             26.0        CSK  Chennai Super Kings  \n",
       "40             0.20             26.0         MI  Chennai Super Kings  \n",
       "41             0.20             26.0        CSK  Chennai Super Kings  \n",
       "42             0.20             26.0        CSK  Chennai Super Kings  \n",
       "43             0.20             26.0        CSK  Chennai Super Kings  \n",
       "44             0.20             26.0        NaN  Chennai Super Kings  \n",
       "45             0.20             26.0        NaN  Chennai Super Kings  \n",
       "46             0.20             26.0        NaN  Chennai Super Kings  "
      ]
     },
     "execution_count": 263,
     "metadata": {},
     "output_type": "execute_result"
    }
   ],
   "source": [
    "\n",
    "CSK = df.loc[df['Team']=='Chennai Super Kings']\n",
    "CSK"
   ]
  },
  {
   "cell_type": "code",
   "execution_count": 264,
   "metadata": {},
   "outputs": [
    {
     "data": {
      "text/plain": [
       "87.05"
      ]
     },
     "execution_count": 264,
     "metadata": {},
     "output_type": "execute_result"
    }
   ],
   "source": [
    "CSK['COST IN ₹ (CR.)'].sum()"
   ]
  },
  {
   "cell_type": "code",
   "execution_count": 265,
   "metadata": {},
   "outputs": [
    {
     "data": {
      "text/plain": [
       "16.0"
      ]
     },
     "execution_count": 265,
     "metadata": {},
     "output_type": "execute_result"
    }
   ],
   "source": [
    "CSK['COST IN ₹ (CR.)'].max()"
   ]
  },
  {
   "cell_type": "code",
   "execution_count": 266,
   "metadata": {},
   "outputs": [
    {
     "data": {
      "text/plain": [
       "3.4819999999999998"
      ]
     },
     "execution_count": 266,
     "metadata": {},
     "output_type": "execute_result"
    }
   ],
   "source": [
    "CSK['COST IN ₹ (CR.)'].mean()"
   ]
  },
  {
   "cell_type": "code",
   "execution_count": 267,
   "metadata": {},
   "outputs": [
    {
     "data": {
      "text/plain": [
       "4.581413537326663"
      ]
     },
     "execution_count": 267,
     "metadata": {},
     "output_type": "execute_result"
    }
   ],
   "source": [
    "CSK['COST IN ₹ (CR.)'].std()"
   ]
  },
  {
   "cell_type": "code",
   "execution_count": 268,
   "metadata": {},
   "outputs": [],
   "source": [
    "    #Observation\n",
    "    #a) Total money spent by CSK is 87.05 crores\n",
    "    #b) Mean of total money spent by CSK is 3.48 crores\n",
    "    #c) Maximum money spent on player is 16 crores.\n",
    "    #d) Standard deviation is 4.581 ce in CSK"
   ]
  },
  {
   "cell_type": "code",
   "execution_count": 269,
   "metadata": {},
   "outputs": [
    {
     "data": {
      "text/plain": [
       "<matplotlib.collections.PathCollection at 0x2a7c88e4eb0>"
      ]
     },
     "execution_count": 269,
     "metadata": {},
     "output_type": "execute_result"
    },
    {
     "data": {
      "image/png": "[encoded data removed]",
      "text/plain": [
       "<Figure size 864x432 with 1 Axes>"
      ]
     },
     "metadata": {
      "needs_background": "light"
     },
     "output_type": "display_data"
    }
   ],
   "source": [
    "plt.rcParams['figure.figsize'] = (12,6)\n",
    "plt.scatter(x=CSK['TYPE'],y=CSK['COST IN ₹ (CR.)'])\n"
   ]
  },
  {
   "cell_type": "code",
   "execution_count": 270,
   "metadata": {},
   "outputs": [],
   "source": [
    "#OBSERVATION\n",
    "#a)Total money spent by CSK is 87.05 crores\n",
    "#b)We can observe scattering between money spent on Types of players from the above figure.\n",
    "#c)Maximum money among players is spent on an All Rounders."
   ]
  },
  {
   "cell_type": "code",
   "execution_count": 271,
   "metadata": {},
   "outputs": [
    {
     "data": {
      "text/html": [
       "<div>\n",
       "<style scoped>\n",
       "    .dataframe tbody tr th:only-of-type {\n",
       "        vertical-align: middle;\n",
       "    }\n",
       "\n",
       "    .dataframe tbody tr th {\n",
       "        vertical-align: top;\n",
       "    }\n",
       "\n",
       "    .dataframe thead th {\n",
       "        text-align: right;\n",
       "    }\n",
       "</style>\n",
       "<table border=\"1\" class=\"dataframe\">\n",
       "  <thead>\n",
       "    <tr style=\"text-align: right;\">\n",
       "      <th></th>\n",
       "      <th>Base Price</th>\n",
       "      <th>Count</th>\n",
       "    </tr>\n",
       "  </thead>\n",
       "  <tbody>\n",
       "    <tr>\n",
       "      <th>0</th>\n",
       "      <td>1 Cr</td>\n",
       "      <td>2</td>\n",
       "    </tr>\n",
       "    <tr>\n",
       "      <th>1</th>\n",
       "      <td>1.5 Cr</td>\n",
       "      <td>1</td>\n",
       "    </tr>\n",
       "    <tr>\n",
       "      <th>2</th>\n",
       "      <td>2 Cr</td>\n",
       "      <td>5</td>\n",
       "    </tr>\n",
       "    <tr>\n",
       "      <th>3</th>\n",
       "      <td>20 Lakh</td>\n",
       "      <td>9</td>\n",
       "    </tr>\n",
       "    <tr>\n",
       "      <th>4</th>\n",
       "      <td>30 Lakh</td>\n",
       "      <td>1</td>\n",
       "    </tr>\n",
       "    <tr>\n",
       "      <th>5</th>\n",
       "      <td>50 Lakh</td>\n",
       "      <td>3</td>\n",
       "    </tr>\n",
       "    <tr>\n",
       "      <th>6</th>\n",
       "      <td>Retained</td>\n",
       "      <td>4</td>\n",
       "    </tr>\n",
       "  </tbody>\n",
       "</table>\n",
       "</div>"
      ],
      "text/plain": [
       "  Base Price  Count\n",
       "0       1 Cr      2\n",
       "1     1.5 Cr      1\n",
       "2       2 Cr      5\n",
       "3    20 Lakh      9\n",
       "4    30 Lakh      1\n",
       "5    50 Lakh      3\n",
       "6   Retained      4"
      ]
     },
     "execution_count": 271,
     "metadata": {},
     "output_type": "execute_result"
    }
   ],
   "source": [
    "CSK.groupby('Base Price').size().reset_index().rename(columns={0:'Count'})\n"
   ]
  },
  {
   "cell_type": "code",
   "execution_count": 272,
   "metadata": {},
   "outputs": [
    {
     "data": {
      "text/html": [
       "<div>\n",
       "<style scoped>\n",
       "    .dataframe tbody tr th:only-of-type {\n",
       "        vertical-align: middle;\n",
       "    }\n",
       "\n",
       "    .dataframe tbody tr th {\n",
       "        vertical-align: top;\n",
       "    }\n",
       "\n",
       "    .dataframe thead th {\n",
       "        text-align: right;\n",
       "    }\n",
       "</style>\n",
       "<table border=\"1\" class=\"dataframe\">\n",
       "  <thead>\n",
       "    <tr style=\"text-align: right;\">\n",
       "      <th></th>\n",
       "      <th>sum</th>\n",
       "      <th>count</th>\n",
       "    </tr>\n",
       "    <tr>\n",
       "      <th>TYPE</th>\n",
       "      <th></th>\n",
       "      <th></th>\n",
       "    </tr>\n",
       "  </thead>\n",
       "  <tbody>\n",
       "    <tr>\n",
       "      <th>ALL-ROUNDER</th>\n",
       "      <td>40.10</td>\n",
       "      <td>9</td>\n",
       "    </tr>\n",
       "    <tr>\n",
       "      <th>BATTER</th>\n",
       "      <td>9.40</td>\n",
       "      <td>5</td>\n",
       "    </tr>\n",
       "    <tr>\n",
       "      <th>BOWLER</th>\n",
       "      <td>18.60</td>\n",
       "      <td>8</td>\n",
       "    </tr>\n",
       "    <tr>\n",
       "      <th>WICKETKEEPER</th>\n",
       "      <td>18.95</td>\n",
       "      <td>3</td>\n",
       "    </tr>\n",
       "  </tbody>\n",
       "</table>\n",
       "</div>"
      ],
      "text/plain": [
       "                sum  count\n",
       "TYPE                      \n",
       "ALL-ROUNDER   40.10      9\n",
       "BATTER         9.40      5\n",
       "BOWLER        18.60      8\n",
       "WICKETKEEPER  18.95      3"
      ]
     },
     "execution_count": 272,
     "metadata": {},
     "output_type": "execute_result"
    }
   ],
   "source": [
    "\n",
    "CSK.groupby('TYPE')['COST IN ₹ (CR.)'].agg(['sum','count'])"
   ]
  },
  {
   "cell_type": "code",
   "execution_count": 273,
   "metadata": {},
   "outputs": [
    {
     "data": {
      "text/plain": [
       "<AxesSubplot: xlabel='TYPE'>"
      ]
     },
     "execution_count": 273,
     "metadata": {},
     "output_type": "execute_result"
    },
    {
     "data": {
      "image/png": "[encoded data removed]",
      "text/plain": [
       "<Figure size 864x432 with 1 Axes>"
      ]
     },
     "metadata": {
      "needs_background": "light"
     },
     "output_type": "display_data"
    }
   ],
   "source": [
    "CSK.groupby('TYPE')['COST IN ₹ (CR.)'].agg(['sum','count']).plot(kind='bar')"
   ]
  },
  {
   "cell_type": "code",
   "execution_count": 274,
   "metadata": {},
   "outputs": [],
   "source": [
    "#OBSERVATIONS\n",
    "#Chennai Super Kings has\n",
    "#a)9 All Rounders on whom 40.10 cr is spent\n",
    "#b)5 Batters on whom 9.40 cr is spent\n",
    "#c)8 Bowlers on whom 18.60 cr is spent\n",
    "#d)3 Wicketkeepers on which 18.95 cr is spent\n",
    "#e)4 players were retained from the last season\n",
    "#f)We infer that CSK focused mainly on all rounders in the auction."
   ]
  },
  {
   "attachments": {},
   "cell_type": "markdown",
   "metadata": {},
   "source": [
    "Delhi Capitals\n"
   ]
  },
  {
   "cell_type": "code",
   "execution_count": 275,
   "metadata": {},
   "outputs": [
    {
     "data": {
      "text/html": [
       "<div>\n",
       "<style scoped>\n",
       "    .dataframe tbody tr th:only-of-type {\n",
       "        vertical-align: middle;\n",
       "    }\n",
       "\n",
       "    .dataframe tbody tr th {\n",
       "        vertical-align: top;\n",
       "    }\n",
       "\n",
       "    .dataframe thead th {\n",
       "        text-align: right;\n",
       "    }\n",
       "</style>\n",
       "<table border=\"1\" class=\"dataframe\">\n",
       "  <thead>\n",
       "    <tr style=\"text-align: right;\">\n",
       "      <th></th>\n",
       "      <th>Unnamed: 0</th>\n",
       "      <th>Player</th>\n",
       "      <th>Base Price</th>\n",
       "      <th>TYPE</th>\n",
       "      <th>COST IN ₹ (CR.)</th>\n",
       "      <th>Cost IN $ (000)</th>\n",
       "      <th>2021 Squad</th>\n",
       "      <th>Team</th>\n",
       "    </tr>\n",
       "  </thead>\n",
       "  <tbody>\n",
       "    <tr>\n",
       "      <th>47</th>\n",
       "      <td>47</td>\n",
       "      <td>Rishabh Pant</td>\n",
       "      <td>Retained</td>\n",
       "      <td>WICKETKEEPER</td>\n",
       "      <td>16.00</td>\n",
       "      <td>2080.0</td>\n",
       "      <td>DC</td>\n",
       "      <td>Delhi Capitals</td>\n",
       "    </tr>\n",
       "    <tr>\n",
       "      <th>48</th>\n",
       "      <td>48</td>\n",
       "      <td>Shardul Thakur</td>\n",
       "      <td>2 Cr</td>\n",
       "      <td>BOWLER</td>\n",
       "      <td>10.75</td>\n",
       "      <td>1397.5</td>\n",
       "      <td>CSK</td>\n",
       "      <td>Delhi Capitals</td>\n",
       "    </tr>\n",
       "    <tr>\n",
       "      <th>49</th>\n",
       "      <td>49</td>\n",
       "      <td>Axar Patel</td>\n",
       "      <td>Retained</td>\n",
       "      <td>ALL-ROUNDER</td>\n",
       "      <td>9.00</td>\n",
       "      <td>1170.0</td>\n",
       "      <td>DC</td>\n",
       "      <td>Delhi Capitals</td>\n",
       "    </tr>\n",
       "    <tr>\n",
       "      <th>50</th>\n",
       "      <td>50</td>\n",
       "      <td>Prithvi Shaw</td>\n",
       "      <td>Retained</td>\n",
       "      <td>BATTER</td>\n",
       "      <td>7.50</td>\n",
       "      <td>975.0</td>\n",
       "      <td>DC</td>\n",
       "      <td>Delhi Capitals</td>\n",
       "    </tr>\n",
       "    <tr>\n",
       "      <th>51</th>\n",
       "      <td>51</td>\n",
       "      <td>Mitchell Marsh</td>\n",
       "      <td>2 Cr</td>\n",
       "      <td>ALL-ROUNDER</td>\n",
       "      <td>6.50</td>\n",
       "      <td>845.0</td>\n",
       "      <td>NaN</td>\n",
       "      <td>Delhi Capitals</td>\n",
       "    </tr>\n",
       "    <tr>\n",
       "      <th>52</th>\n",
       "      <td>52</td>\n",
       "      <td>Anrich Nortje</td>\n",
       "      <td>Retained</td>\n",
       "      <td>BOWLER</td>\n",
       "      <td>6.50</td>\n",
       "      <td>845.0</td>\n",
       "      <td>DC</td>\n",
       "      <td>Delhi Capitals</td>\n",
       "    </tr>\n",
       "    <tr>\n",
       "      <th>53</th>\n",
       "      <td>53</td>\n",
       "      <td>David Warner</td>\n",
       "      <td>2 Cr</td>\n",
       "      <td>BATTER</td>\n",
       "      <td>6.25</td>\n",
       "      <td>812.5</td>\n",
       "      <td>SRH</td>\n",
       "      <td>Delhi Capitals</td>\n",
       "    </tr>\n",
       "    <tr>\n",
       "      <th>54</th>\n",
       "      <td>54</td>\n",
       "      <td>Syed Khaleel Ahmed</td>\n",
       "      <td>50 Lakh</td>\n",
       "      <td>BOWLER</td>\n",
       "      <td>5.25</td>\n",
       "      <td>682.5</td>\n",
       "      <td>SRH</td>\n",
       "      <td>Delhi Capitals</td>\n",
       "    </tr>\n",
       "    <tr>\n",
       "      <th>55</th>\n",
       "      <td>55</td>\n",
       "      <td>Chetan Sakariya</td>\n",
       "      <td>50 Lakh</td>\n",
       "      <td>BOWLER</td>\n",
       "      <td>4.20</td>\n",
       "      <td>546.0</td>\n",
       "      <td>RR</td>\n",
       "      <td>Delhi Capitals</td>\n",
       "    </tr>\n",
       "    <tr>\n",
       "      <th>56</th>\n",
       "      <td>56</td>\n",
       "      <td>Rovman Powell</td>\n",
       "      <td>75 Lakh</td>\n",
       "      <td>BATTER</td>\n",
       "      <td>2.80</td>\n",
       "      <td>364.0</td>\n",
       "      <td>NaN</td>\n",
       "      <td>Delhi Capitals</td>\n",
       "    </tr>\n",
       "    <tr>\n",
       "      <th>57</th>\n",
       "      <td>57</td>\n",
       "      <td>K.S. Bharat</td>\n",
       "      <td>20 Lakh</td>\n",
       "      <td>WICKETKEEPER</td>\n",
       "      <td>2.00</td>\n",
       "      <td>260.0</td>\n",
       "      <td>RCB</td>\n",
       "      <td>Delhi Capitals</td>\n",
       "    </tr>\n",
       "    <tr>\n",
       "      <th>58</th>\n",
       "      <td>58</td>\n",
       "      <td>Mustafizur Rahman</td>\n",
       "      <td>2 Cr</td>\n",
       "      <td>BOWLER</td>\n",
       "      <td>2.00</td>\n",
       "      <td>260.0</td>\n",
       "      <td>RR</td>\n",
       "      <td>Delhi Capitals</td>\n",
       "    </tr>\n",
       "    <tr>\n",
       "      <th>59</th>\n",
       "      <td>59</td>\n",
       "      <td>Kuldeep Yadav</td>\n",
       "      <td>1 Cr</td>\n",
       "      <td>BOWLER</td>\n",
       "      <td>2.00</td>\n",
       "      <td>260.0</td>\n",
       "      <td>KKR</td>\n",
       "      <td>Delhi Capitals</td>\n",
       "    </tr>\n",
       "    <tr>\n",
       "      <th>60</th>\n",
       "      <td>60</td>\n",
       "      <td>Kamlesh Nagarkoti</td>\n",
       "      <td>40 Lakh</td>\n",
       "      <td>ALL-ROUNDER</td>\n",
       "      <td>1.10</td>\n",
       "      <td>143.0</td>\n",
       "      <td>KKR</td>\n",
       "      <td>Delhi Capitals</td>\n",
       "    </tr>\n",
       "    <tr>\n",
       "      <th>61</th>\n",
       "      <td>61</td>\n",
       "      <td>Mandeep Singh</td>\n",
       "      <td>50 Lakh</td>\n",
       "      <td>BATTER</td>\n",
       "      <td>1.10</td>\n",
       "      <td>143.0</td>\n",
       "      <td>PBKS</td>\n",
       "      <td>Delhi Capitals</td>\n",
       "    </tr>\n",
       "    <tr>\n",
       "      <th>62</th>\n",
       "      <td>62</td>\n",
       "      <td>Lalit Yadav</td>\n",
       "      <td>20 Lakh</td>\n",
       "      <td>ALL-ROUNDER</td>\n",
       "      <td>0.65</td>\n",
       "      <td>84.5</td>\n",
       "      <td>DC</td>\n",
       "      <td>Delhi Capitals</td>\n",
       "    </tr>\n",
       "    <tr>\n",
       "      <th>63</th>\n",
       "      <td>63</td>\n",
       "      <td>Tim Seifert</td>\n",
       "      <td>50 Lakh</td>\n",
       "      <td>WICKETKEEPER</td>\n",
       "      <td>0.50</td>\n",
       "      <td>65.0</td>\n",
       "      <td>KKR</td>\n",
       "      <td>Delhi Capitals</td>\n",
       "    </tr>\n",
       "    <tr>\n",
       "      <th>64</th>\n",
       "      <td>64</td>\n",
       "      <td>Pravin Dubey</td>\n",
       "      <td>20 Lakh</td>\n",
       "      <td>ALL-ROUNDER</td>\n",
       "      <td>0.50</td>\n",
       "      <td>65.0</td>\n",
       "      <td>DC</td>\n",
       "      <td>Delhi Capitals</td>\n",
       "    </tr>\n",
       "    <tr>\n",
       "      <th>65</th>\n",
       "      <td>65</td>\n",
       "      <td>Lungisani Ngidi</td>\n",
       "      <td>50 Lakh</td>\n",
       "      <td>BOWLER</td>\n",
       "      <td>0.50</td>\n",
       "      <td>65.0</td>\n",
       "      <td>CSK</td>\n",
       "      <td>Delhi Capitals</td>\n",
       "    </tr>\n",
       "    <tr>\n",
       "      <th>66</th>\n",
       "      <td>66</td>\n",
       "      <td>Yash Dhull</td>\n",
       "      <td>20 Lakh</td>\n",
       "      <td>ALL-ROUNDER</td>\n",
       "      <td>0.50</td>\n",
       "      <td>65.0</td>\n",
       "      <td>NaN</td>\n",
       "      <td>Delhi Capitals</td>\n",
       "    </tr>\n",
       "    <tr>\n",
       "      <th>67</th>\n",
       "      <td>67</td>\n",
       "      <td>Ashwin Hebbar</td>\n",
       "      <td>20 Lakh</td>\n",
       "      <td>BATTER</td>\n",
       "      <td>0.20</td>\n",
       "      <td>26.0</td>\n",
       "      <td>NaN</td>\n",
       "      <td>Delhi Capitals</td>\n",
       "    </tr>\n",
       "    <tr>\n",
       "      <th>68</th>\n",
       "      <td>68</td>\n",
       "      <td>Sarfaraz Khan</td>\n",
       "      <td>20 Lakh</td>\n",
       "      <td>ALL-ROUNDER</td>\n",
       "      <td>0.20</td>\n",
       "      <td>26.0</td>\n",
       "      <td>PBKS</td>\n",
       "      <td>Delhi Capitals</td>\n",
       "    </tr>\n",
       "    <tr>\n",
       "      <th>69</th>\n",
       "      <td>69</td>\n",
       "      <td>Ripal Patel</td>\n",
       "      <td>20 Lakh</td>\n",
       "      <td>ALL-ROUNDER</td>\n",
       "      <td>0.20</td>\n",
       "      <td>26.0</td>\n",
       "      <td>DC</td>\n",
       "      <td>Delhi Capitals</td>\n",
       "    </tr>\n",
       "    <tr>\n",
       "      <th>70</th>\n",
       "      <td>70</td>\n",
       "      <td>Vicky Ostwal</td>\n",
       "      <td>20 Lakh</td>\n",
       "      <td>ALL-ROUNDER</td>\n",
       "      <td>0.20</td>\n",
       "      <td>26.0</td>\n",
       "      <td>NaN</td>\n",
       "      <td>Delhi Capitals</td>\n",
       "    </tr>\n",
       "  </tbody>\n",
       "</table>\n",
       "</div>"
      ],
      "text/plain": [
       "    Unnamed: 0              Player Base Price          TYPE  COST IN ₹ (CR.)  \\\n",
       "47          47        Rishabh Pant   Retained  WICKETKEEPER            16.00   \n",
       "48          48      Shardul Thakur       2 Cr        BOWLER            10.75   \n",
       "49          49          Axar Patel   Retained   ALL-ROUNDER             9.00   \n",
       "50          50        Prithvi Shaw   Retained        BATTER             7.50   \n",
       "51          51      Mitchell Marsh       2 Cr   ALL-ROUNDER             6.50   \n",
       "52          52       Anrich Nortje   Retained        BOWLER             6.50   \n",
       "53          53        David Warner       2 Cr        BATTER             6.25   \n",
       "54          54  Syed Khaleel Ahmed    50 Lakh        BOWLER             5.25   \n",
       "55          55     Chetan Sakariya    50 Lakh        BOWLER             4.20   \n",
       "56          56       Rovman Powell    75 Lakh        BATTER             2.80   \n",
       "57          57         K.S. Bharat    20 Lakh  WICKETKEEPER             2.00   \n",
       "58          58   Mustafizur Rahman       2 Cr        BOWLER             2.00   \n",
       "59          59       Kuldeep Yadav       1 Cr        BOWLER             2.00   \n",
       "60          60   Kamlesh Nagarkoti    40 Lakh   ALL-ROUNDER             1.10   \n",
       "61          61       Mandeep Singh    50 Lakh        BATTER             1.10   \n",
       "62          62         Lalit Yadav    20 Lakh   ALL-ROUNDER             0.65   \n",
       "63          63         Tim Seifert    50 Lakh  WICKETKEEPER             0.50   \n",
       "64          64        Pravin Dubey    20 Lakh   ALL-ROUNDER             0.50   \n",
       "65          65     Lungisani Ngidi    50 Lakh        BOWLER             0.50   \n",
       "66          66          Yash Dhull    20 Lakh   ALL-ROUNDER             0.50   \n",
       "67          67       Ashwin Hebbar    20 Lakh        BATTER             0.20   \n",
       "68          68       Sarfaraz Khan    20 Lakh   ALL-ROUNDER             0.20   \n",
       "69          69         Ripal Patel    20 Lakh   ALL-ROUNDER             0.20   \n",
       "70          70        Vicky Ostwal    20 Lakh   ALL-ROUNDER             0.20   \n",
       "\n",
       "    Cost IN $ (000) 2021 Squad            Team  \n",
       "47           2080.0         DC  Delhi Capitals  \n",
       "48           1397.5        CSK  Delhi Capitals  \n",
       "49           1170.0         DC  Delhi Capitals  \n",
       "50            975.0         DC  Delhi Capitals  \n",
       "51            845.0        NaN  Delhi Capitals  \n",
       "52            845.0         DC  Delhi Capitals  \n",
       "53            812.5        SRH  Delhi Capitals  \n",
       "54            682.5        SRH  Delhi Capitals  \n",
       "55            546.0         RR  Delhi Capitals  \n",
       "56            364.0        NaN  Delhi Capitals  \n",
       "57            260.0        RCB  Delhi Capitals  \n",
       "58            260.0         RR  Delhi Capitals  \n",
       "59            260.0        KKR  Delhi Capitals  \n",
       "60            143.0        KKR  Delhi Capitals  \n",
       "61            143.0       PBKS  Delhi Capitals  \n",
       "62             84.5         DC  Delhi Capitals  \n",
       "63             65.0        KKR  Delhi Capitals  \n",
       "64             65.0         DC  Delhi Capitals  \n",
       "65             65.0        CSK  Delhi Capitals  \n",
       "66             65.0        NaN  Delhi Capitals  \n",
       "67             26.0        NaN  Delhi Capitals  \n",
       "68             26.0       PBKS  Delhi Capitals  \n",
       "69             26.0         DC  Delhi Capitals  \n",
       "70             26.0        NaN  Delhi Capitals  "
      ]
     },
     "execution_count": 275,
     "metadata": {},
     "output_type": "execute_result"
    }
   ],
   "source": [
    "DC = df.loc[df['Team']=='Delhi Capitals']\n",
    "DC\n"
   ]
  },
  {
   "cell_type": "code",
   "execution_count": 276,
   "metadata": {},
   "outputs": [
    {
     "data": {
      "text/plain": [
       "86.4"
      ]
     },
     "execution_count": 276,
     "metadata": {},
     "output_type": "execute_result"
    }
   ],
   "source": [
    "DC['COST IN ₹ (CR.)'].sum()"
   ]
  },
  {
   "cell_type": "code",
   "execution_count": 277,
   "metadata": {},
   "outputs": [
    {
     "data": {
      "text/plain": [
       "3.6"
      ]
     },
     "execution_count": 277,
     "metadata": {},
     "output_type": "execute_result"
    }
   ],
   "source": [
    "DC['COST IN ₹ (CR.)'].mean()"
   ]
  },
  {
   "cell_type": "code",
   "execution_count": 278,
   "metadata": {},
   "outputs": [
    {
     "data": {
      "text/plain": [
       "16.0"
      ]
     },
     "execution_count": 278,
     "metadata": {},
     "output_type": "execute_result"
    }
   ],
   "source": [
    "DC['COST IN ₹ (CR.)'].max()"
   ]
  },
  {
   "cell_type": "code",
   "execution_count": 279,
   "metadata": {},
   "outputs": [
    {
     "data": {
      "text/plain": [
       "4.1198353702861565"
      ]
     },
     "execution_count": 279,
     "metadata": {},
     "output_type": "execute_result"
    }
   ],
   "source": [
    "DC['COST IN ₹ (CR.)'].std()"
   ]
  },
  {
   "cell_type": "code",
   "execution_count": 280,
   "metadata": {},
   "outputs": [],
   "source": [
    "#Observations\n",
    "#a)Total money spent by Delhi Capitals is 86.4 crores\n",
    "#b)avergae money spent by Delhi Capitals is 3.6 crores\n",
    "#c)maximum money spent on a player is 16 crores\n",
    "#d)standard deviation of money spent in this team is 4.11 cr"
   ]
  },
  {
   "cell_type": "code",
   "execution_count": 281,
   "metadata": {},
   "outputs": [
    {
     "data": {
      "text/plain": [
       "<matplotlib.collections.PathCollection at 0x2a7c85a2020>"
      ]
     },
     "execution_count": 281,
     "metadata": {},
     "output_type": "execute_result"
    },
    {
     "data": {
      "image/png": "[encoded data removed]",
      "text/plain": [
       "<Figure size 864x432 with 1 Axes>"
      ]
     },
     "metadata": {
      "needs_background": "light"
     },
     "output_type": "display_data"
    }
   ],
   "source": [
    "plt.rcParams['figure.figsize'] = (12,6)\n",
    "plt.scatter(x=DC['TYPE'],y=DC['COST IN ₹ (CR.)'])\n"
   ]
  },
  {
   "cell_type": "code",
   "execution_count": 282,
   "metadata": {},
   "outputs": [
    {
     "data": {
      "text/html": [
       "<div>\n",
       "<style scoped>\n",
       "    .dataframe tbody tr th:only-of-type {\n",
       "        vertical-align: middle;\n",
       "    }\n",
       "\n",
       "    .dataframe tbody tr th {\n",
       "        vertical-align: top;\n",
       "    }\n",
       "\n",
       "    .dataframe thead th {\n",
       "        text-align: right;\n",
       "    }\n",
       "</style>\n",
       "<table border=\"1\" class=\"dataframe\">\n",
       "  <thead>\n",
       "    <tr style=\"text-align: right;\">\n",
       "      <th></th>\n",
       "      <th>Base Price</th>\n",
       "      <th>Count</th>\n",
       "    </tr>\n",
       "  </thead>\n",
       "  <tbody>\n",
       "    <tr>\n",
       "      <th>0</th>\n",
       "      <td>1 Cr</td>\n",
       "      <td>1</td>\n",
       "    </tr>\n",
       "    <tr>\n",
       "      <th>1</th>\n",
       "      <td>2 Cr</td>\n",
       "      <td>4</td>\n",
       "    </tr>\n",
       "    <tr>\n",
       "      <th>2</th>\n",
       "      <td>20 Lakh</td>\n",
       "      <td>8</td>\n",
       "    </tr>\n",
       "    <tr>\n",
       "      <th>3</th>\n",
       "      <td>40 Lakh</td>\n",
       "      <td>1</td>\n",
       "    </tr>\n",
       "    <tr>\n",
       "      <th>4</th>\n",
       "      <td>50 Lakh</td>\n",
       "      <td>5</td>\n",
       "    </tr>\n",
       "    <tr>\n",
       "      <th>5</th>\n",
       "      <td>75 Lakh</td>\n",
       "      <td>1</td>\n",
       "    </tr>\n",
       "    <tr>\n",
       "      <th>6</th>\n",
       "      <td>Retained</td>\n",
       "      <td>4</td>\n",
       "    </tr>\n",
       "  </tbody>\n",
       "</table>\n",
       "</div>"
      ],
      "text/plain": [
       "  Base Price  Count\n",
       "0       1 Cr      1\n",
       "1       2 Cr      4\n",
       "2    20 Lakh      8\n",
       "3    40 Lakh      1\n",
       "4    50 Lakh      5\n",
       "5    75 Lakh      1\n",
       "6   Retained      4"
      ]
     },
     "execution_count": 282,
     "metadata": {},
     "output_type": "execute_result"
    }
   ],
   "source": [
    "DC.groupby('Base Price').size().reset_index().rename(columns={0:'Count'})\n",
    "\n"
   ]
  },
  {
   "cell_type": "code",
   "execution_count": 283,
   "metadata": {},
   "outputs": [
    {
     "data": {
      "text/html": [
       "<div>\n",
       "<style scoped>\n",
       "    .dataframe tbody tr th:only-of-type {\n",
       "        vertical-align: middle;\n",
       "    }\n",
       "\n",
       "    .dataframe tbody tr th {\n",
       "        vertical-align: top;\n",
       "    }\n",
       "\n",
       "    .dataframe thead th {\n",
       "        text-align: right;\n",
       "    }\n",
       "</style>\n",
       "<table border=\"1\" class=\"dataframe\">\n",
       "  <thead>\n",
       "    <tr style=\"text-align: right;\">\n",
       "      <th></th>\n",
       "      <th>sum</th>\n",
       "      <th>count</th>\n",
       "    </tr>\n",
       "    <tr>\n",
       "      <th>TYPE</th>\n",
       "      <th></th>\n",
       "      <th></th>\n",
       "    </tr>\n",
       "  </thead>\n",
       "  <tbody>\n",
       "    <tr>\n",
       "      <th>ALL-ROUNDER</th>\n",
       "      <td>18.85</td>\n",
       "      <td>9</td>\n",
       "    </tr>\n",
       "    <tr>\n",
       "      <th>BATTER</th>\n",
       "      <td>17.85</td>\n",
       "      <td>5</td>\n",
       "    </tr>\n",
       "    <tr>\n",
       "      <th>BOWLER</th>\n",
       "      <td>31.20</td>\n",
       "      <td>7</td>\n",
       "    </tr>\n",
       "    <tr>\n",
       "      <th>WICKETKEEPER</th>\n",
       "      <td>18.50</td>\n",
       "      <td>3</td>\n",
       "    </tr>\n",
       "  </tbody>\n",
       "</table>\n",
       "</div>"
      ],
      "text/plain": [
       "                sum  count\n",
       "TYPE                      \n",
       "ALL-ROUNDER   18.85      9\n",
       "BATTER        17.85      5\n",
       "BOWLER        31.20      7\n",
       "WICKETKEEPER  18.50      3"
      ]
     },
     "execution_count": 283,
     "metadata": {},
     "output_type": "execute_result"
    }
   ],
   "source": [
    "\n",
    "PMDC = DC.groupby('TYPE')['COST IN ₹ (CR.)'].agg(['sum','count'])\n",
    "PMDC"
   ]
  },
  {
   "cell_type": "code",
   "execution_count": 284,
   "metadata": {},
   "outputs": [
    {
     "data": {
      "text/plain": [
       "<AxesSubplot: xlabel='TYPE'>"
      ]
     },
     "execution_count": 284,
     "metadata": {},
     "output_type": "execute_result"
    },
    {
     "data": {
      "image/png": "[encoded data removed]",
      "text/plain": [
       "<Figure size 864x432 with 1 Axes>"
      ]
     },
     "metadata": {
      "needs_background": "light"
     },
     "output_type": "display_data"
    }
   ],
   "source": [
    "DC.groupby('TYPE')['COST IN ₹ (CR.)'].agg(['sum','count']).plot(kind='bar')"
   ]
  },
  {
   "cell_type": "code",
   "execution_count": 285,
   "metadata": {},
   "outputs": [],
   "source": [
    "#Observation\n",
    "#Delhi Capitals has\n",
    "#a)9 All Rounders on whom 18.85 cr is spent\n",
    "#b)5 Batters on whom 17.85 cr is spent\n",
    "#c)7 Bowlers on whom 31.20 cr is spent which is the maximum.\n",
    "#d)3 Wicketkeepers on whom 18.50 is spent\n",
    "#e)4 players were retained from the last season\n",
    "#f)We infer that DC focused mainly on bowlers in the auction."
   ]
  },
  {
   "attachments": {},
   "cell_type": "markdown",
   "metadata": {},
   "source": [
    "Gujarat Titans"
   ]
  },
  {
   "cell_type": "code",
   "execution_count": 286,
   "metadata": {},
   "outputs": [
    {
     "data": {
      "text/html": [
       "<div>\n",
       "<style scoped>\n",
       "    .dataframe tbody tr th:only-of-type {\n",
       "        vertical-align: middle;\n",
       "    }\n",
       "\n",
       "    .dataframe tbody tr th {\n",
       "        vertical-align: top;\n",
       "    }\n",
       "\n",
       "    .dataframe thead th {\n",
       "        text-align: right;\n",
       "    }\n",
       "</style>\n",
       "<table border=\"1\" class=\"dataframe\">\n",
       "  <thead>\n",
       "    <tr style=\"text-align: right;\">\n",
       "      <th></th>\n",
       "      <th>Unnamed: 0</th>\n",
       "      <th>Player</th>\n",
       "      <th>Base Price</th>\n",
       "      <th>TYPE</th>\n",
       "      <th>COST IN ₹ (CR.)</th>\n",
       "      <th>Cost IN $ (000)</th>\n",
       "      <th>2021 Squad</th>\n",
       "      <th>Team</th>\n",
       "    </tr>\n",
       "  </thead>\n",
       "  <tbody>\n",
       "    <tr>\n",
       "      <th>0</th>\n",
       "      <td>0</td>\n",
       "      <td>Rashid Khan</td>\n",
       "      <td>Draft Pick</td>\n",
       "      <td>BOWLER</td>\n",
       "      <td>15.00</td>\n",
       "      <td>1950.0</td>\n",
       "      <td>SRH</td>\n",
       "      <td>Gujarat Titans</td>\n",
       "    </tr>\n",
       "    <tr>\n",
       "      <th>1</th>\n",
       "      <td>1</td>\n",
       "      <td>Hardik Pandya</td>\n",
       "      <td>Draft Pick</td>\n",
       "      <td>ALL-ROUNDER</td>\n",
       "      <td>15.00</td>\n",
       "      <td>1950.0</td>\n",
       "      <td>MI</td>\n",
       "      <td>Gujarat Titans</td>\n",
       "    </tr>\n",
       "    <tr>\n",
       "      <th>2</th>\n",
       "      <td>2</td>\n",
       "      <td>Lockie Ferguson</td>\n",
       "      <td>2 Cr</td>\n",
       "      <td>BOWLER</td>\n",
       "      <td>10.00</td>\n",
       "      <td>1300.0</td>\n",
       "      <td>KKR</td>\n",
       "      <td>Gujarat Titans</td>\n",
       "    </tr>\n",
       "    <tr>\n",
       "      <th>3</th>\n",
       "      <td>3</td>\n",
       "      <td>Rahul Tewatia</td>\n",
       "      <td>40 Lakh</td>\n",
       "      <td>ALL-ROUNDER</td>\n",
       "      <td>9.00</td>\n",
       "      <td>1170.0</td>\n",
       "      <td>RR</td>\n",
       "      <td>Gujarat Titans</td>\n",
       "    </tr>\n",
       "    <tr>\n",
       "      <th>4</th>\n",
       "      <td>4</td>\n",
       "      <td>Shubman Gill</td>\n",
       "      <td>Draft Pick</td>\n",
       "      <td>BATTER</td>\n",
       "      <td>8.00</td>\n",
       "      <td>1040.0</td>\n",
       "      <td>KKR</td>\n",
       "      <td>Gujarat Titans</td>\n",
       "    </tr>\n",
       "    <tr>\n",
       "      <th>5</th>\n",
       "      <td>5</td>\n",
       "      <td>Mohammad Shami</td>\n",
       "      <td>2 Cr</td>\n",
       "      <td>BOWLER</td>\n",
       "      <td>6.25</td>\n",
       "      <td>812.5</td>\n",
       "      <td>PBKS</td>\n",
       "      <td>Gujarat Titans</td>\n",
       "    </tr>\n",
       "    <tr>\n",
       "      <th>6</th>\n",
       "      <td>6</td>\n",
       "      <td>Yash Dayal</td>\n",
       "      <td>20 Lakh</td>\n",
       "      <td>BOWLER</td>\n",
       "      <td>3.20</td>\n",
       "      <td>416.0</td>\n",
       "      <td>NaN</td>\n",
       "      <td>Gujarat Titans</td>\n",
       "    </tr>\n",
       "    <tr>\n",
       "      <th>7</th>\n",
       "      <td>7</td>\n",
       "      <td>David Miller</td>\n",
       "      <td>1 Cr</td>\n",
       "      <td>BATTER</td>\n",
       "      <td>3.00</td>\n",
       "      <td>390.0</td>\n",
       "      <td>RR</td>\n",
       "      <td>Gujarat Titans</td>\n",
       "    </tr>\n",
       "    <tr>\n",
       "      <th>8</th>\n",
       "      <td>8</td>\n",
       "      <td>R. Sai Kishore</td>\n",
       "      <td>20 Lakh</td>\n",
       "      <td>BOWLER</td>\n",
       "      <td>3.00</td>\n",
       "      <td>390.0</td>\n",
       "      <td>CSK</td>\n",
       "      <td>Gujarat Titans</td>\n",
       "    </tr>\n",
       "    <tr>\n",
       "      <th>9</th>\n",
       "      <td>9</td>\n",
       "      <td>Abhinav Sadarangani</td>\n",
       "      <td>20 Lakh</td>\n",
       "      <td>BATTER</td>\n",
       "      <td>2.60</td>\n",
       "      <td>338.0</td>\n",
       "      <td>NaN</td>\n",
       "      <td>Gujarat Titans</td>\n",
       "    </tr>\n",
       "    <tr>\n",
       "      <th>10</th>\n",
       "      <td>10</td>\n",
       "      <td>Matthew Wade</td>\n",
       "      <td>2 Cr</td>\n",
       "      <td>WICKETKEEPER</td>\n",
       "      <td>2.40</td>\n",
       "      <td>312.0</td>\n",
       "      <td>NaN</td>\n",
       "      <td>Gujarat Titans</td>\n",
       "    </tr>\n",
       "    <tr>\n",
       "      <th>11</th>\n",
       "      <td>11</td>\n",
       "      <td>Alzarri Joseph</td>\n",
       "      <td>75 Lakh</td>\n",
       "      <td>BOWLER</td>\n",
       "      <td>2.40</td>\n",
       "      <td>312.0</td>\n",
       "      <td>NaN</td>\n",
       "      <td>Gujarat Titans</td>\n",
       "    </tr>\n",
       "    <tr>\n",
       "      <th>12</th>\n",
       "      <td>12</td>\n",
       "      <td>Jason Roy</td>\n",
       "      <td>2 Cr</td>\n",
       "      <td>BATTER</td>\n",
       "      <td>2.00</td>\n",
       "      <td>260.0</td>\n",
       "      <td>SRH</td>\n",
       "      <td>Gujarat Titans</td>\n",
       "    </tr>\n",
       "    <tr>\n",
       "      <th>13</th>\n",
       "      <td>13</td>\n",
       "      <td>Wriddhiman Saha</td>\n",
       "      <td>1 Cr</td>\n",
       "      <td>WICKETKEEPER</td>\n",
       "      <td>1.90</td>\n",
       "      <td>247.0</td>\n",
       "      <td>SRH</td>\n",
       "      <td>Gujarat Titans</td>\n",
       "    </tr>\n",
       "    <tr>\n",
       "      <th>14</th>\n",
       "      <td>14</td>\n",
       "      <td>Jayant Yadav</td>\n",
       "      <td>1 Cr</td>\n",
       "      <td>ALL-ROUNDER</td>\n",
       "      <td>1.70</td>\n",
       "      <td>221.0</td>\n",
       "      <td>MI</td>\n",
       "      <td>Gujarat Titans</td>\n",
       "    </tr>\n",
       "    <tr>\n",
       "      <th>15</th>\n",
       "      <td>15</td>\n",
       "      <td>Vijay Shankar</td>\n",
       "      <td>50 Lakh</td>\n",
       "      <td>ALL-ROUNDER</td>\n",
       "      <td>1.40</td>\n",
       "      <td>182.0</td>\n",
       "      <td>SRH</td>\n",
       "      <td>Gujarat Titans</td>\n",
       "    </tr>\n",
       "    <tr>\n",
       "      <th>16</th>\n",
       "      <td>16</td>\n",
       "      <td>Dominic Drakes</td>\n",
       "      <td>75 Lakh</td>\n",
       "      <td>ALL-ROUNDER</td>\n",
       "      <td>1.10</td>\n",
       "      <td>143.0</td>\n",
       "      <td>CSK</td>\n",
       "      <td>Gujarat Titans</td>\n",
       "    </tr>\n",
       "    <tr>\n",
       "      <th>17</th>\n",
       "      <td>17</td>\n",
       "      <td>Varun Aaron</td>\n",
       "      <td>50 Lakh</td>\n",
       "      <td>BOWLER</td>\n",
       "      <td>0.50</td>\n",
       "      <td>65.0</td>\n",
       "      <td>NaN</td>\n",
       "      <td>Gujarat Titans</td>\n",
       "    </tr>\n",
       "    <tr>\n",
       "      <th>18</th>\n",
       "      <td>18</td>\n",
       "      <td>Gurkeerat Singh</td>\n",
       "      <td>50 Lakh</td>\n",
       "      <td>ALL-ROUNDER</td>\n",
       "      <td>0.50</td>\n",
       "      <td>65.0</td>\n",
       "      <td>KKR</td>\n",
       "      <td>Gujarat Titans</td>\n",
       "    </tr>\n",
       "    <tr>\n",
       "      <th>19</th>\n",
       "      <td>19</td>\n",
       "      <td>Noor Ahmad</td>\n",
       "      <td>30 Lakh</td>\n",
       "      <td>BOWLER</td>\n",
       "      <td>0.30</td>\n",
       "      <td>39.0</td>\n",
       "      <td>NaN</td>\n",
       "      <td>Gujarat Titans</td>\n",
       "    </tr>\n",
       "    <tr>\n",
       "      <th>20</th>\n",
       "      <td>20</td>\n",
       "      <td>Darshan Nalkande</td>\n",
       "      <td>20 Lakh</td>\n",
       "      <td>ALL-ROUNDER</td>\n",
       "      <td>0.20</td>\n",
       "      <td>26.0</td>\n",
       "      <td>PBKS</td>\n",
       "      <td>Gujarat Titans</td>\n",
       "    </tr>\n",
       "    <tr>\n",
       "      <th>21</th>\n",
       "      <td>21</td>\n",
       "      <td>Pradeep Sangwan</td>\n",
       "      <td>20 Lakh</td>\n",
       "      <td>ALL-ROUNDER</td>\n",
       "      <td>0.20</td>\n",
       "      <td>26.0</td>\n",
       "      <td>NaN</td>\n",
       "      <td>Gujarat Titans</td>\n",
       "    </tr>\n",
       "  </tbody>\n",
       "</table>\n",
       "</div>"
      ],
      "text/plain": [
       "    Unnamed: 0               Player  Base Price          TYPE  \\\n",
       "0            0          Rashid Khan  Draft Pick        BOWLER   \n",
       "1            1        Hardik Pandya  Draft Pick   ALL-ROUNDER   \n",
       "2            2      Lockie Ferguson        2 Cr        BOWLER   \n",
       "3            3        Rahul Tewatia     40 Lakh   ALL-ROUNDER   \n",
       "4            4         Shubman Gill  Draft Pick        BATTER   \n",
       "5            5       Mohammad Shami        2 Cr        BOWLER   \n",
       "6            6           Yash Dayal     20 Lakh        BOWLER   \n",
       "7            7         David Miller        1 Cr        BATTER   \n",
       "8            8       R. Sai Kishore     20 Lakh        BOWLER   \n",
       "9            9  Abhinav Sadarangani     20 Lakh        BATTER   \n",
       "10          10         Matthew Wade        2 Cr  WICKETKEEPER   \n",
       "11          11       Alzarri Joseph     75 Lakh        BOWLER   \n",
       "12          12            Jason Roy        2 Cr        BATTER   \n",
       "13          13      Wriddhiman Saha        1 Cr  WICKETKEEPER   \n",
       "14          14         Jayant Yadav        1 Cr   ALL-ROUNDER   \n",
       "15          15        Vijay Shankar     50 Lakh   ALL-ROUNDER   \n",
       "16          16       Dominic Drakes     75 Lakh   ALL-ROUNDER   \n",
       "17          17          Varun Aaron     50 Lakh        BOWLER   \n",
       "18          18      Gurkeerat Singh     50 Lakh   ALL-ROUNDER   \n",
       "19          19           Noor Ahmad     30 Lakh        BOWLER   \n",
       "20          20     Darshan Nalkande     20 Lakh   ALL-ROUNDER   \n",
       "21          21      Pradeep Sangwan     20 Lakh   ALL-ROUNDER   \n",
       "\n",
       "    COST IN ₹ (CR.)  Cost IN $ (000) 2021 Squad            Team  \n",
       "0             15.00           1950.0        SRH  Gujarat Titans  \n",
       "1             15.00           1950.0         MI  Gujarat Titans  \n",
       "2             10.00           1300.0        KKR  Gujarat Titans  \n",
       "3              9.00           1170.0         RR  Gujarat Titans  \n",
       "4              8.00           1040.0        KKR  Gujarat Titans  \n",
       "5              6.25            812.5       PBKS  Gujarat Titans  \n",
       "6              3.20            416.0        NaN  Gujarat Titans  \n",
       "7              3.00            390.0         RR  Gujarat Titans  \n",
       "8              3.00            390.0        CSK  Gujarat Titans  \n",
       "9              2.60            338.0        NaN  Gujarat Titans  \n",
       "10             2.40            312.0        NaN  Gujarat Titans  \n",
       "11             2.40            312.0        NaN  Gujarat Titans  \n",
       "12             2.00            260.0        SRH  Gujarat Titans  \n",
       "13             1.90            247.0        SRH  Gujarat Titans  \n",
       "14             1.70            221.0         MI  Gujarat Titans  \n",
       "15             1.40            182.0        SRH  Gujarat Titans  \n",
       "16             1.10            143.0        CSK  Gujarat Titans  \n",
       "17             0.50             65.0        NaN  Gujarat Titans  \n",
       "18             0.50             65.0        KKR  Gujarat Titans  \n",
       "19             0.30             39.0        NaN  Gujarat Titans  \n",
       "20             0.20             26.0       PBKS  Gujarat Titans  \n",
       "21             0.20             26.0        NaN  Gujarat Titans  "
      ]
     },
     "execution_count": 286,
     "metadata": {},
     "output_type": "execute_result"
    }
   ],
   "source": [
    "GT = df.loc[df['Team']=='Gujarat Titans']\n",
    "GT\n"
   ]
  },
  {
   "cell_type": "code",
   "execution_count": 287,
   "metadata": {},
   "outputs": [
    {
     "data": {
      "text/plain": [
       "89.65"
      ]
     },
     "execution_count": 287,
     "metadata": {},
     "output_type": "execute_result"
    }
   ],
   "source": [
    "GT['COST IN ₹ (CR.)'].sum()"
   ]
  },
  {
   "cell_type": "code",
   "execution_count": 288,
   "metadata": {},
   "outputs": [
    {
     "data": {
      "text/plain": [
       "15.0"
      ]
     },
     "execution_count": 288,
     "metadata": {},
     "output_type": "execute_result"
    }
   ],
   "source": [
    "GT['COST IN ₹ (CR.)'].max()"
   ]
  },
  {
   "cell_type": "code",
   "execution_count": 289,
   "metadata": {},
   "outputs": [
    {
     "data": {
      "text/plain": [
       "4.075"
      ]
     },
     "execution_count": 289,
     "metadata": {},
     "output_type": "execute_result"
    }
   ],
   "source": [
    "GT['COST IN ₹ (CR.)'].mean()"
   ]
  },
  {
   "cell_type": "code",
   "execution_count": 290,
   "metadata": {},
   "outputs": [
    {
     "data": {
      "text/plain": [
       "4.522950733020793"
      ]
     },
     "execution_count": 290,
     "metadata": {},
     "output_type": "execute_result"
    }
   ],
   "source": [
    "GT['COST IN ₹ (CR.)'].std()"
   ]
  },
  {
   "cell_type": "code",
   "execution_count": 291,
   "metadata": {},
   "outputs": [],
   "source": [
    "#Observation\n",
    "#a) Total money spent by GT is 89.65 crores\n",
    "#b) Mean of total money spent by GT is 4.075 crores\n",
    "#c) Maximum money spent on player is 15 crores.\n",
    "#d) Standard deviation is 4.522 ce in GT"
   ]
  },
  {
   "cell_type": "code",
   "execution_count": 292,
   "metadata": {},
   "outputs": [
    {
     "data": {
      "text/plain": [
       "<matplotlib.collections.PathCollection at 0x2a7c869e860>"
      ]
     },
     "execution_count": 292,
     "metadata": {},
     "output_type": "execute_result"
    },
    {
     "data": {
      "image/png": "[encoded data removed]",
      "text/plain": [
       "<Figure size 864x432 with 1 Axes>"
      ]
     },
     "metadata": {
      "needs_background": "light"
     },
     "output_type": "display_data"
    }
   ],
   "source": [
    "plt.scatter(x=GT['TYPE'],y=GT['COST IN ₹ (CR.)'])"
   ]
  },
  {
   "cell_type": "code",
   "execution_count": 293,
   "metadata": {},
   "outputs": [
    {
     "data": {
      "text/html": [
       "<div>\n",
       "<style scoped>\n",
       "    .dataframe tbody tr th:only-of-type {\n",
       "        vertical-align: middle;\n",
       "    }\n",
       "\n",
       "    .dataframe tbody tr th {\n",
       "        vertical-align: top;\n",
       "    }\n",
       "\n",
       "    .dataframe thead th {\n",
       "        text-align: right;\n",
       "    }\n",
       "</style>\n",
       "<table border=\"1\" class=\"dataframe\">\n",
       "  <thead>\n",
       "    <tr style=\"text-align: right;\">\n",
       "      <th></th>\n",
       "      <th>Base Price</th>\n",
       "      <th>Count</th>\n",
       "    </tr>\n",
       "  </thead>\n",
       "  <tbody>\n",
       "    <tr>\n",
       "      <th>0</th>\n",
       "      <td>1 Cr</td>\n",
       "      <td>3</td>\n",
       "    </tr>\n",
       "    <tr>\n",
       "      <th>1</th>\n",
       "      <td>2 Cr</td>\n",
       "      <td>4</td>\n",
       "    </tr>\n",
       "    <tr>\n",
       "      <th>2</th>\n",
       "      <td>20 Lakh</td>\n",
       "      <td>5</td>\n",
       "    </tr>\n",
       "    <tr>\n",
       "      <th>3</th>\n",
       "      <td>30 Lakh</td>\n",
       "      <td>1</td>\n",
       "    </tr>\n",
       "    <tr>\n",
       "      <th>4</th>\n",
       "      <td>40 Lakh</td>\n",
       "      <td>1</td>\n",
       "    </tr>\n",
       "    <tr>\n",
       "      <th>5</th>\n",
       "      <td>50 Lakh</td>\n",
       "      <td>3</td>\n",
       "    </tr>\n",
       "    <tr>\n",
       "      <th>6</th>\n",
       "      <td>75 Lakh</td>\n",
       "      <td>2</td>\n",
       "    </tr>\n",
       "    <tr>\n",
       "      <th>7</th>\n",
       "      <td>Draft Pick</td>\n",
       "      <td>3</td>\n",
       "    </tr>\n",
       "  </tbody>\n",
       "</table>\n",
       "</div>"
      ],
      "text/plain": [
       "   Base Price  Count\n",
       "0        1 Cr      3\n",
       "1        2 Cr      4\n",
       "2     20 Lakh      5\n",
       "3     30 Lakh      1\n",
       "4     40 Lakh      1\n",
       "5     50 Lakh      3\n",
       "6     75 Lakh      2\n",
       "7  Draft Pick      3"
      ]
     },
     "execution_count": 293,
     "metadata": {},
     "output_type": "execute_result"
    }
   ],
   "source": [
    "GT.groupby('Base Price').size().reset_index().rename(columns={0:'Count'})"
   ]
  },
  {
   "cell_type": "code",
   "execution_count": 294,
   "metadata": {},
   "outputs": [
    {
     "data": {
      "text/html": [
       "<div>\n",
       "<style scoped>\n",
       "    .dataframe tbody tr th:only-of-type {\n",
       "        vertical-align: middle;\n",
       "    }\n",
       "\n",
       "    .dataframe tbody tr th {\n",
       "        vertical-align: top;\n",
       "    }\n",
       "\n",
       "    .dataframe thead th {\n",
       "        text-align: right;\n",
       "    }\n",
       "</style>\n",
       "<table border=\"1\" class=\"dataframe\">\n",
       "  <thead>\n",
       "    <tr style=\"text-align: right;\">\n",
       "      <th></th>\n",
       "      <th>sum</th>\n",
       "      <th>count</th>\n",
       "    </tr>\n",
       "    <tr>\n",
       "      <th>TYPE</th>\n",
       "      <th></th>\n",
       "      <th></th>\n",
       "    </tr>\n",
       "  </thead>\n",
       "  <tbody>\n",
       "    <tr>\n",
       "      <th>ALL-ROUNDER</th>\n",
       "      <td>29.10</td>\n",
       "      <td>8</td>\n",
       "    </tr>\n",
       "    <tr>\n",
       "      <th>BATTER</th>\n",
       "      <td>15.60</td>\n",
       "      <td>4</td>\n",
       "    </tr>\n",
       "    <tr>\n",
       "      <th>BOWLER</th>\n",
       "      <td>40.65</td>\n",
       "      <td>8</td>\n",
       "    </tr>\n",
       "    <tr>\n",
       "      <th>WICKETKEEPER</th>\n",
       "      <td>4.30</td>\n",
       "      <td>2</td>\n",
       "    </tr>\n",
       "  </tbody>\n",
       "</table>\n",
       "</div>"
      ],
      "text/plain": [
       "                sum  count\n",
       "TYPE                      \n",
       "ALL-ROUNDER   29.10      8\n",
       "BATTER        15.60      4\n",
       "BOWLER        40.65      8\n",
       "WICKETKEEPER   4.30      2"
      ]
     },
     "execution_count": 294,
     "metadata": {},
     "output_type": "execute_result"
    }
   ],
   "source": [
    "GT.groupby('TYPE')['COST IN ₹ (CR.)'].agg(['sum','count'])"
   ]
  },
  {
   "cell_type": "code",
   "execution_count": 295,
   "metadata": {},
   "outputs": [
    {
     "data": {
      "text/plain": [
       "<AxesSubplot: xlabel='TYPE'>"
      ]
     },
     "execution_count": 295,
     "metadata": {},
     "output_type": "execute_result"
    },
    {
     "data": {
      "image/png": "[encoded data removed]",
      "text/plain": [
       "<Figure size 864x432 with 1 Axes>"
      ]
     },
     "metadata": {
      "needs_background": "light"
     },
     "output_type": "display_data"
    }
   ],
   "source": [
    "GT.groupby('TYPE')['COST IN ₹ (CR.)'].agg(['sum','count']).plot(kind='bar')"
   ]
  },
  {
   "cell_type": "code",
   "execution_count": 296,
   "metadata": {},
   "outputs": [],
   "source": [
    "#OBSERVATIONS\n",
    "# GT has\n",
    "#a)8 All Rounders on whom 29.10 cr is spent\n",
    "#b)4 Batters on whom 15.60 cr is spent\n",
    "#c)8 Bowlers on whom 40.65 cr is spent which is the maximum.\n",
    "#d)2 Wicketkeepers on whom 4.30 cr is spent\n",
    "#e)3 players were draft picked from the last season\n",
    "#f)We infer that GT focused mainly on bowlers in the auction."
   ]
  },
  {
   "attachments": {},
   "cell_type": "markdown",
   "metadata": {},
   "source": [
    "\n",
    "Kolkata Knight Riders"
   ]
  },
  {
   "cell_type": "code",
   "execution_count": 297,
   "metadata": {},
   "outputs": [
    {
     "data": {
      "text/html": [
       "<div>\n",
       "<style scoped>\n",
       "    .dataframe tbody tr th:only-of-type {\n",
       "        vertical-align: middle;\n",
       "    }\n",
       "\n",
       "    .dataframe tbody tr th {\n",
       "        vertical-align: top;\n",
       "    }\n",
       "\n",
       "    .dataframe thead th {\n",
       "        text-align: right;\n",
       "    }\n",
       "</style>\n",
       "<table border=\"1\" class=\"dataframe\">\n",
       "  <thead>\n",
       "    <tr style=\"text-align: right;\">\n",
       "      <th></th>\n",
       "      <th>Unnamed: 0</th>\n",
       "      <th>Player</th>\n",
       "      <th>Base Price</th>\n",
       "      <th>TYPE</th>\n",
       "      <th>COST IN ₹ (CR.)</th>\n",
       "      <th>Cost IN $ (000)</th>\n",
       "      <th>2021 Squad</th>\n",
       "      <th>Team</th>\n",
       "    </tr>\n",
       "  </thead>\n",
       "  <tbody>\n",
       "    <tr>\n",
       "      <th>71</th>\n",
       "      <td>71</td>\n",
       "      <td>Shreyas Iyer</td>\n",
       "      <td>2 Cr</td>\n",
       "      <td>BATTER</td>\n",
       "      <td>12.25</td>\n",
       "      <td>1592.5</td>\n",
       "      <td>DC</td>\n",
       "      <td>Kolkata Knight Riders</td>\n",
       "    </tr>\n",
       "    <tr>\n",
       "      <th>72</th>\n",
       "      <td>72</td>\n",
       "      <td>Andre Russell</td>\n",
       "      <td>Retained</td>\n",
       "      <td>ALL-ROUNDER</td>\n",
       "      <td>12.00</td>\n",
       "      <td>1560.0</td>\n",
       "      <td>KKR</td>\n",
       "      <td>Kolkata Knight Riders</td>\n",
       "    </tr>\n",
       "    <tr>\n",
       "      <th>73</th>\n",
       "      <td>73</td>\n",
       "      <td>Nitish Rana</td>\n",
       "      <td>1 Cr</td>\n",
       "      <td>ALL-ROUNDER</td>\n",
       "      <td>8.00</td>\n",
       "      <td>1040.0</td>\n",
       "      <td>KKR</td>\n",
       "      <td>Kolkata Knight Riders</td>\n",
       "    </tr>\n",
       "    <tr>\n",
       "      <th>74</th>\n",
       "      <td>74</td>\n",
       "      <td>Venkatesh Iyer</td>\n",
       "      <td>Retained</td>\n",
       "      <td>ALL-ROUNDER</td>\n",
       "      <td>8.00</td>\n",
       "      <td>1040.0</td>\n",
       "      <td>KKR</td>\n",
       "      <td>Kolkata Knight Riders</td>\n",
       "    </tr>\n",
       "    <tr>\n",
       "      <th>75</th>\n",
       "      <td>75</td>\n",
       "      <td>Varun Chakaravarthy</td>\n",
       "      <td>Retained</td>\n",
       "      <td>BOWLER</td>\n",
       "      <td>8.00</td>\n",
       "      <td>1040.0</td>\n",
       "      <td>KKR</td>\n",
       "      <td>Kolkata Knight Riders</td>\n",
       "    </tr>\n",
       "    <tr>\n",
       "      <th>76</th>\n",
       "      <td>76</td>\n",
       "      <td>Pat Cummins</td>\n",
       "      <td>2 Cr</td>\n",
       "      <td>ALL-ROUNDER</td>\n",
       "      <td>7.25</td>\n",
       "      <td>942.5</td>\n",
       "      <td>KKR</td>\n",
       "      <td>Kolkata Knight Riders</td>\n",
       "    </tr>\n",
       "    <tr>\n",
       "      <th>77</th>\n",
       "      <td>77</td>\n",
       "      <td>Shivam Mavi</td>\n",
       "      <td>40 Lakh</td>\n",
       "      <td>ALL-ROUNDER</td>\n",
       "      <td>7.25</td>\n",
       "      <td>942.5</td>\n",
       "      <td>KKR</td>\n",
       "      <td>Kolkata Knight Riders</td>\n",
       "    </tr>\n",
       "    <tr>\n",
       "      <th>78</th>\n",
       "      <td>78</td>\n",
       "      <td>Sunil Narine</td>\n",
       "      <td>Retained</td>\n",
       "      <td>ALL-ROUNDER</td>\n",
       "      <td>6.00</td>\n",
       "      <td>780.0</td>\n",
       "      <td>KKR</td>\n",
       "      <td>Kolkata Knight Riders</td>\n",
       "    </tr>\n",
       "    <tr>\n",
       "      <th>79</th>\n",
       "      <td>79</td>\n",
       "      <td>Sam Billings</td>\n",
       "      <td>2 Cr</td>\n",
       "      <td>WICKETKEEPER</td>\n",
       "      <td>2.00</td>\n",
       "      <td>260.0</td>\n",
       "      <td>DC</td>\n",
       "      <td>Kolkata Knight Riders</td>\n",
       "    </tr>\n",
       "    <tr>\n",
       "      <th>80</th>\n",
       "      <td>80</td>\n",
       "      <td>Umesh Yadav</td>\n",
       "      <td>2 Cr</td>\n",
       "      <td>BOWLER</td>\n",
       "      <td>2.00</td>\n",
       "      <td>260.0</td>\n",
       "      <td>DC</td>\n",
       "      <td>Kolkata Knight Riders</td>\n",
       "    </tr>\n",
       "    <tr>\n",
       "      <th>81</th>\n",
       "      <td>81</td>\n",
       "      <td>Tim Southee</td>\n",
       "      <td>1.5 Cr</td>\n",
       "      <td>BOWLER</td>\n",
       "      <td>1.50</td>\n",
       "      <td>195.0</td>\n",
       "      <td>KKR</td>\n",
       "      <td>Kolkata Knight Riders</td>\n",
       "    </tr>\n",
       "    <tr>\n",
       "      <th>82</th>\n",
       "      <td>82</td>\n",
       "      <td>Alex Hales</td>\n",
       "      <td>1.5 Cr</td>\n",
       "      <td>BATTER</td>\n",
       "      <td>1.50</td>\n",
       "      <td>195.0</td>\n",
       "      <td>NaN</td>\n",
       "      <td>Kolkata Knight Riders</td>\n",
       "    </tr>\n",
       "    <tr>\n",
       "      <th>83</th>\n",
       "      <td>83</td>\n",
       "      <td>Ajinkya Rahane</td>\n",
       "      <td>1 Cr</td>\n",
       "      <td>BATTER</td>\n",
       "      <td>1.00</td>\n",
       "      <td>130.0</td>\n",
       "      <td>DC</td>\n",
       "      <td>Kolkata Knight Riders</td>\n",
       "    </tr>\n",
       "    <tr>\n",
       "      <th>84</th>\n",
       "      <td>84</td>\n",
       "      <td>Mohammad Nabi</td>\n",
       "      <td>1 Cr</td>\n",
       "      <td>ALL-ROUNDER</td>\n",
       "      <td>1.00</td>\n",
       "      <td>130.0</td>\n",
       "      <td>SRH</td>\n",
       "      <td>Kolkata Knight Riders</td>\n",
       "    </tr>\n",
       "    <tr>\n",
       "      <th>85</th>\n",
       "      <td>85</td>\n",
       "      <td>Sheldon Jackson</td>\n",
       "      <td>30 Lakh</td>\n",
       "      <td>WICKETKEEPER</td>\n",
       "      <td>0.60</td>\n",
       "      <td>78.0</td>\n",
       "      <td>KKR</td>\n",
       "      <td>Kolkata Knight Riders</td>\n",
       "    </tr>\n",
       "    <tr>\n",
       "      <th>86</th>\n",
       "      <td>86</td>\n",
       "      <td>Rinku Singh</td>\n",
       "      <td>20 Lakh</td>\n",
       "      <td>BATTER</td>\n",
       "      <td>0.55</td>\n",
       "      <td>71.5</td>\n",
       "      <td>NaN</td>\n",
       "      <td>Kolkata Knight Riders</td>\n",
       "    </tr>\n",
       "    <tr>\n",
       "      <th>87</th>\n",
       "      <td>87</td>\n",
       "      <td>Ashok Sharma</td>\n",
       "      <td>20 Lakh</td>\n",
       "      <td>BOWLER</td>\n",
       "      <td>0.55</td>\n",
       "      <td>71.5</td>\n",
       "      <td>NaN</td>\n",
       "      <td>Kolkata Knight Riders</td>\n",
       "    </tr>\n",
       "    <tr>\n",
       "      <th>88</th>\n",
       "      <td>88</td>\n",
       "      <td>Chamika Karunaratne</td>\n",
       "      <td>50 Lakh</td>\n",
       "      <td>ALL-ROUNDER</td>\n",
       "      <td>0.50</td>\n",
       "      <td>65.0</td>\n",
       "      <td>NaN</td>\n",
       "      <td>Kolkata Knight Riders</td>\n",
       "    </tr>\n",
       "    <tr>\n",
       "      <th>89</th>\n",
       "      <td>89</td>\n",
       "      <td>Abhijeet Tomar</td>\n",
       "      <td>20 Lakh</td>\n",
       "      <td>BATTER</td>\n",
       "      <td>0.40</td>\n",
       "      <td>52.0</td>\n",
       "      <td>NaN</td>\n",
       "      <td>Kolkata Knight Riders</td>\n",
       "    </tr>\n",
       "    <tr>\n",
       "      <th>90</th>\n",
       "      <td>90</td>\n",
       "      <td>Rasikh Dar</td>\n",
       "      <td>20 Lakh</td>\n",
       "      <td>BOWLER</td>\n",
       "      <td>0.20</td>\n",
       "      <td>26.0</td>\n",
       "      <td>NaN</td>\n",
       "      <td>Kolkata Knight Riders</td>\n",
       "    </tr>\n",
       "    <tr>\n",
       "      <th>91</th>\n",
       "      <td>91</td>\n",
       "      <td>Anukul Roy</td>\n",
       "      <td>20 Lakh</td>\n",
       "      <td>ALL-ROUNDER</td>\n",
       "      <td>0.20</td>\n",
       "      <td>26.0</td>\n",
       "      <td>MI</td>\n",
       "      <td>Kolkata Knight Riders</td>\n",
       "    </tr>\n",
       "    <tr>\n",
       "      <th>92</th>\n",
       "      <td>92</td>\n",
       "      <td>Baba Indrajith</td>\n",
       "      <td>20 Lakh</td>\n",
       "      <td>WICKETKEEPER</td>\n",
       "      <td>0.20</td>\n",
       "      <td>26.0</td>\n",
       "      <td>NaN</td>\n",
       "      <td>Kolkata Knight Riders</td>\n",
       "    </tr>\n",
       "    <tr>\n",
       "      <th>93</th>\n",
       "      <td>93</td>\n",
       "      <td>Aman Khan</td>\n",
       "      <td>20 Lakh</td>\n",
       "      <td>ALL-ROUNDER</td>\n",
       "      <td>0.20</td>\n",
       "      <td>26.0</td>\n",
       "      <td>NaN</td>\n",
       "      <td>Kolkata Knight Riders</td>\n",
       "    </tr>\n",
       "    <tr>\n",
       "      <th>94</th>\n",
       "      <td>94</td>\n",
       "      <td>Ramesh Kumar</td>\n",
       "      <td>20 Lakh</td>\n",
       "      <td>BATTER</td>\n",
       "      <td>0.20</td>\n",
       "      <td>26.0</td>\n",
       "      <td>NaN</td>\n",
       "      <td>Kolkata Knight Riders</td>\n",
       "    </tr>\n",
       "    <tr>\n",
       "      <th>95</th>\n",
       "      <td>95</td>\n",
       "      <td>Pratham Singh</td>\n",
       "      <td>20 Lakh</td>\n",
       "      <td>BATTER</td>\n",
       "      <td>0.20</td>\n",
       "      <td>26.0</td>\n",
       "      <td>NaN</td>\n",
       "      <td>Kolkata Knight Riders</td>\n",
       "    </tr>\n",
       "  </tbody>\n",
       "</table>\n",
       "</div>"
      ],
      "text/plain": [
       "    Unnamed: 0               Player Base Price          TYPE  COST IN ₹ (CR.)  \\\n",
       "71          71         Shreyas Iyer       2 Cr        BATTER            12.25   \n",
       "72          72        Andre Russell   Retained   ALL-ROUNDER            12.00   \n",
       "73          73          Nitish Rana       1 Cr   ALL-ROUNDER             8.00   \n",
       "74          74       Venkatesh Iyer   Retained   ALL-ROUNDER             8.00   \n",
       "75          75  Varun Chakaravarthy   Retained        BOWLER             8.00   \n",
       "76          76          Pat Cummins       2 Cr   ALL-ROUNDER             7.25   \n",
       "77          77          Shivam Mavi    40 Lakh   ALL-ROUNDER             7.25   \n",
       "78          78         Sunil Narine   Retained   ALL-ROUNDER             6.00   \n",
       "79          79         Sam Billings       2 Cr  WICKETKEEPER             2.00   \n",
       "80          80          Umesh Yadav       2 Cr        BOWLER             2.00   \n",
       "81          81          Tim Southee     1.5 Cr        BOWLER             1.50   \n",
       "82          82           Alex Hales     1.5 Cr        BATTER             1.50   \n",
       "83          83       Ajinkya Rahane       1 Cr        BATTER             1.00   \n",
       "84          84        Mohammad Nabi       1 Cr   ALL-ROUNDER             1.00   \n",
       "85          85      Sheldon Jackson    30 Lakh  WICKETKEEPER             0.60   \n",
       "86          86          Rinku Singh    20 Lakh        BATTER             0.55   \n",
       "87          87         Ashok Sharma    20 Lakh        BOWLER             0.55   \n",
       "88          88  Chamika Karunaratne    50 Lakh   ALL-ROUNDER             0.50   \n",
       "89          89       Abhijeet Tomar    20 Lakh        BATTER             0.40   \n",
       "90          90           Rasikh Dar    20 Lakh        BOWLER             0.20   \n",
       "91          91           Anukul Roy    20 Lakh   ALL-ROUNDER             0.20   \n",
       "92          92       Baba Indrajith    20 Lakh  WICKETKEEPER             0.20   \n",
       "93          93            Aman Khan    20 Lakh   ALL-ROUNDER             0.20   \n",
       "94          94         Ramesh Kumar    20 Lakh        BATTER             0.20   \n",
       "95          95        Pratham Singh    20 Lakh        BATTER             0.20   \n",
       "\n",
       "    Cost IN $ (000) 2021 Squad                   Team  \n",
       "71           1592.5         DC  Kolkata Knight Riders  \n",
       "72           1560.0        KKR  Kolkata Knight Riders  \n",
       "73           1040.0        KKR  Kolkata Knight Riders  \n",
       "74           1040.0        KKR  Kolkata Knight Riders  \n",
       "75           1040.0        KKR  Kolkata Knight Riders  \n",
       "76            942.5        KKR  Kolkata Knight Riders  \n",
       "77            942.5        KKR  Kolkata Knight Riders  \n",
       "78            780.0        KKR  Kolkata Knight Riders  \n",
       "79            260.0         DC  Kolkata Knight Riders  \n",
       "80            260.0         DC  Kolkata Knight Riders  \n",
       "81            195.0        KKR  Kolkata Knight Riders  \n",
       "82            195.0        NaN  Kolkata Knight Riders  \n",
       "83            130.0         DC  Kolkata Knight Riders  \n",
       "84            130.0        SRH  Kolkata Knight Riders  \n",
       "85             78.0        KKR  Kolkata Knight Riders  \n",
       "86             71.5        NaN  Kolkata Knight Riders  \n",
       "87             71.5        NaN  Kolkata Knight Riders  \n",
       "88             65.0        NaN  Kolkata Knight Riders  \n",
       "89             52.0        NaN  Kolkata Knight Riders  \n",
       "90             26.0        NaN  Kolkata Knight Riders  \n",
       "91             26.0         MI  Kolkata Knight Riders  \n",
       "92             26.0        NaN  Kolkata Knight Riders  \n",
       "93             26.0        NaN  Kolkata Knight Riders  \n",
       "94             26.0        NaN  Kolkata Knight Riders  \n",
       "95             26.0        NaN  Kolkata Knight Riders  "
      ]
     },
     "execution_count": 297,
     "metadata": {},
     "output_type": "execute_result"
    }
   ],
   "source": [
    "KKR = df.loc[df['Team']=='Kolkata Knight Riders']\n",
    "KKR\n"
   ]
  },
  {
   "cell_type": "code",
   "execution_count": 298,
   "metadata": {},
   "outputs": [
    {
     "data": {
      "text/plain": [
       "81.55"
      ]
     },
     "execution_count": 298,
     "metadata": {},
     "output_type": "execute_result"
    }
   ],
   "source": [
    "KKR['COST IN ₹ (CR.)'].sum()"
   ]
  },
  {
   "cell_type": "code",
   "execution_count": 299,
   "metadata": {},
   "outputs": [
    {
     "data": {
      "text/plain": [
       "3.262"
      ]
     },
     "execution_count": 299,
     "metadata": {},
     "output_type": "execute_result"
    }
   ],
   "source": [
    "KKR['COST IN ₹ (CR.)'].mean()"
   ]
  },
  {
   "cell_type": "code",
   "execution_count": 300,
   "metadata": {},
   "outputs": [
    {
     "data": {
      "text/plain": [
       "12.25"
      ]
     },
     "execution_count": 300,
     "metadata": {},
     "output_type": "execute_result"
    }
   ],
   "source": [
    "KKR['COST IN ₹ (CR.)'].max()"
   ]
  },
  {
   "cell_type": "code",
   "execution_count": 301,
   "metadata": {},
   "outputs": [
    {
     "data": {
      "text/plain": [
       "3.964879149062007"
      ]
     },
     "execution_count": 301,
     "metadata": {},
     "output_type": "execute_result"
    }
   ],
   "source": [
    "KKR['COST IN ₹ (CR.)'].std()"
   ]
  },
  {
   "cell_type": "code",
   "execution_count": 302,
   "metadata": {},
   "outputs": [],
   "source": [
    "#Observation\n",
    "#a) Total money spent by KKR is 81.55 crores\n",
    "#b) Mean of total money spent by KKR is 3.262 crores\n",
    "#c) Maximum money spent on player is 12.25 crores.\n",
    "#d) Standard deviation is 3.96 cr in KKR"
   ]
  },
  {
   "cell_type": "code",
   "execution_count": 303,
   "metadata": {},
   "outputs": [
    {
     "data": {
      "text/plain": [
       "<matplotlib.collections.PathCollection at 0x2a7c99ab580>"
      ]
     },
     "execution_count": 303,
     "metadata": {},
     "output_type": "execute_result"
    },
    {
     "data": {
      "image/png": "[encoded data removed]",
      "text/plain": [
       "<Figure size 864x432 with 1 Axes>"
      ]
     },
     "metadata": {
      "needs_background": "light"
     },
     "output_type": "display_data"
    }
   ],
   "source": [
    "plt.scatter(x=KKR['TYPE'],y=KKR['COST IN ₹ (CR.)'])"
   ]
  },
  {
   "cell_type": "code",
   "execution_count": 304,
   "metadata": {},
   "outputs": [
    {
     "data": {
      "text/html": [
       "<div>\n",
       "<style scoped>\n",
       "    .dataframe tbody tr th:only-of-type {\n",
       "        vertical-align: middle;\n",
       "    }\n",
       "\n",
       "    .dataframe tbody tr th {\n",
       "        vertical-align: top;\n",
       "    }\n",
       "\n",
       "    .dataframe thead th {\n",
       "        text-align: right;\n",
       "    }\n",
       "</style>\n",
       "<table border=\"1\" class=\"dataframe\">\n",
       "  <thead>\n",
       "    <tr style=\"text-align: right;\">\n",
       "      <th></th>\n",
       "      <th>Base Price</th>\n",
       "      <th>Count</th>\n",
       "    </tr>\n",
       "  </thead>\n",
       "  <tbody>\n",
       "    <tr>\n",
       "      <th>0</th>\n",
       "      <td>1 Cr</td>\n",
       "      <td>3</td>\n",
       "    </tr>\n",
       "    <tr>\n",
       "      <th>1</th>\n",
       "      <td>1.5 Cr</td>\n",
       "      <td>2</td>\n",
       "    </tr>\n",
       "    <tr>\n",
       "      <th>2</th>\n",
       "      <td>2 Cr</td>\n",
       "      <td>4</td>\n",
       "    </tr>\n",
       "    <tr>\n",
       "      <th>3</th>\n",
       "      <td>20 Lakh</td>\n",
       "      <td>9</td>\n",
       "    </tr>\n",
       "    <tr>\n",
       "      <th>4</th>\n",
       "      <td>30 Lakh</td>\n",
       "      <td>1</td>\n",
       "    </tr>\n",
       "    <tr>\n",
       "      <th>5</th>\n",
       "      <td>40 Lakh</td>\n",
       "      <td>1</td>\n",
       "    </tr>\n",
       "    <tr>\n",
       "      <th>6</th>\n",
       "      <td>50 Lakh</td>\n",
       "      <td>1</td>\n",
       "    </tr>\n",
       "    <tr>\n",
       "      <th>7</th>\n",
       "      <td>Retained</td>\n",
       "      <td>4</td>\n",
       "    </tr>\n",
       "  </tbody>\n",
       "</table>\n",
       "</div>"
      ],
      "text/plain": [
       "  Base Price  Count\n",
       "0       1 Cr      3\n",
       "1     1.5 Cr      2\n",
       "2       2 Cr      4\n",
       "3    20 Lakh      9\n",
       "4    30 Lakh      1\n",
       "5    40 Lakh      1\n",
       "6    50 Lakh      1\n",
       "7   Retained      4"
      ]
     },
     "execution_count": 304,
     "metadata": {},
     "output_type": "execute_result"
    }
   ],
   "source": [
    "KKR.groupby('Base Price').size().reset_index().rename(columns={0:'Count'})"
   ]
  },
  {
   "cell_type": "code",
   "execution_count": 305,
   "metadata": {},
   "outputs": [
    {
     "data": {
      "text/html": [
       "<div>\n",
       "<style scoped>\n",
       "    .dataframe tbody tr th:only-of-type {\n",
       "        vertical-align: middle;\n",
       "    }\n",
       "\n",
       "    .dataframe tbody tr th {\n",
       "        vertical-align: top;\n",
       "    }\n",
       "\n",
       "    .dataframe thead th {\n",
       "        text-align: right;\n",
       "    }\n",
       "</style>\n",
       "<table border=\"1\" class=\"dataframe\">\n",
       "  <thead>\n",
       "    <tr style=\"text-align: right;\">\n",
       "      <th></th>\n",
       "      <th>sum</th>\n",
       "      <th>count</th>\n",
       "    </tr>\n",
       "    <tr>\n",
       "      <th>TYPE</th>\n",
       "      <th></th>\n",
       "      <th></th>\n",
       "    </tr>\n",
       "  </thead>\n",
       "  <tbody>\n",
       "    <tr>\n",
       "      <th>ALL-ROUNDER</th>\n",
       "      <td>50.40</td>\n",
       "      <td>10</td>\n",
       "    </tr>\n",
       "    <tr>\n",
       "      <th>BATTER</th>\n",
       "      <td>16.10</td>\n",
       "      <td>7</td>\n",
       "    </tr>\n",
       "    <tr>\n",
       "      <th>BOWLER</th>\n",
       "      <td>12.25</td>\n",
       "      <td>5</td>\n",
       "    </tr>\n",
       "    <tr>\n",
       "      <th>WICKETKEEPER</th>\n",
       "      <td>2.80</td>\n",
       "      <td>3</td>\n",
       "    </tr>\n",
       "  </tbody>\n",
       "</table>\n",
       "</div>"
      ],
      "text/plain": [
       "                sum  count\n",
       "TYPE                      \n",
       "ALL-ROUNDER   50.40     10\n",
       "BATTER        16.10      7\n",
       "BOWLER        12.25      5\n",
       "WICKETKEEPER   2.80      3"
      ]
     },
     "execution_count": 305,
     "metadata": {},
     "output_type": "execute_result"
    }
   ],
   "source": [
    "KKR.groupby('TYPE')['COST IN ₹ (CR.)'].agg(['sum','count'])"
   ]
  },
  {
   "cell_type": "code",
   "execution_count": 306,
   "metadata": {},
   "outputs": [
    {
     "data": {
      "text/plain": [
       "<AxesSubplot: xlabel='TYPE'>"
      ]
     },
     "execution_count": 306,
     "metadata": {},
     "output_type": "execute_result"
    },
    {
     "data": {
      "image/png": "[encoded data removed]",
      "text/plain": [
       "<Figure size 864x432 with 1 Axes>"
      ]
     },
     "metadata": {
      "needs_background": "light"
     },
     "output_type": "display_data"
    }
   ],
   "source": [
    "KKR.groupby('TYPE')['COST IN ₹ (CR.)'].agg(['sum','count']).plot(kind='bar')"
   ]
  },
  {
   "cell_type": "code",
   "execution_count": 307,
   "metadata": {},
   "outputs": [],
   "source": [
    "#OBSERVATIONS\n",
    "# KKR has\n",
    "#a)10 All Rounders on whom 50.40 cr is spent\n",
    "#b)7 Batters on whom 16.10 cr is spent\n",
    "#c)5 Bowlers on whom 12.25 cr is spent\n",
    "#d)3 Wicketkeepers on which 2.80 cr is spent\n",
    "#e)4 players were retained from the last season\n",
    "#f)We infer that KKR focused mainly on all rounders in the auction."
   ]
  },
  {
   "attachments": {},
   "cell_type": "markdown",
   "metadata": {},
   "source": [
    "Punjab Kings"
   ]
  },
  {
   "cell_type": "code",
   "execution_count": 308,
   "metadata": {},
   "outputs": [
    {
     "data": {
      "text/html": [
       "<div>\n",
       "<style scoped>\n",
       "    .dataframe tbody tr th:only-of-type {\n",
       "        vertical-align: middle;\n",
       "    }\n",
       "\n",
       "    .dataframe tbody tr th {\n",
       "        vertical-align: top;\n",
       "    }\n",
       "\n",
       "    .dataframe thead th {\n",
       "        text-align: right;\n",
       "    }\n",
       "</style>\n",
       "<table border=\"1\" class=\"dataframe\">\n",
       "  <thead>\n",
       "    <tr style=\"text-align: right;\">\n",
       "      <th></th>\n",
       "      <th>Unnamed: 0</th>\n",
       "      <th>Player</th>\n",
       "      <th>Base Price</th>\n",
       "      <th>TYPE</th>\n",
       "      <th>COST IN ₹ (CR.)</th>\n",
       "      <th>Cost IN $ (000)</th>\n",
       "      <th>2021 Squad</th>\n",
       "      <th>Team</th>\n",
       "    </tr>\n",
       "  </thead>\n",
       "  <tbody>\n",
       "    <tr>\n",
       "      <th>96</th>\n",
       "      <td>96</td>\n",
       "      <td>Mayank Agarwal</td>\n",
       "      <td>Retained</td>\n",
       "      <td>BATTER</td>\n",
       "      <td>12.00</td>\n",
       "      <td>1560.0</td>\n",
       "      <td>PBKS</td>\n",
       "      <td>Punjab Kings</td>\n",
       "    </tr>\n",
       "    <tr>\n",
       "      <th>97</th>\n",
       "      <td>97</td>\n",
       "      <td>Liam Livingstone</td>\n",
       "      <td>1 Cr</td>\n",
       "      <td>ALL-ROUNDER</td>\n",
       "      <td>11.50</td>\n",
       "      <td>1495.0</td>\n",
       "      <td>RR</td>\n",
       "      <td>Punjab Kings</td>\n",
       "    </tr>\n",
       "    <tr>\n",
       "      <th>98</th>\n",
       "      <td>98</td>\n",
       "      <td>Kagiso Rabada</td>\n",
       "      <td>2 Cr</td>\n",
       "      <td>BOWLER</td>\n",
       "      <td>9.25</td>\n",
       "      <td>1202.5</td>\n",
       "      <td>DC</td>\n",
       "      <td>Punjab Kings</td>\n",
       "    </tr>\n",
       "    <tr>\n",
       "      <th>99</th>\n",
       "      <td>99</td>\n",
       "      <td>Shahrukh Khan</td>\n",
       "      <td>40 Lakh</td>\n",
       "      <td>ALL-ROUNDER</td>\n",
       "      <td>9.00</td>\n",
       "      <td>1170.0</td>\n",
       "      <td>PBKS</td>\n",
       "      <td>Punjab Kings</td>\n",
       "    </tr>\n",
       "    <tr>\n",
       "      <th>100</th>\n",
       "      <td>100</td>\n",
       "      <td>Shikhar Dhawan</td>\n",
       "      <td>2 Cr</td>\n",
       "      <td>BATTER</td>\n",
       "      <td>8.25</td>\n",
       "      <td>1072.5</td>\n",
       "      <td>DC</td>\n",
       "      <td>Punjab Kings</td>\n",
       "    </tr>\n",
       "    <tr>\n",
       "      <th>101</th>\n",
       "      <td>101</td>\n",
       "      <td>Jonny Bairstow</td>\n",
       "      <td>1.5 Cr</td>\n",
       "      <td>WICKETKEEPER</td>\n",
       "      <td>6.75</td>\n",
       "      <td>877.5</td>\n",
       "      <td>SRH</td>\n",
       "      <td>Punjab Kings</td>\n",
       "    </tr>\n",
       "    <tr>\n",
       "      <th>102</th>\n",
       "      <td>102</td>\n",
       "      <td>Odean Smith</td>\n",
       "      <td>1 Cr</td>\n",
       "      <td>ALL-ROUNDER</td>\n",
       "      <td>6.00</td>\n",
       "      <td>780.0</td>\n",
       "      <td>NaN</td>\n",
       "      <td>Punjab Kings</td>\n",
       "    </tr>\n",
       "    <tr>\n",
       "      <th>103</th>\n",
       "      <td>103</td>\n",
       "      <td>Rahul Chahar</td>\n",
       "      <td>75 Lakh</td>\n",
       "      <td>BOWLER</td>\n",
       "      <td>5.25</td>\n",
       "      <td>682.5</td>\n",
       "      <td>MI</td>\n",
       "      <td>Punjab Kings</td>\n",
       "    </tr>\n",
       "    <tr>\n",
       "      <th>104</th>\n",
       "      <td>104</td>\n",
       "      <td>Arshdeep Singh</td>\n",
       "      <td>Retained</td>\n",
       "      <td>BOWLER</td>\n",
       "      <td>4.00</td>\n",
       "      <td>520.0</td>\n",
       "      <td>PBKS</td>\n",
       "      <td>Punjab Kings</td>\n",
       "    </tr>\n",
       "    <tr>\n",
       "      <th>105</th>\n",
       "      <td>105</td>\n",
       "      <td>Harpreet Brar</td>\n",
       "      <td>20 Lakh</td>\n",
       "      <td>ALL-ROUNDER</td>\n",
       "      <td>3.80</td>\n",
       "      <td>494.0</td>\n",
       "      <td>PBKS</td>\n",
       "      <td>Punjab Kings</td>\n",
       "    </tr>\n",
       "    <tr>\n",
       "      <th>106</th>\n",
       "      <td>106</td>\n",
       "      <td>Vaibhav Arora</td>\n",
       "      <td>20 Lakh</td>\n",
       "      <td>BOWLER</td>\n",
       "      <td>2.00</td>\n",
       "      <td>260.0</td>\n",
       "      <td>KKR</td>\n",
       "      <td>Punjab Kings</td>\n",
       "    </tr>\n",
       "    <tr>\n",
       "      <th>107</th>\n",
       "      <td>107</td>\n",
       "      <td>Raj Angad Bawa</td>\n",
       "      <td>20 Lakh</td>\n",
       "      <td>ALL-ROUNDER</td>\n",
       "      <td>2.00</td>\n",
       "      <td>260.0</td>\n",
       "      <td>NaN</td>\n",
       "      <td>Punjab Kings</td>\n",
       "    </tr>\n",
       "    <tr>\n",
       "      <th>108</th>\n",
       "      <td>108</td>\n",
       "      <td>Nathan Ellis</td>\n",
       "      <td>75 Lakh</td>\n",
       "      <td>BOWLER</td>\n",
       "      <td>0.75</td>\n",
       "      <td>97.5</td>\n",
       "      <td>PBKS</td>\n",
       "      <td>Punjab Kings</td>\n",
       "    </tr>\n",
       "    <tr>\n",
       "      <th>109</th>\n",
       "      <td>109</td>\n",
       "      <td>Prabhsimran Singh</td>\n",
       "      <td>20 Lakh</td>\n",
       "      <td>WICKETKEEPER</td>\n",
       "      <td>0.60</td>\n",
       "      <td>78.0</td>\n",
       "      <td>PBKS</td>\n",
       "      <td>Punjab Kings</td>\n",
       "    </tr>\n",
       "    <tr>\n",
       "      <th>110</th>\n",
       "      <td>110</td>\n",
       "      <td>Rishi Dhawan</td>\n",
       "      <td>50 Lakh</td>\n",
       "      <td>ALL-ROUNDER</td>\n",
       "      <td>0.55</td>\n",
       "      <td>71.5</td>\n",
       "      <td>NaN</td>\n",
       "      <td>Punjab Kings</td>\n",
       "    </tr>\n",
       "    <tr>\n",
       "      <th>111</th>\n",
       "      <td>111</td>\n",
       "      <td>Sandeep Sharma</td>\n",
       "      <td>50 Lakh</td>\n",
       "      <td>BOWLER</td>\n",
       "      <td>0.50</td>\n",
       "      <td>65.0</td>\n",
       "      <td>SRH</td>\n",
       "      <td>Punjab Kings</td>\n",
       "    </tr>\n",
       "    <tr>\n",
       "      <th>112</th>\n",
       "      <td>112</td>\n",
       "      <td>Bhanuka Rajapaksa</td>\n",
       "      <td>50 Lakh</td>\n",
       "      <td>BATTER</td>\n",
       "      <td>0.50</td>\n",
       "      <td>65.0</td>\n",
       "      <td>NaN</td>\n",
       "      <td>Punjab Kings</td>\n",
       "    </tr>\n",
       "    <tr>\n",
       "      <th>113</th>\n",
       "      <td>113</td>\n",
       "      <td>Benny Howell</td>\n",
       "      <td>40 Lakh</td>\n",
       "      <td>ALL-ROUNDER</td>\n",
       "      <td>0.40</td>\n",
       "      <td>52.0</td>\n",
       "      <td>NaN</td>\n",
       "      <td>Punjab Kings</td>\n",
       "    </tr>\n",
       "    <tr>\n",
       "      <th>114</th>\n",
       "      <td>114</td>\n",
       "      <td>Ishan Porel</td>\n",
       "      <td>20 Lakh</td>\n",
       "      <td>BOWLER</td>\n",
       "      <td>0.25</td>\n",
       "      <td>32.5</td>\n",
       "      <td>PBKS</td>\n",
       "      <td>Punjab Kings</td>\n",
       "    </tr>\n",
       "    <tr>\n",
       "      <th>115</th>\n",
       "      <td>115</td>\n",
       "      <td>Prerak Mankad</td>\n",
       "      <td>20 Lakh</td>\n",
       "      <td>ALL-ROUNDER</td>\n",
       "      <td>0.20</td>\n",
       "      <td>26.0</td>\n",
       "      <td>NaN</td>\n",
       "      <td>Punjab Kings</td>\n",
       "    </tr>\n",
       "    <tr>\n",
       "      <th>116</th>\n",
       "      <td>116</td>\n",
       "      <td>Ansh Patel</td>\n",
       "      <td>20 Lakh</td>\n",
       "      <td>ALL-ROUNDER</td>\n",
       "      <td>0.20</td>\n",
       "      <td>26.0</td>\n",
       "      <td>NaN</td>\n",
       "      <td>Punjab Kings</td>\n",
       "    </tr>\n",
       "    <tr>\n",
       "      <th>117</th>\n",
       "      <td>117</td>\n",
       "      <td>Jitesh Sharma</td>\n",
       "      <td>20 Lakh</td>\n",
       "      <td>WICKETKEEPER</td>\n",
       "      <td>0.20</td>\n",
       "      <td>26.0</td>\n",
       "      <td>NaN</td>\n",
       "      <td>Punjab Kings</td>\n",
       "    </tr>\n",
       "    <tr>\n",
       "      <th>118</th>\n",
       "      <td>118</td>\n",
       "      <td>Writtick Chatterjee</td>\n",
       "      <td>20 Lakh</td>\n",
       "      <td>ALL-ROUNDER</td>\n",
       "      <td>0.20</td>\n",
       "      <td>26.0</td>\n",
       "      <td>NaN</td>\n",
       "      <td>Punjab Kings</td>\n",
       "    </tr>\n",
       "    <tr>\n",
       "      <th>119</th>\n",
       "      <td>119</td>\n",
       "      <td>Atharva Taide</td>\n",
       "      <td>20 Lakh</td>\n",
       "      <td>ALL-ROUNDER</td>\n",
       "      <td>0.20</td>\n",
       "      <td>26.0</td>\n",
       "      <td>NaN</td>\n",
       "      <td>Punjab Kings</td>\n",
       "    </tr>\n",
       "    <tr>\n",
       "      <th>120</th>\n",
       "      <td>120</td>\n",
       "      <td>Baltej Dhanda</td>\n",
       "      <td>20 Lakh</td>\n",
       "      <td>BOWLER</td>\n",
       "      <td>0.20</td>\n",
       "      <td>26.0</td>\n",
       "      <td>NaN</td>\n",
       "      <td>Punjab Kings</td>\n",
       "    </tr>\n",
       "  </tbody>\n",
       "</table>\n",
       "</div>"
      ],
      "text/plain": [
       "     Unnamed: 0               Player Base Price          TYPE  \\\n",
       "96           96       Mayank Agarwal   Retained        BATTER   \n",
       "97           97     Liam Livingstone       1 Cr   ALL-ROUNDER   \n",
       "98           98        Kagiso Rabada       2 Cr        BOWLER   \n",
       "99           99        Shahrukh Khan    40 Lakh   ALL-ROUNDER   \n",
       "100         100       Shikhar Dhawan       2 Cr        BATTER   \n",
       "101         101       Jonny Bairstow     1.5 Cr  WICKETKEEPER   \n",
       "102         102          Odean Smith       1 Cr   ALL-ROUNDER   \n",
       "103         103         Rahul Chahar    75 Lakh        BOWLER   \n",
       "104         104       Arshdeep Singh   Retained        BOWLER   \n",
       "105         105        Harpreet Brar    20 Lakh   ALL-ROUNDER   \n",
       "106         106        Vaibhav Arora    20 Lakh        BOWLER   \n",
       "107         107       Raj Angad Bawa    20 Lakh   ALL-ROUNDER   \n",
       "108         108         Nathan Ellis    75 Lakh        BOWLER   \n",
       "109         109    Prabhsimran Singh    20 Lakh  WICKETKEEPER   \n",
       "110         110         Rishi Dhawan    50 Lakh   ALL-ROUNDER   \n",
       "111         111       Sandeep Sharma    50 Lakh        BOWLER   \n",
       "112         112    Bhanuka Rajapaksa    50 Lakh        BATTER   \n",
       "113         113         Benny Howell    40 Lakh   ALL-ROUNDER   \n",
       "114         114          Ishan Porel    20 Lakh        BOWLER   \n",
       "115         115        Prerak Mankad    20 Lakh   ALL-ROUNDER   \n",
       "116         116           Ansh Patel    20 Lakh   ALL-ROUNDER   \n",
       "117         117        Jitesh Sharma    20 Lakh  WICKETKEEPER   \n",
       "118         118  Writtick Chatterjee    20 Lakh   ALL-ROUNDER   \n",
       "119         119        Atharva Taide    20 Lakh   ALL-ROUNDER   \n",
       "120         120        Baltej Dhanda    20 Lakh        BOWLER   \n",
       "\n",
       "     COST IN ₹ (CR.)  Cost IN $ (000) 2021 Squad          Team  \n",
       "96             12.00           1560.0       PBKS  Punjab Kings  \n",
       "97             11.50           1495.0         RR  Punjab Kings  \n",
       "98              9.25           1202.5         DC  Punjab Kings  \n",
       "99              9.00           1170.0       PBKS  Punjab Kings  \n",
       "100             8.25           1072.5         DC  Punjab Kings  \n",
       "101             6.75            877.5        SRH  Punjab Kings  \n",
       "102             6.00            780.0        NaN  Punjab Kings  \n",
       "103             5.25            682.5         MI  Punjab Kings  \n",
       "104             4.00            520.0       PBKS  Punjab Kings  \n",
       "105             3.80            494.0       PBKS  Punjab Kings  \n",
       "106             2.00            260.0        KKR  Punjab Kings  \n",
       "107             2.00            260.0        NaN  Punjab Kings  \n",
       "108             0.75             97.5       PBKS  Punjab Kings  \n",
       "109             0.60             78.0       PBKS  Punjab Kings  \n",
       "110             0.55             71.5        NaN  Punjab Kings  \n",
       "111             0.50             65.0        SRH  Punjab Kings  \n",
       "112             0.50             65.0        NaN  Punjab Kings  \n",
       "113             0.40             52.0        NaN  Punjab Kings  \n",
       "114             0.25             32.5       PBKS  Punjab Kings  \n",
       "115             0.20             26.0        NaN  Punjab Kings  \n",
       "116             0.20             26.0        NaN  Punjab Kings  \n",
       "117             0.20             26.0        NaN  Punjab Kings  \n",
       "118             0.20             26.0        NaN  Punjab Kings  \n",
       "119             0.20             26.0        NaN  Punjab Kings  \n",
       "120             0.20             26.0        NaN  Punjab Kings  "
      ]
     },
     "execution_count": 308,
     "metadata": {},
     "output_type": "execute_result"
    }
   ],
   "source": [
    "PK = df.loc[df['Team']=='Punjab Kings']\n",
    "PK\n"
   ]
  },
  {
   "cell_type": "code",
   "execution_count": 309,
   "metadata": {},
   "outputs": [
    {
     "data": {
      "text/plain": [
       "84.55000000000001"
      ]
     },
     "execution_count": 309,
     "metadata": {},
     "output_type": "execute_result"
    }
   ],
   "source": [
    "PK['COST IN ₹ (CR.)'].sum()"
   ]
  },
  {
   "cell_type": "code",
   "execution_count": 310,
   "metadata": {},
   "outputs": [
    {
     "data": {
      "text/plain": [
       "3.3820000000000006"
      ]
     },
     "execution_count": 310,
     "metadata": {},
     "output_type": "execute_result"
    }
   ],
   "source": [
    "PK['COST IN ₹ (CR.)'].mean()"
   ]
  },
  {
   "cell_type": "code",
   "execution_count": 311,
   "metadata": {},
   "outputs": [
    {
     "data": {
      "text/plain": [
       "12.0"
      ]
     },
     "execution_count": 311,
     "metadata": {},
     "output_type": "execute_result"
    }
   ],
   "source": [
    "PK['COST IN ₹ (CR.)'].max()"
   ]
  },
  {
   "cell_type": "code",
   "execution_count": 312,
   "metadata": {},
   "outputs": [
    {
     "data": {
      "text/plain": [
       "3.9511570035455015"
      ]
     },
     "execution_count": 312,
     "metadata": {},
     "output_type": "execute_result"
    }
   ],
   "source": [
    "PK['COST IN ₹ (CR.)'].std()"
   ]
  },
  {
   "cell_type": "code",
   "execution_count": 313,
   "metadata": {},
   "outputs": [],
   "source": [
    "#Observation\n",
    "#a) Total money spent by PK is 87.55 crores\n",
    "#b) Mean of total money spent by KKR is 3.38 crores\n",
    "#c) Maximum money spent on player is 12.0 crores.\n",
    "#d) Standard deviation is 3.95 cr in CSK"
   ]
  },
  {
   "cell_type": "code",
   "execution_count": 314,
   "metadata": {},
   "outputs": [
    {
     "data": {
      "text/plain": [
       "<matplotlib.collections.PathCollection at 0x2a7c9be6830>"
      ]
     },
     "execution_count": 314,
     "metadata": {},
     "output_type": "execute_result"
    },
    {
     "data": {
      "image/png": "[encoded data removed]",
      "text/plain": [
       "<Figure size 864x432 with 1 Axes>"
      ]
     },
     "metadata": {
      "needs_background": "light"
     },
     "output_type": "display_data"
    }
   ],
   "source": [
    "plt.scatter(x=PK['TYPE'],y=PK['COST IN ₹ (CR.)'])"
   ]
  },
  {
   "cell_type": "code",
   "execution_count": 315,
   "metadata": {},
   "outputs": [
    {
     "data": {
      "text/html": [
       "<div>\n",
       "<style scoped>\n",
       "    .dataframe tbody tr th:only-of-type {\n",
       "        vertical-align: middle;\n",
       "    }\n",
       "\n",
       "    .dataframe tbody tr th {\n",
       "        vertical-align: top;\n",
       "    }\n",
       "\n",
       "    .dataframe thead th {\n",
       "        text-align: right;\n",
       "    }\n",
       "</style>\n",
       "<table border=\"1\" class=\"dataframe\">\n",
       "  <thead>\n",
       "    <tr style=\"text-align: right;\">\n",
       "      <th></th>\n",
       "      <th>Base Price</th>\n",
       "      <th>Count</th>\n",
       "    </tr>\n",
       "  </thead>\n",
       "  <tbody>\n",
       "    <tr>\n",
       "      <th>0</th>\n",
       "      <td>1 Cr</td>\n",
       "      <td>2</td>\n",
       "    </tr>\n",
       "    <tr>\n",
       "      <th>1</th>\n",
       "      <td>1.5 Cr</td>\n",
       "      <td>1</td>\n",
       "    </tr>\n",
       "    <tr>\n",
       "      <th>2</th>\n",
       "      <td>2 Cr</td>\n",
       "      <td>2</td>\n",
       "    </tr>\n",
       "    <tr>\n",
       "      <th>3</th>\n",
       "      <td>20 Lakh</td>\n",
       "      <td>11</td>\n",
       "    </tr>\n",
       "    <tr>\n",
       "      <th>4</th>\n",
       "      <td>40 Lakh</td>\n",
       "      <td>2</td>\n",
       "    </tr>\n",
       "    <tr>\n",
       "      <th>5</th>\n",
       "      <td>50 Lakh</td>\n",
       "      <td>3</td>\n",
       "    </tr>\n",
       "    <tr>\n",
       "      <th>6</th>\n",
       "      <td>75 Lakh</td>\n",
       "      <td>2</td>\n",
       "    </tr>\n",
       "    <tr>\n",
       "      <th>7</th>\n",
       "      <td>Retained</td>\n",
       "      <td>2</td>\n",
       "    </tr>\n",
       "  </tbody>\n",
       "</table>\n",
       "</div>"
      ],
      "text/plain": [
       "  Base Price  Count\n",
       "0       1 Cr      2\n",
       "1     1.5 Cr      1\n",
       "2       2 Cr      2\n",
       "3    20 Lakh     11\n",
       "4    40 Lakh      2\n",
       "5    50 Lakh      3\n",
       "6    75 Lakh      2\n",
       "7   Retained      2"
      ]
     },
     "execution_count": 315,
     "metadata": {},
     "output_type": "execute_result"
    }
   ],
   "source": [
    "PK.groupby('Base Price').size().reset_index().rename(columns={0:'Count'})"
   ]
  },
  {
   "cell_type": "code",
   "execution_count": 316,
   "metadata": {},
   "outputs": [
    {
     "data": {
      "text/html": [
       "<div>\n",
       "<style scoped>\n",
       "    .dataframe tbody tr th:only-of-type {\n",
       "        vertical-align: middle;\n",
       "    }\n",
       "\n",
       "    .dataframe tbody tr th {\n",
       "        vertical-align: top;\n",
       "    }\n",
       "\n",
       "    .dataframe thead th {\n",
       "        text-align: right;\n",
       "    }\n",
       "</style>\n",
       "<table border=\"1\" class=\"dataframe\">\n",
       "  <thead>\n",
       "    <tr style=\"text-align: right;\">\n",
       "      <th></th>\n",
       "      <th>sum</th>\n",
       "      <th>count</th>\n",
       "    </tr>\n",
       "    <tr>\n",
       "      <th>TYPE</th>\n",
       "      <th></th>\n",
       "      <th></th>\n",
       "    </tr>\n",
       "  </thead>\n",
       "  <tbody>\n",
       "    <tr>\n",
       "      <th>ALL-ROUNDER</th>\n",
       "      <td>34.05</td>\n",
       "      <td>11</td>\n",
       "    </tr>\n",
       "    <tr>\n",
       "      <th>BATTER</th>\n",
       "      <td>20.75</td>\n",
       "      <td>3</td>\n",
       "    </tr>\n",
       "    <tr>\n",
       "      <th>BOWLER</th>\n",
       "      <td>22.20</td>\n",
       "      <td>8</td>\n",
       "    </tr>\n",
       "    <tr>\n",
       "      <th>WICKETKEEPER</th>\n",
       "      <td>7.55</td>\n",
       "      <td>3</td>\n",
       "    </tr>\n",
       "  </tbody>\n",
       "</table>\n",
       "</div>"
      ],
      "text/plain": [
       "                sum  count\n",
       "TYPE                      \n",
       "ALL-ROUNDER   34.05     11\n",
       "BATTER        20.75      3\n",
       "BOWLER        22.20      8\n",
       "WICKETKEEPER   7.55      3"
      ]
     },
     "execution_count": 316,
     "metadata": {},
     "output_type": "execute_result"
    }
   ],
   "source": [
    "PK.groupby('TYPE')['COST IN ₹ (CR.)'].agg(['sum','count'])"
   ]
  },
  {
   "cell_type": "code",
   "execution_count": 317,
   "metadata": {},
   "outputs": [
    {
     "data": {
      "text/plain": [
       "<AxesSubplot: xlabel='TYPE'>"
      ]
     },
     "execution_count": 317,
     "metadata": {},
     "output_type": "execute_result"
    },
    {
     "data": {
      "image/png": "[encoded data removed]",
      "text/plain": [
       "<Figure size 864x432 with 1 Axes>"
      ]
     },
     "metadata": {
      "needs_background": "light"
     },
     "output_type": "display_data"
    }
   ],
   "source": [
    "PK.groupby('TYPE')['COST IN ₹ (CR.)'].agg(['sum','count']).plot(kind='bar')"
   ]
  },
  {
   "cell_type": "code",
   "execution_count": 318,
   "metadata": {},
   "outputs": [],
   "source": [
    "#OBSERVATIONS\n",
    "# PK has\n",
    "#a)11 All Rounders on whom 34.05 cr is spent which is the maximum .\n",
    "#b)3 Batters on whom 20.75 cr is spent\n",
    "#c)8 Bowlers on whom 22.20 cr is spent\n",
    "#d)3 Wicketkeepers on which 7.55 cr is spent\n",
    "#e)2 players were retained from the last season\n",
    "#f)We infer that PK focused mainly on all rounders in the auction."
   ]
  },
  {
   "attachments": {},
   "cell_type": "markdown",
   "metadata": {},
   "source": [
    "Mumbai Indians"
   ]
  },
  {
   "cell_type": "code",
   "execution_count": 319,
   "metadata": {},
   "outputs": [
    {
     "data": {
      "text/html": [
       "<div>\n",
       "<style scoped>\n",
       "    .dataframe tbody tr th:only-of-type {\n",
       "        vertical-align: middle;\n",
       "    }\n",
       "\n",
       "    .dataframe tbody tr th {\n",
       "        vertical-align: top;\n",
       "    }\n",
       "\n",
       "    .dataframe thead th {\n",
       "        text-align: right;\n",
       "    }\n",
       "</style>\n",
       "<table border=\"1\" class=\"dataframe\">\n",
       "  <thead>\n",
       "    <tr style=\"text-align: right;\">\n",
       "      <th></th>\n",
       "      <th>Unnamed: 0</th>\n",
       "      <th>Player</th>\n",
       "      <th>Base Price</th>\n",
       "      <th>TYPE</th>\n",
       "      <th>COST IN ₹ (CR.)</th>\n",
       "      <th>Cost IN $ (000)</th>\n",
       "      <th>2021 Squad</th>\n",
       "      <th>Team</th>\n",
       "    </tr>\n",
       "  </thead>\n",
       "  <tbody>\n",
       "    <tr>\n",
       "      <th>143</th>\n",
       "      <td>143</td>\n",
       "      <td>Rohit Sharma</td>\n",
       "      <td>Retained</td>\n",
       "      <td>BATTER</td>\n",
       "      <td>16.00</td>\n",
       "      <td>2080.0</td>\n",
       "      <td>MI</td>\n",
       "      <td>Mumbai Indians</td>\n",
       "    </tr>\n",
       "    <tr>\n",
       "      <th>144</th>\n",
       "      <td>144</td>\n",
       "      <td>Ishan Kishan</td>\n",
       "      <td>2 Cr</td>\n",
       "      <td>WICKETKEEPER</td>\n",
       "      <td>15.25</td>\n",
       "      <td>1982.5</td>\n",
       "      <td>MI</td>\n",
       "      <td>Mumbai Indians</td>\n",
       "    </tr>\n",
       "    <tr>\n",
       "      <th>145</th>\n",
       "      <td>145</td>\n",
       "      <td>Jasprit Bumrah</td>\n",
       "      <td>Retained</td>\n",
       "      <td>BOWLER</td>\n",
       "      <td>12.00</td>\n",
       "      <td>1560.0</td>\n",
       "      <td>MI</td>\n",
       "      <td>Mumbai Indians</td>\n",
       "    </tr>\n",
       "    <tr>\n",
       "      <th>146</th>\n",
       "      <td>146</td>\n",
       "      <td>Tim David</td>\n",
       "      <td>40 Lakh</td>\n",
       "      <td>ALL-ROUNDER</td>\n",
       "      <td>8.25</td>\n",
       "      <td>1072.5</td>\n",
       "      <td>RCB</td>\n",
       "      <td>Mumbai Indians</td>\n",
       "    </tr>\n",
       "    <tr>\n",
       "      <th>147</th>\n",
       "      <td>147</td>\n",
       "      <td>Jofra Archer</td>\n",
       "      <td>2 Cr</td>\n",
       "      <td>ALL-ROUNDER</td>\n",
       "      <td>8.00</td>\n",
       "      <td>1040.0</td>\n",
       "      <td>RR</td>\n",
       "      <td>Mumbai Indians</td>\n",
       "    </tr>\n",
       "    <tr>\n",
       "      <th>148</th>\n",
       "      <td>148</td>\n",
       "      <td>Suryakumar Yadav</td>\n",
       "      <td>Retained</td>\n",
       "      <td>BATTER</td>\n",
       "      <td>8.00</td>\n",
       "      <td>1040.0</td>\n",
       "      <td>MI</td>\n",
       "      <td>Mumbai Indians</td>\n",
       "    </tr>\n",
       "    <tr>\n",
       "      <th>149</th>\n",
       "      <td>149</td>\n",
       "      <td>Kieron Pollard</td>\n",
       "      <td>Retained</td>\n",
       "      <td>ALL-ROUNDER</td>\n",
       "      <td>6.00</td>\n",
       "      <td>780.0</td>\n",
       "      <td>MI</td>\n",
       "      <td>Mumbai Indians</td>\n",
       "    </tr>\n",
       "    <tr>\n",
       "      <th>150</th>\n",
       "      <td>150</td>\n",
       "      <td>Dewald Brevis</td>\n",
       "      <td>20 Lakh</td>\n",
       "      <td>BATTER</td>\n",
       "      <td>3.00</td>\n",
       "      <td>390.0</td>\n",
       "      <td>NaN</td>\n",
       "      <td>Mumbai Indians</td>\n",
       "    </tr>\n",
       "    <tr>\n",
       "      <th>151</th>\n",
       "      <td>151</td>\n",
       "      <td>Daniel Sams</td>\n",
       "      <td>1 Cr</td>\n",
       "      <td>ALL-ROUNDER</td>\n",
       "      <td>2.60</td>\n",
       "      <td>338.0</td>\n",
       "      <td>RCB</td>\n",
       "      <td>Mumbai Indians</td>\n",
       "    </tr>\n",
       "    <tr>\n",
       "      <th>152</th>\n",
       "      <td>152</td>\n",
       "      <td>N. Tilak Varma</td>\n",
       "      <td>20 Lakh</td>\n",
       "      <td>ALL-ROUNDER</td>\n",
       "      <td>1.70</td>\n",
       "      <td>221.0</td>\n",
       "      <td>NaN</td>\n",
       "      <td>Mumbai Indians</td>\n",
       "    </tr>\n",
       "    <tr>\n",
       "      <th>153</th>\n",
       "      <td>153</td>\n",
       "      <td>Murugan Ashwin</td>\n",
       "      <td>20 Lakh</td>\n",
       "      <td>BOWLER</td>\n",
       "      <td>1.60</td>\n",
       "      <td>208.0</td>\n",
       "      <td>PBKS</td>\n",
       "      <td>Mumbai Indians</td>\n",
       "    </tr>\n",
       "    <tr>\n",
       "      <th>154</th>\n",
       "      <td>154</td>\n",
       "      <td>Tymal Mills</td>\n",
       "      <td>1 Cr</td>\n",
       "      <td>BOWLER</td>\n",
       "      <td>1.50</td>\n",
       "      <td>195.0</td>\n",
       "      <td>NaN</td>\n",
       "      <td>Mumbai Indians</td>\n",
       "    </tr>\n",
       "    <tr>\n",
       "      <th>155</th>\n",
       "      <td>155</td>\n",
       "      <td>Jaydev Unadkat</td>\n",
       "      <td>75 Lakh</td>\n",
       "      <td>BOWLER</td>\n",
       "      <td>1.30</td>\n",
       "      <td>169.0</td>\n",
       "      <td>RR</td>\n",
       "      <td>Mumbai Indians</td>\n",
       "    </tr>\n",
       "    <tr>\n",
       "      <th>156</th>\n",
       "      <td>156</td>\n",
       "      <td>Riley Meredith</td>\n",
       "      <td>1 Cr</td>\n",
       "      <td>BOWLER</td>\n",
       "      <td>1.00</td>\n",
       "      <td>130.0</td>\n",
       "      <td>PBKS</td>\n",
       "      <td>Mumbai Indians</td>\n",
       "    </tr>\n",
       "    <tr>\n",
       "      <th>157</th>\n",
       "      <td>157</td>\n",
       "      <td>Fabian Allen</td>\n",
       "      <td>75 Lakh</td>\n",
       "      <td>ALL-ROUNDER</td>\n",
       "      <td>0.75</td>\n",
       "      <td>97.5</td>\n",
       "      <td>NaN</td>\n",
       "      <td>Mumbai Indians</td>\n",
       "    </tr>\n",
       "    <tr>\n",
       "      <th>158</th>\n",
       "      <td>158</td>\n",
       "      <td>Mayank Markande</td>\n",
       "      <td>50 Lakh</td>\n",
       "      <td>BOWLER</td>\n",
       "      <td>0.65</td>\n",
       "      <td>84.5</td>\n",
       "      <td>RR</td>\n",
       "      <td>Mumbai Indians</td>\n",
       "    </tr>\n",
       "    <tr>\n",
       "      <th>159</th>\n",
       "      <td>159</td>\n",
       "      <td>Sanjay Yadav</td>\n",
       "      <td>20 Lakh</td>\n",
       "      <td>ALL-ROUNDER</td>\n",
       "      <td>0.50</td>\n",
       "      <td>65.0</td>\n",
       "      <td>NaN</td>\n",
       "      <td>Mumbai Indians</td>\n",
       "    </tr>\n",
       "    <tr>\n",
       "      <th>160</th>\n",
       "      <td>160</td>\n",
       "      <td>Arjun Tendulkar</td>\n",
       "      <td>20 Lakh</td>\n",
       "      <td>ALL-ROUNDER</td>\n",
       "      <td>0.30</td>\n",
       "      <td>39.0</td>\n",
       "      <td>MI</td>\n",
       "      <td>Mumbai Indians</td>\n",
       "    </tr>\n",
       "    <tr>\n",
       "      <th>161</th>\n",
       "      <td>161</td>\n",
       "      <td>Basil Thampi</td>\n",
       "      <td>30 Lakh</td>\n",
       "      <td>BOWLER</td>\n",
       "      <td>0.30</td>\n",
       "      <td>39.0</td>\n",
       "      <td>SRH</td>\n",
       "      <td>Mumbai Indians</td>\n",
       "    </tr>\n",
       "    <tr>\n",
       "      <th>162</th>\n",
       "      <td>162</td>\n",
       "      <td>Anmolpreet Singh</td>\n",
       "      <td>20 Lakh</td>\n",
       "      <td>BATTER</td>\n",
       "      <td>0.20</td>\n",
       "      <td>26.0</td>\n",
       "      <td>MI</td>\n",
       "      <td>Mumbai Indians</td>\n",
       "    </tr>\n",
       "    <tr>\n",
       "      <th>163</th>\n",
       "      <td>163</td>\n",
       "      <td>Aryan Juyal</td>\n",
       "      <td>20 Lakh</td>\n",
       "      <td>WICKETKEEPER</td>\n",
       "      <td>0.20</td>\n",
       "      <td>26.0</td>\n",
       "      <td>NaN</td>\n",
       "      <td>Mumbai Indians</td>\n",
       "    </tr>\n",
       "    <tr>\n",
       "      <th>164</th>\n",
       "      <td>164</td>\n",
       "      <td>Ramandeep Singh</td>\n",
       "      <td>20 Lakh</td>\n",
       "      <td>ALL-ROUNDER</td>\n",
       "      <td>0.20</td>\n",
       "      <td>26.0</td>\n",
       "      <td>NaN</td>\n",
       "      <td>Mumbai Indians</td>\n",
       "    </tr>\n",
       "    <tr>\n",
       "      <th>165</th>\n",
       "      <td>165</td>\n",
       "      <td>Rahul Buddhi</td>\n",
       "      <td>20 Lakh</td>\n",
       "      <td>BATTER</td>\n",
       "      <td>0.20</td>\n",
       "      <td>26.0</td>\n",
       "      <td>NaN</td>\n",
       "      <td>Mumbai Indians</td>\n",
       "    </tr>\n",
       "    <tr>\n",
       "      <th>166</th>\n",
       "      <td>166</td>\n",
       "      <td>Hrithik Shokeen</td>\n",
       "      <td>20 Lakh</td>\n",
       "      <td>ALL-ROUNDER</td>\n",
       "      <td>0.20</td>\n",
       "      <td>26.0</td>\n",
       "      <td>NaN</td>\n",
       "      <td>Mumbai Indians</td>\n",
       "    </tr>\n",
       "    <tr>\n",
       "      <th>167</th>\n",
       "      <td>167</td>\n",
       "      <td>Mohd. Arshad Khan</td>\n",
       "      <td>20 Lakh</td>\n",
       "      <td>ALL-ROUNDER</td>\n",
       "      <td>0.20</td>\n",
       "      <td>26.0</td>\n",
       "      <td>NaN</td>\n",
       "      <td>Mumbai Indians</td>\n",
       "    </tr>\n",
       "  </tbody>\n",
       "</table>\n",
       "</div>"
      ],
      "text/plain": [
       "     Unnamed: 0             Player Base Price          TYPE  COST IN ₹ (CR.)  \\\n",
       "143         143       Rohit Sharma   Retained        BATTER            16.00   \n",
       "144         144       Ishan Kishan       2 Cr  WICKETKEEPER            15.25   \n",
       "145         145     Jasprit Bumrah   Retained        BOWLER            12.00   \n",
       "146         146          Tim David    40 Lakh   ALL-ROUNDER             8.25   \n",
       "147         147       Jofra Archer       2 Cr   ALL-ROUNDER             8.00   \n",
       "148         148   Suryakumar Yadav   Retained        BATTER             8.00   \n",
       "149         149     Kieron Pollard   Retained   ALL-ROUNDER             6.00   \n",
       "150         150      Dewald Brevis    20 Lakh        BATTER             3.00   \n",
       "151         151        Daniel Sams       1 Cr   ALL-ROUNDER             2.60   \n",
       "152         152     N. Tilak Varma    20 Lakh   ALL-ROUNDER             1.70   \n",
       "153         153     Murugan Ashwin    20 Lakh        BOWLER             1.60   \n",
       "154         154        Tymal Mills       1 Cr        BOWLER             1.50   \n",
       "155         155     Jaydev Unadkat    75 Lakh        BOWLER             1.30   \n",
       "156         156     Riley Meredith       1 Cr        BOWLER             1.00   \n",
       "157         157       Fabian Allen    75 Lakh   ALL-ROUNDER             0.75   \n",
       "158         158    Mayank Markande    50 Lakh        BOWLER             0.65   \n",
       "159         159       Sanjay Yadav    20 Lakh   ALL-ROUNDER             0.50   \n",
       "160         160    Arjun Tendulkar    20 Lakh   ALL-ROUNDER             0.30   \n",
       "161         161       Basil Thampi    30 Lakh        BOWLER             0.30   \n",
       "162         162   Anmolpreet Singh    20 Lakh        BATTER             0.20   \n",
       "163         163        Aryan Juyal    20 Lakh  WICKETKEEPER             0.20   \n",
       "164         164    Ramandeep Singh    20 Lakh   ALL-ROUNDER             0.20   \n",
       "165         165       Rahul Buddhi    20 Lakh        BATTER             0.20   \n",
       "166         166    Hrithik Shokeen    20 Lakh   ALL-ROUNDER             0.20   \n",
       "167         167  Mohd. Arshad Khan    20 Lakh   ALL-ROUNDER             0.20   \n",
       "\n",
       "     Cost IN $ (000) 2021 Squad            Team  \n",
       "143           2080.0         MI  Mumbai Indians  \n",
       "144           1982.5         MI  Mumbai Indians  \n",
       "145           1560.0         MI  Mumbai Indians  \n",
       "146           1072.5        RCB  Mumbai Indians  \n",
       "147           1040.0         RR  Mumbai Indians  \n",
       "148           1040.0         MI  Mumbai Indians  \n",
       "149            780.0         MI  Mumbai Indians  \n",
       "150            390.0        NaN  Mumbai Indians  \n",
       "151            338.0        RCB  Mumbai Indians  \n",
       "152            221.0        NaN  Mumbai Indians  \n",
       "153            208.0       PBKS  Mumbai Indians  \n",
       "154            195.0        NaN  Mumbai Indians  \n",
       "155            169.0         RR  Mumbai Indians  \n",
       "156            130.0       PBKS  Mumbai Indians  \n",
       "157             97.5        NaN  Mumbai Indians  \n",
       "158             84.5         RR  Mumbai Indians  \n",
       "159             65.0        NaN  Mumbai Indians  \n",
       "160             39.0         MI  Mumbai Indians  \n",
       "161             39.0        SRH  Mumbai Indians  \n",
       "162             26.0         MI  Mumbai Indians  \n",
       "163             26.0        NaN  Mumbai Indians  \n",
       "164             26.0        NaN  Mumbai Indians  \n",
       "165             26.0        NaN  Mumbai Indians  \n",
       "166             26.0        NaN  Mumbai Indians  \n",
       "167             26.0        NaN  Mumbai Indians  "
      ]
     },
     "execution_count": 319,
     "metadata": {},
     "output_type": "execute_result"
    }
   ],
   "source": [
    "MI = df.loc[df['Team']=='Mumbai Indians']\n",
    "MI\n"
   ]
  },
  {
   "cell_type": "code",
   "execution_count": 320,
   "metadata": {},
   "outputs": [
    {
     "data": {
      "text/plain": [
       "89.9"
      ]
     },
     "execution_count": 320,
     "metadata": {},
     "output_type": "execute_result"
    }
   ],
   "source": [
    "MI['COST IN ₹ (CR.)'].sum()"
   ]
  },
  {
   "cell_type": "code",
   "execution_count": 321,
   "metadata": {},
   "outputs": [
    {
     "data": {
      "text/plain": [
       "3.596"
      ]
     },
     "execution_count": 321,
     "metadata": {},
     "output_type": "execute_result"
    }
   ],
   "source": [
    "MI['COST IN ₹ (CR.)'].mean()"
   ]
  },
  {
   "cell_type": "code",
   "execution_count": 322,
   "metadata": {},
   "outputs": [
    {
     "data": {
      "text/plain": [
       "16.0"
      ]
     },
     "execution_count": 322,
     "metadata": {},
     "output_type": "execute_result"
    }
   ],
   "source": [
    "MI['COST IN ₹ (CR.)'].max()"
   ]
  },
  {
   "cell_type": "code",
   "execution_count": 323,
   "metadata": {},
   "outputs": [
    {
     "data": {
      "text/plain": [
       "4.869760432163647"
      ]
     },
     "execution_count": 323,
     "metadata": {},
     "output_type": "execute_result"
    }
   ],
   "source": [
    "MI['COST IN ₹ (CR.)'].std()"
   ]
  },
  {
   "cell_type": "code",
   "execution_count": 324,
   "metadata": {},
   "outputs": [],
   "source": [
    "#Observation\n",
    "#a) Total money spent by MI is 89.9 crores\n",
    "#b) Mean of total money spent by MI is 3.59 crores\n",
    "#c) Maximum money spent on player is 16 crores.\n",
    "#d) Standard deviation is 4.86 ce in MI"
   ]
  },
  {
   "cell_type": "code",
   "execution_count": 325,
   "metadata": {},
   "outputs": [
    {
     "data": {
      "text/plain": [
       "<matplotlib.collections.PathCollection at 0x2a7c9f62860>"
      ]
     },
     "execution_count": 325,
     "metadata": {},
     "output_type": "execute_result"
    },
    {
     "data": {
      "image/png": "[encoded data removed]",
      "text/plain": [
       "<Figure size 864x432 with 1 Axes>"
      ]
     },
     "metadata": {
      "needs_background": "light"
     },
     "output_type": "display_data"
    }
   ],
   "source": [
    "plt.scatter(x=MI['TYPE'],y=MI['COST IN ₹ (CR.)'])"
   ]
  },
  {
   "cell_type": "code",
   "execution_count": 326,
   "metadata": {},
   "outputs": [
    {
     "data": {
      "text/html": [
       "<div>\n",
       "<style scoped>\n",
       "    .dataframe tbody tr th:only-of-type {\n",
       "        vertical-align: middle;\n",
       "    }\n",
       "\n",
       "    .dataframe tbody tr th {\n",
       "        vertical-align: top;\n",
       "    }\n",
       "\n",
       "    .dataframe thead th {\n",
       "        text-align: right;\n",
       "    }\n",
       "</style>\n",
       "<table border=\"1\" class=\"dataframe\">\n",
       "  <thead>\n",
       "    <tr style=\"text-align: right;\">\n",
       "      <th></th>\n",
       "      <th>Base Price</th>\n",
       "      <th>Count</th>\n",
       "    </tr>\n",
       "  </thead>\n",
       "  <tbody>\n",
       "    <tr>\n",
       "      <th>0</th>\n",
       "      <td>1 Cr</td>\n",
       "      <td>3</td>\n",
       "    </tr>\n",
       "    <tr>\n",
       "      <th>1</th>\n",
       "      <td>2 Cr</td>\n",
       "      <td>2</td>\n",
       "    </tr>\n",
       "    <tr>\n",
       "      <th>2</th>\n",
       "      <td>20 Lakh</td>\n",
       "      <td>11</td>\n",
       "    </tr>\n",
       "    <tr>\n",
       "      <th>3</th>\n",
       "      <td>30 Lakh</td>\n",
       "      <td>1</td>\n",
       "    </tr>\n",
       "    <tr>\n",
       "      <th>4</th>\n",
       "      <td>40 Lakh</td>\n",
       "      <td>1</td>\n",
       "    </tr>\n",
       "    <tr>\n",
       "      <th>5</th>\n",
       "      <td>50 Lakh</td>\n",
       "      <td>1</td>\n",
       "    </tr>\n",
       "    <tr>\n",
       "      <th>6</th>\n",
       "      <td>75 Lakh</td>\n",
       "      <td>2</td>\n",
       "    </tr>\n",
       "    <tr>\n",
       "      <th>7</th>\n",
       "      <td>Retained</td>\n",
       "      <td>4</td>\n",
       "    </tr>\n",
       "  </tbody>\n",
       "</table>\n",
       "</div>"
      ],
      "text/plain": [
       "  Base Price  Count\n",
       "0       1 Cr      3\n",
       "1       2 Cr      2\n",
       "2    20 Lakh     11\n",
       "3    30 Lakh      1\n",
       "4    40 Lakh      1\n",
       "5    50 Lakh      1\n",
       "6    75 Lakh      2\n",
       "7   Retained      4"
      ]
     },
     "execution_count": 326,
     "metadata": {},
     "output_type": "execute_result"
    }
   ],
   "source": [
    "MI.groupby('Base Price').size().reset_index().rename(columns={0:'Count'})"
   ]
  },
  {
   "cell_type": "code",
   "execution_count": 327,
   "metadata": {},
   "outputs": [
    {
     "data": {
      "text/html": [
       "<div>\n",
       "<style scoped>\n",
       "    .dataframe tbody tr th:only-of-type {\n",
       "        vertical-align: middle;\n",
       "    }\n",
       "\n",
       "    .dataframe tbody tr th {\n",
       "        vertical-align: top;\n",
       "    }\n",
       "\n",
       "    .dataframe thead th {\n",
       "        text-align: right;\n",
       "    }\n",
       "</style>\n",
       "<table border=\"1\" class=\"dataframe\">\n",
       "  <thead>\n",
       "    <tr style=\"text-align: right;\">\n",
       "      <th></th>\n",
       "      <th>sum</th>\n",
       "      <th>count</th>\n",
       "    </tr>\n",
       "    <tr>\n",
       "      <th>TYPE</th>\n",
       "      <th></th>\n",
       "      <th></th>\n",
       "    </tr>\n",
       "  </thead>\n",
       "  <tbody>\n",
       "    <tr>\n",
       "      <th>ALL-ROUNDER</th>\n",
       "      <td>28.70</td>\n",
       "      <td>11</td>\n",
       "    </tr>\n",
       "    <tr>\n",
       "      <th>BATTER</th>\n",
       "      <td>27.40</td>\n",
       "      <td>5</td>\n",
       "    </tr>\n",
       "    <tr>\n",
       "      <th>BOWLER</th>\n",
       "      <td>18.35</td>\n",
       "      <td>7</td>\n",
       "    </tr>\n",
       "    <tr>\n",
       "      <th>WICKETKEEPER</th>\n",
       "      <td>15.45</td>\n",
       "      <td>2</td>\n",
       "    </tr>\n",
       "  </tbody>\n",
       "</table>\n",
       "</div>"
      ],
      "text/plain": [
       "                sum  count\n",
       "TYPE                      \n",
       "ALL-ROUNDER   28.70     11\n",
       "BATTER        27.40      5\n",
       "BOWLER        18.35      7\n",
       "WICKETKEEPER  15.45      2"
      ]
     },
     "execution_count": 327,
     "metadata": {},
     "output_type": "execute_result"
    }
   ],
   "source": [
    "MI.groupby('TYPE')['COST IN ₹ (CR.)'].agg(['sum','count'])"
   ]
  },
  {
   "cell_type": "code",
   "execution_count": 328,
   "metadata": {},
   "outputs": [
    {
     "data": {
      "text/plain": [
       "<AxesSubplot: xlabel='TYPE'>"
      ]
     },
     "execution_count": 328,
     "metadata": {},
     "output_type": "execute_result"
    },
    {
     "data": {
      "image/png": "[encoded data removed]",
      "text/plain": [
       "<Figure size 864x432 with 1 Axes>"
      ]
     },
     "metadata": {
      "needs_background": "light"
     },
     "output_type": "display_data"
    }
   ],
   "source": [
    "MI.groupby('TYPE')['COST IN ₹ (CR.)'].agg(['sum','count']).plot(kind='bar')"
   ]
  },
  {
   "cell_type": "code",
   "execution_count": 329,
   "metadata": {},
   "outputs": [],
   "source": [
    "#OBSERVATIONS\n",
    "# MI has\n",
    "#a)11 All Rounders on whom 28.70 cr is spent\n",
    "#b)5 Batters on whom 27.40 cr is spent\n",
    "#c)7 Bowlers on whom 18.35 cr is spent\n",
    "#d)2 Wicketkeepers on which 15.45 cr is spent\n",
    "#e)4 players were retained from the last season\n",
    "#f)We infer that MI focused mainly on all rounders and batters in the auction."
   ]
  },
  {
   "attachments": {},
   "cell_type": "markdown",
   "metadata": {},
   "source": [
    "Rajasthan Royals"
   ]
  },
  {
   "cell_type": "code",
   "execution_count": 330,
   "metadata": {},
   "outputs": [
    {
     "data": {
      "text/html": [
       "<div>\n",
       "<style scoped>\n",
       "    .dataframe tbody tr th:only-of-type {\n",
       "        vertical-align: middle;\n",
       "    }\n",
       "\n",
       "    .dataframe tbody tr th {\n",
       "        vertical-align: top;\n",
       "    }\n",
       "\n",
       "    .dataframe thead th {\n",
       "        text-align: right;\n",
       "    }\n",
       "</style>\n",
       "<table border=\"1\" class=\"dataframe\">\n",
       "  <thead>\n",
       "    <tr style=\"text-align: right;\">\n",
       "      <th></th>\n",
       "      <th>Unnamed: 0</th>\n",
       "      <th>Player</th>\n",
       "      <th>Base Price</th>\n",
       "      <th>TYPE</th>\n",
       "      <th>COST IN ₹ (CR.)</th>\n",
       "      <th>Cost IN $ (000)</th>\n",
       "      <th>2021 Squad</th>\n",
       "      <th>Team</th>\n",
       "    </tr>\n",
       "  </thead>\n",
       "  <tbody>\n",
       "    <tr>\n",
       "      <th>190</th>\n",
       "      <td>190</td>\n",
       "      <td>Sanju Samson</td>\n",
       "      <td>Retained</td>\n",
       "      <td>WICKETKEEPER</td>\n",
       "      <td>14.00</td>\n",
       "      <td>1820.0</td>\n",
       "      <td>RR</td>\n",
       "      <td>Rajasthan Royals</td>\n",
       "    </tr>\n",
       "    <tr>\n",
       "      <th>191</th>\n",
       "      <td>191</td>\n",
       "      <td>Jos Buttler</td>\n",
       "      <td>Retained</td>\n",
       "      <td>WICKETKEEPER</td>\n",
       "      <td>10.00</td>\n",
       "      <td>1300.0</td>\n",
       "      <td>RR</td>\n",
       "      <td>Rajasthan Royals</td>\n",
       "    </tr>\n",
       "    <tr>\n",
       "      <th>192</th>\n",
       "      <td>192</td>\n",
       "      <td>Prasidh Krishna</td>\n",
       "      <td>1 Cr</td>\n",
       "      <td>BOWLER</td>\n",
       "      <td>10.00</td>\n",
       "      <td>1300.0</td>\n",
       "      <td>KKR</td>\n",
       "      <td>Rajasthan Royals</td>\n",
       "    </tr>\n",
       "    <tr>\n",
       "      <th>193</th>\n",
       "      <td>193</td>\n",
       "      <td>Shimron Hetmyer</td>\n",
       "      <td>1.5 Cr</td>\n",
       "      <td>BATTER</td>\n",
       "      <td>8.50</td>\n",
       "      <td>1105.0</td>\n",
       "      <td>DC</td>\n",
       "      <td>Rajasthan Royals</td>\n",
       "    </tr>\n",
       "    <tr>\n",
       "      <th>194</th>\n",
       "      <td>194</td>\n",
       "      <td>Trent Boult</td>\n",
       "      <td>2 Cr</td>\n",
       "      <td>BOWLER</td>\n",
       "      <td>8.00</td>\n",
       "      <td>1040.0</td>\n",
       "      <td>MI</td>\n",
       "      <td>Rajasthan Royals</td>\n",
       "    </tr>\n",
       "    <tr>\n",
       "      <th>195</th>\n",
       "      <td>195</td>\n",
       "      <td>Devdutt Padikkal</td>\n",
       "      <td>2 Cr</td>\n",
       "      <td>BATTER</td>\n",
       "      <td>7.75</td>\n",
       "      <td>1007.5</td>\n",
       "      <td>RCB</td>\n",
       "      <td>Rajasthan Royals</td>\n",
       "    </tr>\n",
       "    <tr>\n",
       "      <th>196</th>\n",
       "      <td>196</td>\n",
       "      <td>Yuzvendra Chahal</td>\n",
       "      <td>2 Cr</td>\n",
       "      <td>BOWLER</td>\n",
       "      <td>6.50</td>\n",
       "      <td>845.0</td>\n",
       "      <td>RCB</td>\n",
       "      <td>Rajasthan Royals</td>\n",
       "    </tr>\n",
       "    <tr>\n",
       "      <th>197</th>\n",
       "      <td>197</td>\n",
       "      <td>R. Ashwin</td>\n",
       "      <td>2 Cr</td>\n",
       "      <td>ALL-ROUNDER</td>\n",
       "      <td>5.00</td>\n",
       "      <td>650.0</td>\n",
       "      <td>DC</td>\n",
       "      <td>Rajasthan Royals</td>\n",
       "    </tr>\n",
       "    <tr>\n",
       "      <th>198</th>\n",
       "      <td>198</td>\n",
       "      <td>Yashaswi Jaiswal</td>\n",
       "      <td>Retained</td>\n",
       "      <td>BATTER</td>\n",
       "      <td>4.00</td>\n",
       "      <td>520.0</td>\n",
       "      <td>RR</td>\n",
       "      <td>Rajasthan Royals</td>\n",
       "    </tr>\n",
       "    <tr>\n",
       "      <th>199</th>\n",
       "      <td>199</td>\n",
       "      <td>Riyan Parag</td>\n",
       "      <td>30 Lakh</td>\n",
       "      <td>ALL-ROUNDER</td>\n",
       "      <td>3.80</td>\n",
       "      <td>494.0</td>\n",
       "      <td>RR</td>\n",
       "      <td>Rajasthan Royals</td>\n",
       "    </tr>\n",
       "    <tr>\n",
       "      <th>200</th>\n",
       "      <td>200</td>\n",
       "      <td>Navdeep Saini</td>\n",
       "      <td>75 Lakh</td>\n",
       "      <td>BOWLER</td>\n",
       "      <td>2.60</td>\n",
       "      <td>338.0</td>\n",
       "      <td>RCB</td>\n",
       "      <td>Rajasthan Royals</td>\n",
       "    </tr>\n",
       "    <tr>\n",
       "      <th>201</th>\n",
       "      <td>201</td>\n",
       "      <td>Nathan Coulter-Nile</td>\n",
       "      <td>2 Cr</td>\n",
       "      <td>BOWLER</td>\n",
       "      <td>2.00</td>\n",
       "      <td>260.0</td>\n",
       "      <td>MI</td>\n",
       "      <td>Rajasthan Royals</td>\n",
       "    </tr>\n",
       "    <tr>\n",
       "      <th>202</th>\n",
       "      <td>202</td>\n",
       "      <td>James Neesham</td>\n",
       "      <td>1.5 Cr</td>\n",
       "      <td>ALL-ROUNDER</td>\n",
       "      <td>1.50</td>\n",
       "      <td>195.0</td>\n",
       "      <td>MI</td>\n",
       "      <td>Rajasthan Royals</td>\n",
       "    </tr>\n",
       "    <tr>\n",
       "      <th>203</th>\n",
       "      <td>203</td>\n",
       "      <td>Karun Nair</td>\n",
       "      <td>50 Lakh</td>\n",
       "      <td>BATTER</td>\n",
       "      <td>1.40</td>\n",
       "      <td>182.0</td>\n",
       "      <td>KKR</td>\n",
       "      <td>Rajasthan Royals</td>\n",
       "    </tr>\n",
       "    <tr>\n",
       "      <th>204</th>\n",
       "      <td>204</td>\n",
       "      <td>Rassie Van Der Dussen</td>\n",
       "      <td>1 Cr</td>\n",
       "      <td>BATTER</td>\n",
       "      <td>1.00</td>\n",
       "      <td>130.0</td>\n",
       "      <td>NaN</td>\n",
       "      <td>Rajasthan Royals</td>\n",
       "    </tr>\n",
       "    <tr>\n",
       "      <th>205</th>\n",
       "      <td>205</td>\n",
       "      <td>Obed Mccoy</td>\n",
       "      <td>75 Lakh</td>\n",
       "      <td>BOWLER</td>\n",
       "      <td>0.75</td>\n",
       "      <td>97.5</td>\n",
       "      <td>NaN</td>\n",
       "      <td>Rajasthan Royals</td>\n",
       "    </tr>\n",
       "    <tr>\n",
       "      <th>206</th>\n",
       "      <td>206</td>\n",
       "      <td>Daryl Mitchell</td>\n",
       "      <td>75 Lakh</td>\n",
       "      <td>ALL-ROUNDER</td>\n",
       "      <td>0.75</td>\n",
       "      <td>97.5</td>\n",
       "      <td>NaN</td>\n",
       "      <td>Rajasthan Royals</td>\n",
       "    </tr>\n",
       "    <tr>\n",
       "      <th>207</th>\n",
       "      <td>207</td>\n",
       "      <td>K.C Cariappa</td>\n",
       "      <td>20 Lakh</td>\n",
       "      <td>BOWLER</td>\n",
       "      <td>0.30</td>\n",
       "      <td>39.0</td>\n",
       "      <td>RR</td>\n",
       "      <td>Rajasthan Royals</td>\n",
       "    </tr>\n",
       "    <tr>\n",
       "      <th>208</th>\n",
       "      <td>208</td>\n",
       "      <td>Anunay Singh</td>\n",
       "      <td>20 Lakh</td>\n",
       "      <td>ALL-ROUNDER</td>\n",
       "      <td>0.20</td>\n",
       "      <td>26.0</td>\n",
       "      <td>NaN</td>\n",
       "      <td>Rajasthan Royals</td>\n",
       "    </tr>\n",
       "    <tr>\n",
       "      <th>209</th>\n",
       "      <td>209</td>\n",
       "      <td>Kuldeep Sen</td>\n",
       "      <td>20 Lakh</td>\n",
       "      <td>BOWLER</td>\n",
       "      <td>0.20</td>\n",
       "      <td>26.0</td>\n",
       "      <td>NaN</td>\n",
       "      <td>Rajasthan Royals</td>\n",
       "    </tr>\n",
       "    <tr>\n",
       "      <th>210</th>\n",
       "      <td>210</td>\n",
       "      <td>Dhruv Jurel</td>\n",
       "      <td>20 Lakh</td>\n",
       "      <td>WICKETKEEPER</td>\n",
       "      <td>0.20</td>\n",
       "      <td>26.0</td>\n",
       "      <td>NaN</td>\n",
       "      <td>Rajasthan Royals</td>\n",
       "    </tr>\n",
       "    <tr>\n",
       "      <th>211</th>\n",
       "      <td>211</td>\n",
       "      <td>Tejas Baroka</td>\n",
       "      <td>20 Lakh</td>\n",
       "      <td>BOWLER</td>\n",
       "      <td>0.20</td>\n",
       "      <td>26.0</td>\n",
       "      <td>NaN</td>\n",
       "      <td>Rajasthan Royals</td>\n",
       "    </tr>\n",
       "    <tr>\n",
       "      <th>212</th>\n",
       "      <td>212</td>\n",
       "      <td>Kuldip Yadav</td>\n",
       "      <td>20 Lakh</td>\n",
       "      <td>BOWLER</td>\n",
       "      <td>0.20</td>\n",
       "      <td>26.0</td>\n",
       "      <td>RR</td>\n",
       "      <td>Rajasthan Royals</td>\n",
       "    </tr>\n",
       "    <tr>\n",
       "      <th>213</th>\n",
       "      <td>213</td>\n",
       "      <td>Shubham Garhwal</td>\n",
       "      <td>20 Lakh</td>\n",
       "      <td>ALL-ROUNDER</td>\n",
       "      <td>0.20</td>\n",
       "      <td>26.0</td>\n",
       "      <td>NaN</td>\n",
       "      <td>Rajasthan Royals</td>\n",
       "    </tr>\n",
       "  </tbody>\n",
       "</table>\n",
       "</div>"
      ],
      "text/plain": [
       "     Unnamed: 0                 Player Base Price          TYPE  \\\n",
       "190         190           Sanju Samson   Retained  WICKETKEEPER   \n",
       "191         191            Jos Buttler   Retained  WICKETKEEPER   \n",
       "192         192        Prasidh Krishna       1 Cr        BOWLER   \n",
       "193         193        Shimron Hetmyer     1.5 Cr        BATTER   \n",
       "194         194            Trent Boult       2 Cr        BOWLER   \n",
       "195         195       Devdutt Padikkal       2 Cr        BATTER   \n",
       "196         196       Yuzvendra Chahal       2 Cr        BOWLER   \n",
       "197         197              R. Ashwin       2 Cr   ALL-ROUNDER   \n",
       "198         198       Yashaswi Jaiswal   Retained        BATTER   \n",
       "199         199            Riyan Parag    30 Lakh   ALL-ROUNDER   \n",
       "200         200          Navdeep Saini    75 Lakh        BOWLER   \n",
       "201         201    Nathan Coulter-Nile       2 Cr        BOWLER   \n",
       "202         202          James Neesham     1.5 Cr   ALL-ROUNDER   \n",
       "203         203             Karun Nair    50 Lakh        BATTER   \n",
       "204         204  Rassie Van Der Dussen       1 Cr        BATTER   \n",
       "205         205             Obed Mccoy    75 Lakh        BOWLER   \n",
       "206         206         Daryl Mitchell    75 Lakh   ALL-ROUNDER   \n",
       "207         207           K.C Cariappa    20 Lakh        BOWLER   \n",
       "208         208           Anunay Singh    20 Lakh   ALL-ROUNDER   \n",
       "209         209            Kuldeep Sen    20 Lakh        BOWLER   \n",
       "210         210            Dhruv Jurel    20 Lakh  WICKETKEEPER   \n",
       "211         211           Tejas Baroka    20 Lakh        BOWLER   \n",
       "212         212           Kuldip Yadav    20 Lakh        BOWLER   \n",
       "213         213        Shubham Garhwal    20 Lakh   ALL-ROUNDER   \n",
       "\n",
       "     COST IN ₹ (CR.)  Cost IN $ (000) 2021 Squad              Team  \n",
       "190            14.00           1820.0         RR  Rajasthan Royals  \n",
       "191            10.00           1300.0         RR  Rajasthan Royals  \n",
       "192            10.00           1300.0        KKR  Rajasthan Royals  \n",
       "193             8.50           1105.0         DC  Rajasthan Royals  \n",
       "194             8.00           1040.0         MI  Rajasthan Royals  \n",
       "195             7.75           1007.5        RCB  Rajasthan Royals  \n",
       "196             6.50            845.0        RCB  Rajasthan Royals  \n",
       "197             5.00            650.0         DC  Rajasthan Royals  \n",
       "198             4.00            520.0         RR  Rajasthan Royals  \n",
       "199             3.80            494.0         RR  Rajasthan Royals  \n",
       "200             2.60            338.0        RCB  Rajasthan Royals  \n",
       "201             2.00            260.0         MI  Rajasthan Royals  \n",
       "202             1.50            195.0         MI  Rajasthan Royals  \n",
       "203             1.40            182.0        KKR  Rajasthan Royals  \n",
       "204             1.00            130.0        NaN  Rajasthan Royals  \n",
       "205             0.75             97.5        NaN  Rajasthan Royals  \n",
       "206             0.75             97.5        NaN  Rajasthan Royals  \n",
       "207             0.30             39.0         RR  Rajasthan Royals  \n",
       "208             0.20             26.0        NaN  Rajasthan Royals  \n",
       "209             0.20             26.0        NaN  Rajasthan Royals  \n",
       "210             0.20             26.0        NaN  Rajasthan Royals  \n",
       "211             0.20             26.0        NaN  Rajasthan Royals  \n",
       "212             0.20             26.0         RR  Rajasthan Royals  \n",
       "213             0.20             26.0        NaN  Rajasthan Royals  "
      ]
     },
     "execution_count": 330,
     "metadata": {},
     "output_type": "execute_result"
    }
   ],
   "source": [
    "RR = df.loc[df['Team']=='Rajasthan Royals']\n",
    "RR\n"
   ]
  },
  {
   "cell_type": "code",
   "execution_count": 331,
   "metadata": {},
   "outputs": [
    {
     "data": {
      "text/plain": [
       "89.05"
      ]
     },
     "execution_count": 331,
     "metadata": {},
     "output_type": "execute_result"
    }
   ],
   "source": [
    "RR['COST IN ₹ (CR.)'].sum()"
   ]
  },
  {
   "cell_type": "code",
   "execution_count": 332,
   "metadata": {},
   "outputs": [
    {
     "data": {
      "text/plain": [
       "3.7104166666666667"
      ]
     },
     "execution_count": 332,
     "metadata": {},
     "output_type": "execute_result"
    }
   ],
   "source": [
    "RR['COST IN ₹ (CR.)'].mean()"
   ]
  },
  {
   "cell_type": "code",
   "execution_count": 333,
   "metadata": {},
   "outputs": [
    {
     "data": {
      "text/plain": [
       "14.0"
      ]
     },
     "execution_count": 333,
     "metadata": {},
     "output_type": "execute_result"
    }
   ],
   "source": [
    "RR['COST IN ₹ (CR.)'].max()"
   ]
  },
  {
   "cell_type": "code",
   "execution_count": 334,
   "metadata": {},
   "outputs": [
    {
     "data": {
      "text/plain": [
       "4.048697567459642"
      ]
     },
     "execution_count": 334,
     "metadata": {},
     "output_type": "execute_result"
    }
   ],
   "source": [
    "RR['COST IN ₹ (CR.)'].std()"
   ]
  },
  {
   "cell_type": "code",
   "execution_count": 335,
   "metadata": {},
   "outputs": [],
   "source": [
    "#Observation\n",
    "#a) Total money spent by RR is 89.05 crores\n",
    "#b) Mean of total money spent by RR is 3.71 crores\n",
    "#c) Maximum money spent on player is 14 crores.\n",
    "#d) Standard deviation is 4.04 ce in RR"
   ]
  },
  {
   "cell_type": "code",
   "execution_count": 336,
   "metadata": {},
   "outputs": [
    {
     "data": {
      "text/plain": [
       "<matplotlib.collections.PathCollection at 0x2a7c51ef2e0>"
      ]
     },
     "execution_count": 336,
     "metadata": {},
     "output_type": "execute_result"
    },
    {
     "data": {
      "image/png": "[encoded data removed]",
      "text/plain": [
       "<Figure size 864x432 with 1 Axes>"
      ]
     },
     "metadata": {
      "needs_background": "light"
     },
     "output_type": "display_data"
    }
   ],
   "source": [
    "plt.scatter(x=RR['TYPE'],y=RR['COST IN ₹ (CR.)'])"
   ]
  },
  {
   "cell_type": "code",
   "execution_count": 337,
   "metadata": {},
   "outputs": [
    {
     "data": {
      "text/html": [
       "<div>\n",
       "<style scoped>\n",
       "    .dataframe tbody tr th:only-of-type {\n",
       "        vertical-align: middle;\n",
       "    }\n",
       "\n",
       "    .dataframe tbody tr th {\n",
       "        vertical-align: top;\n",
       "    }\n",
       "\n",
       "    .dataframe thead th {\n",
       "        text-align: right;\n",
       "    }\n",
       "</style>\n",
       "<table border=\"1\" class=\"dataframe\">\n",
       "  <thead>\n",
       "    <tr style=\"text-align: right;\">\n",
       "      <th></th>\n",
       "      <th>Base Price</th>\n",
       "      <th>Count</th>\n",
       "    </tr>\n",
       "  </thead>\n",
       "  <tbody>\n",
       "    <tr>\n",
       "      <th>0</th>\n",
       "      <td>1 Cr</td>\n",
       "      <td>2</td>\n",
       "    </tr>\n",
       "    <tr>\n",
       "      <th>1</th>\n",
       "      <td>1.5 Cr</td>\n",
       "      <td>2</td>\n",
       "    </tr>\n",
       "    <tr>\n",
       "      <th>2</th>\n",
       "      <td>2 Cr</td>\n",
       "      <td>5</td>\n",
       "    </tr>\n",
       "    <tr>\n",
       "      <th>3</th>\n",
       "      <td>20 Lakh</td>\n",
       "      <td>7</td>\n",
       "    </tr>\n",
       "    <tr>\n",
       "      <th>4</th>\n",
       "      <td>30 Lakh</td>\n",
       "      <td>1</td>\n",
       "    </tr>\n",
       "    <tr>\n",
       "      <th>5</th>\n",
       "      <td>50 Lakh</td>\n",
       "      <td>1</td>\n",
       "    </tr>\n",
       "    <tr>\n",
       "      <th>6</th>\n",
       "      <td>75 Lakh</td>\n",
       "      <td>3</td>\n",
       "    </tr>\n",
       "    <tr>\n",
       "      <th>7</th>\n",
       "      <td>Retained</td>\n",
       "      <td>3</td>\n",
       "    </tr>\n",
       "  </tbody>\n",
       "</table>\n",
       "</div>"
      ],
      "text/plain": [
       "  Base Price  Count\n",
       "0       1 Cr      2\n",
       "1     1.5 Cr      2\n",
       "2       2 Cr      5\n",
       "3    20 Lakh      7\n",
       "4    30 Lakh      1\n",
       "5    50 Lakh      1\n",
       "6    75 Lakh      3\n",
       "7   Retained      3"
      ]
     },
     "execution_count": 337,
     "metadata": {},
     "output_type": "execute_result"
    }
   ],
   "source": [
    "RR.groupby('Base Price').size().reset_index().rename(columns={0:'Count'})"
   ]
  },
  {
   "cell_type": "code",
   "execution_count": 338,
   "metadata": {},
   "outputs": [
    {
     "data": {
      "text/html": [
       "<div>\n",
       "<style scoped>\n",
       "    .dataframe tbody tr th:only-of-type {\n",
       "        vertical-align: middle;\n",
       "    }\n",
       "\n",
       "    .dataframe tbody tr th {\n",
       "        vertical-align: top;\n",
       "    }\n",
       "\n",
       "    .dataframe thead th {\n",
       "        text-align: right;\n",
       "    }\n",
       "</style>\n",
       "<table border=\"1\" class=\"dataframe\">\n",
       "  <thead>\n",
       "    <tr style=\"text-align: right;\">\n",
       "      <th></th>\n",
       "      <th>sum</th>\n",
       "      <th>count</th>\n",
       "    </tr>\n",
       "    <tr>\n",
       "      <th>TYPE</th>\n",
       "      <th></th>\n",
       "      <th></th>\n",
       "    </tr>\n",
       "  </thead>\n",
       "  <tbody>\n",
       "    <tr>\n",
       "      <th>ALL-ROUNDER</th>\n",
       "      <td>11.45</td>\n",
       "      <td>6</td>\n",
       "    </tr>\n",
       "    <tr>\n",
       "      <th>BATTER</th>\n",
       "      <td>22.65</td>\n",
       "      <td>5</td>\n",
       "    </tr>\n",
       "    <tr>\n",
       "      <th>BOWLER</th>\n",
       "      <td>30.75</td>\n",
       "      <td>10</td>\n",
       "    </tr>\n",
       "    <tr>\n",
       "      <th>WICKETKEEPER</th>\n",
       "      <td>24.20</td>\n",
       "      <td>3</td>\n",
       "    </tr>\n",
       "  </tbody>\n",
       "</table>\n",
       "</div>"
      ],
      "text/plain": [
       "                sum  count\n",
       "TYPE                      \n",
       "ALL-ROUNDER   11.45      6\n",
       "BATTER        22.65      5\n",
       "BOWLER        30.75     10\n",
       "WICKETKEEPER  24.20      3"
      ]
     },
     "execution_count": 338,
     "metadata": {},
     "output_type": "execute_result"
    }
   ],
   "source": [
    "RR.groupby('TYPE')['COST IN ₹ (CR.)'].agg(['sum','count'])"
   ]
  },
  {
   "cell_type": "code",
   "execution_count": 339,
   "metadata": {},
   "outputs": [
    {
     "data": {
      "text/plain": [
       "<AxesSubplot: xlabel='TYPE'>"
      ]
     },
     "execution_count": 339,
     "metadata": {},
     "output_type": "execute_result"
    },
    {
     "data": {
      "image/png": "[encoded data removed]",
      "text/plain": [
       "<Figure size 864x432 with 1 Axes>"
      ]
     },
     "metadata": {
      "needs_background": "light"
     },
     "output_type": "display_data"
    }
   ],
   "source": [
    "RR.groupby('TYPE')['COST IN ₹ (CR.)'].agg(['sum','count']).plot(kind='bar')"
   ]
  },
  {
   "cell_type": "code",
   "execution_count": 340,
   "metadata": {},
   "outputs": [],
   "source": [
    "#OBSERVATIONS\n",
    "# RR has\n",
    "#a)5 All Rounders on whom 11.45 cr is spent\n",
    "#b)5 Batters on whom 22.65 cr is spent\n",
    "#c)10 Bowlers on whom 30.75 cr is spent\n",
    "#d)3 Wicketkeepers on which 24.20 cr is spent\n",
    "#e)3 players were retained from the last season\n",
    "#f)We infer that RR focused mainly on bowlers in the auction."
   ]
  },
  {
   "attachments": {},
   "cell_type": "markdown",
   "metadata": {},
   "source": [
    "Sunrisers Hyderabad"
   ]
  },
  {
   "cell_type": "code",
   "execution_count": 341,
   "metadata": {},
   "outputs": [
    {
     "data": {
      "text/html": [
       "<div>\n",
       "<style scoped>\n",
       "    .dataframe tbody tr th:only-of-type {\n",
       "        vertical-align: middle;\n",
       "    }\n",
       "\n",
       "    .dataframe tbody tr th {\n",
       "        vertical-align: top;\n",
       "    }\n",
       "\n",
       "    .dataframe thead th {\n",
       "        text-align: right;\n",
       "    }\n",
       "</style>\n",
       "<table border=\"1\" class=\"dataframe\">\n",
       "  <thead>\n",
       "    <tr style=\"text-align: right;\">\n",
       "      <th></th>\n",
       "      <th>Unnamed: 0</th>\n",
       "      <th>Player</th>\n",
       "      <th>Base Price</th>\n",
       "      <th>TYPE</th>\n",
       "      <th>COST IN ₹ (CR.)</th>\n",
       "      <th>Cost IN $ (000)</th>\n",
       "      <th>2021 Squad</th>\n",
       "      <th>Team</th>\n",
       "    </tr>\n",
       "  </thead>\n",
       "  <tbody>\n",
       "    <tr>\n",
       "      <th>214</th>\n",
       "      <td>214</td>\n",
       "      <td>Kane Williamson</td>\n",
       "      <td>Retained</td>\n",
       "      <td>BATTER</td>\n",
       "      <td>14.00</td>\n",
       "      <td>1820.0</td>\n",
       "      <td>SRH</td>\n",
       "      <td>Sunrisers Hyderabad</td>\n",
       "    </tr>\n",
       "    <tr>\n",
       "      <th>215</th>\n",
       "      <td>215</td>\n",
       "      <td>Nicholas Pooran</td>\n",
       "      <td>1.5 Cr</td>\n",
       "      <td>WICKETKEEPER</td>\n",
       "      <td>10.75</td>\n",
       "      <td>1397.5</td>\n",
       "      <td>PBKS</td>\n",
       "      <td>Sunrisers Hyderabad</td>\n",
       "    </tr>\n",
       "    <tr>\n",
       "      <th>216</th>\n",
       "      <td>216</td>\n",
       "      <td>Washington Sundar</td>\n",
       "      <td>1.5 Cr</td>\n",
       "      <td>ALL-ROUNDER</td>\n",
       "      <td>8.75</td>\n",
       "      <td>1137.5</td>\n",
       "      <td>RCB</td>\n",
       "      <td>Sunrisers Hyderabad</td>\n",
       "    </tr>\n",
       "    <tr>\n",
       "      <th>217</th>\n",
       "      <td>217</td>\n",
       "      <td>Rahul Tripathi</td>\n",
       "      <td>40 Lakh</td>\n",
       "      <td>BATTER</td>\n",
       "      <td>8.50</td>\n",
       "      <td>1105.0</td>\n",
       "      <td>KKR</td>\n",
       "      <td>Sunrisers Hyderabad</td>\n",
       "    </tr>\n",
       "    <tr>\n",
       "      <th>218</th>\n",
       "      <td>218</td>\n",
       "      <td>Romario Shepherd</td>\n",
       "      <td>75 Lakh</td>\n",
       "      <td>ALL-ROUNDER</td>\n",
       "      <td>7.75</td>\n",
       "      <td>1007.5</td>\n",
       "      <td>NaN</td>\n",
       "      <td>Sunrisers Hyderabad</td>\n",
       "    </tr>\n",
       "    <tr>\n",
       "      <th>219</th>\n",
       "      <td>219</td>\n",
       "      <td>Abhishek Sharma</td>\n",
       "      <td>20 Lakh</td>\n",
       "      <td>ALL-ROUNDER</td>\n",
       "      <td>6.50</td>\n",
       "      <td>845.0</td>\n",
       "      <td>SRH</td>\n",
       "      <td>Sunrisers Hyderabad</td>\n",
       "    </tr>\n",
       "    <tr>\n",
       "      <th>220</th>\n",
       "      <td>220</td>\n",
       "      <td>Marco Jansen</td>\n",
       "      <td>50 Lakh</td>\n",
       "      <td>ALL-ROUNDER</td>\n",
       "      <td>4.20</td>\n",
       "      <td>546.0</td>\n",
       "      <td>MI</td>\n",
       "      <td>Sunrisers Hyderabad</td>\n",
       "    </tr>\n",
       "    <tr>\n",
       "      <th>221</th>\n",
       "      <td>221</td>\n",
       "      <td>Bhuvneshwar Kumar</td>\n",
       "      <td>2 Cr</td>\n",
       "      <td>BOWLER</td>\n",
       "      <td>4.20</td>\n",
       "      <td>546.0</td>\n",
       "      <td>SRH</td>\n",
       "      <td>Sunrisers Hyderabad</td>\n",
       "    </tr>\n",
       "    <tr>\n",
       "      <th>222</th>\n",
       "      <td>222</td>\n",
       "      <td>T. Natarajan</td>\n",
       "      <td>1 Cr</td>\n",
       "      <td>BOWLER</td>\n",
       "      <td>4.00</td>\n",
       "      <td>520.0</td>\n",
       "      <td>SRH</td>\n",
       "      <td>Sunrisers Hyderabad</td>\n",
       "    </tr>\n",
       "    <tr>\n",
       "      <th>223</th>\n",
       "      <td>223</td>\n",
       "      <td>Abdul Samad</td>\n",
       "      <td>Retained</td>\n",
       "      <td>ALL-ROUNDER</td>\n",
       "      <td>4.00</td>\n",
       "      <td>520.0</td>\n",
       "      <td>SRH</td>\n",
       "      <td>Sunrisers Hyderabad</td>\n",
       "    </tr>\n",
       "    <tr>\n",
       "      <th>224</th>\n",
       "      <td>224</td>\n",
       "      <td>Umran Malik</td>\n",
       "      <td>Retained</td>\n",
       "      <td>BOWLER</td>\n",
       "      <td>4.00</td>\n",
       "      <td>520.0</td>\n",
       "      <td>SRH</td>\n",
       "      <td>Sunrisers Hyderabad</td>\n",
       "    </tr>\n",
       "    <tr>\n",
       "      <th>225</th>\n",
       "      <td>225</td>\n",
       "      <td>Kartik Tyagi</td>\n",
       "      <td>20 Lakh</td>\n",
       "      <td>BOWLER</td>\n",
       "      <td>4.00</td>\n",
       "      <td>520.0</td>\n",
       "      <td>RR</td>\n",
       "      <td>Sunrisers Hyderabad</td>\n",
       "    </tr>\n",
       "    <tr>\n",
       "      <th>226</th>\n",
       "      <td>226</td>\n",
       "      <td>Aiden Markram</td>\n",
       "      <td>1 Cr</td>\n",
       "      <td>BATTER</td>\n",
       "      <td>2.60</td>\n",
       "      <td>338.0</td>\n",
       "      <td>PBKS</td>\n",
       "      <td>Sunrisers Hyderabad</td>\n",
       "    </tr>\n",
       "    <tr>\n",
       "      <th>227</th>\n",
       "      <td>227</td>\n",
       "      <td>Sean Abbott</td>\n",
       "      <td>75 Lakh</td>\n",
       "      <td>BOWLER</td>\n",
       "      <td>2.40</td>\n",
       "      <td>312.0</td>\n",
       "      <td>NaN</td>\n",
       "      <td>Sunrisers Hyderabad</td>\n",
       "    </tr>\n",
       "    <tr>\n",
       "      <th>228</th>\n",
       "      <td>228</td>\n",
       "      <td>Glenn Phillips</td>\n",
       "      <td>1.5 Cr</td>\n",
       "      <td>WICKETKEEPER</td>\n",
       "      <td>1.50</td>\n",
       "      <td>195.0</td>\n",
       "      <td>RR</td>\n",
       "      <td>Sunrisers Hyderabad</td>\n",
       "    </tr>\n",
       "    <tr>\n",
       "      <th>229</th>\n",
       "      <td>229</td>\n",
       "      <td>Shreyas Gopal</td>\n",
       "      <td>20 Lakh</td>\n",
       "      <td>BOWLER</td>\n",
       "      <td>0.75</td>\n",
       "      <td>97.5</td>\n",
       "      <td>RR</td>\n",
       "      <td>Sunrisers Hyderabad</td>\n",
       "    </tr>\n",
       "    <tr>\n",
       "      <th>230</th>\n",
       "      <td>230</td>\n",
       "      <td>Vishnu Vinod</td>\n",
       "      <td>20 Lakh</td>\n",
       "      <td>WICKETKEEPER</td>\n",
       "      <td>0.50</td>\n",
       "      <td>65.0</td>\n",
       "      <td>DC</td>\n",
       "      <td>Sunrisers Hyderabad</td>\n",
       "    </tr>\n",
       "    <tr>\n",
       "      <th>231</th>\n",
       "      <td>231</td>\n",
       "      <td>Fazalhaq Farooqi</td>\n",
       "      <td>50 Lakh</td>\n",
       "      <td>BOWLER</td>\n",
       "      <td>0.50</td>\n",
       "      <td>65.0</td>\n",
       "      <td>NaN</td>\n",
       "      <td>Sunrisers Hyderabad</td>\n",
       "    </tr>\n",
       "    <tr>\n",
       "      <th>232</th>\n",
       "      <td>232</td>\n",
       "      <td>Priyam Garg</td>\n",
       "      <td>20 Lakh</td>\n",
       "      <td>BATTER</td>\n",
       "      <td>0.20</td>\n",
       "      <td>26.0</td>\n",
       "      <td>SRH</td>\n",
       "      <td>Sunrisers Hyderabad</td>\n",
       "    </tr>\n",
       "    <tr>\n",
       "      <th>233</th>\n",
       "      <td>233</td>\n",
       "      <td>R Samarth</td>\n",
       "      <td>20 Lakh</td>\n",
       "      <td>BATTER</td>\n",
       "      <td>0.20</td>\n",
       "      <td>26.0</td>\n",
       "      <td>NaN</td>\n",
       "      <td>Sunrisers Hyderabad</td>\n",
       "    </tr>\n",
       "    <tr>\n",
       "      <th>234</th>\n",
       "      <td>234</td>\n",
       "      <td>Jagadeesha Suchith</td>\n",
       "      <td>20 Lakh</td>\n",
       "      <td>BOWLER</td>\n",
       "      <td>0.20</td>\n",
       "      <td>26.0</td>\n",
       "      <td>SRH</td>\n",
       "      <td>Sunrisers Hyderabad</td>\n",
       "    </tr>\n",
       "    <tr>\n",
       "      <th>235</th>\n",
       "      <td>235</td>\n",
       "      <td>Shashank Singh</td>\n",
       "      <td>20 Lakh</td>\n",
       "      <td>ALL-ROUNDER</td>\n",
       "      <td>0.20</td>\n",
       "      <td>26.0</td>\n",
       "      <td>NaN</td>\n",
       "      <td>Sunrisers Hyderabad</td>\n",
       "    </tr>\n",
       "    <tr>\n",
       "      <th>236</th>\n",
       "      <td>236</td>\n",
       "      <td>Saurabh Dubey</td>\n",
       "      <td>20 Lakh</td>\n",
       "      <td>BOWLER</td>\n",
       "      <td>0.20</td>\n",
       "      <td>26.0</td>\n",
       "      <td>NaN</td>\n",
       "      <td>Sunrisers Hyderabad</td>\n",
       "    </tr>\n",
       "  </tbody>\n",
       "</table>\n",
       "</div>"
      ],
      "text/plain": [
       "     Unnamed: 0              Player Base Price          TYPE  COST IN ₹ (CR.)  \\\n",
       "214         214     Kane Williamson   Retained        BATTER            14.00   \n",
       "215         215     Nicholas Pooran     1.5 Cr  WICKETKEEPER            10.75   \n",
       "216         216   Washington Sundar     1.5 Cr   ALL-ROUNDER             8.75   \n",
       "217         217      Rahul Tripathi    40 Lakh        BATTER             8.50   \n",
       "218         218    Romario Shepherd    75 Lakh   ALL-ROUNDER             7.75   \n",
       "219         219     Abhishek Sharma    20 Lakh   ALL-ROUNDER             6.50   \n",
       "220         220        Marco Jansen    50 Lakh   ALL-ROUNDER             4.20   \n",
       "221         221   Bhuvneshwar Kumar       2 Cr        BOWLER             4.20   \n",
       "222         222        T. Natarajan       1 Cr        BOWLER             4.00   \n",
       "223         223         Abdul Samad   Retained   ALL-ROUNDER             4.00   \n",
       "224         224         Umran Malik   Retained        BOWLER             4.00   \n",
       "225         225        Kartik Tyagi    20 Lakh        BOWLER             4.00   \n",
       "226         226       Aiden Markram       1 Cr        BATTER             2.60   \n",
       "227         227         Sean Abbott    75 Lakh        BOWLER             2.40   \n",
       "228         228      Glenn Phillips     1.5 Cr  WICKETKEEPER             1.50   \n",
       "229         229       Shreyas Gopal    20 Lakh        BOWLER             0.75   \n",
       "230         230        Vishnu Vinod    20 Lakh  WICKETKEEPER             0.50   \n",
       "231         231    Fazalhaq Farooqi    50 Lakh        BOWLER             0.50   \n",
       "232         232         Priyam Garg    20 Lakh        BATTER             0.20   \n",
       "233         233           R Samarth    20 Lakh        BATTER             0.20   \n",
       "234         234  Jagadeesha Suchith    20 Lakh        BOWLER             0.20   \n",
       "235         235      Shashank Singh    20 Lakh   ALL-ROUNDER             0.20   \n",
       "236         236       Saurabh Dubey    20 Lakh        BOWLER             0.20   \n",
       "\n",
       "     Cost IN $ (000) 2021 Squad                 Team  \n",
       "214           1820.0        SRH  Sunrisers Hyderabad  \n",
       "215           1397.5       PBKS  Sunrisers Hyderabad  \n",
       "216           1137.5        RCB  Sunrisers Hyderabad  \n",
       "217           1105.0        KKR  Sunrisers Hyderabad  \n",
       "218           1007.5        NaN  Sunrisers Hyderabad  \n",
       "219            845.0        SRH  Sunrisers Hyderabad  \n",
       "220            546.0         MI  Sunrisers Hyderabad  \n",
       "221            546.0        SRH  Sunrisers Hyderabad  \n",
       "222            520.0        SRH  Sunrisers Hyderabad  \n",
       "223            520.0        SRH  Sunrisers Hyderabad  \n",
       "224            520.0        SRH  Sunrisers Hyderabad  \n",
       "225            520.0         RR  Sunrisers Hyderabad  \n",
       "226            338.0       PBKS  Sunrisers Hyderabad  \n",
       "227            312.0        NaN  Sunrisers Hyderabad  \n",
       "228            195.0         RR  Sunrisers Hyderabad  \n",
       "229             97.5         RR  Sunrisers Hyderabad  \n",
       "230             65.0         DC  Sunrisers Hyderabad  \n",
       "231             65.0        NaN  Sunrisers Hyderabad  \n",
       "232             26.0        SRH  Sunrisers Hyderabad  \n",
       "233             26.0        NaN  Sunrisers Hyderabad  \n",
       "234             26.0        SRH  Sunrisers Hyderabad  \n",
       "235             26.0        NaN  Sunrisers Hyderabad  \n",
       "236             26.0        NaN  Sunrisers Hyderabad  "
      ]
     },
     "execution_count": 341,
     "metadata": {},
     "output_type": "execute_result"
    }
   ],
   "source": [
    "SRH = df.loc[df['Team']=='Sunrisers Hyderabad']\n",
    "SRH\n"
   ]
  },
  {
   "cell_type": "code",
   "execution_count": 342,
   "metadata": {},
   "outputs": [
    {
     "data": {
      "text/plain": [
       "89.90000000000002"
      ]
     },
     "execution_count": 342,
     "metadata": {},
     "output_type": "execute_result"
    }
   ],
   "source": [
    "SRH['COST IN ₹ (CR.)'].sum()"
   ]
  },
  {
   "cell_type": "code",
   "execution_count": 343,
   "metadata": {},
   "outputs": [
    {
     "data": {
      "text/plain": [
       "3.908695652173914"
      ]
     },
     "execution_count": 343,
     "metadata": {},
     "output_type": "execute_result"
    }
   ],
   "source": [
    "SRH['COST IN ₹ (CR.)'].mean()"
   ]
  },
  {
   "cell_type": "code",
   "execution_count": 344,
   "metadata": {},
   "outputs": [
    {
     "data": {
      "text/plain": [
       "14.0"
      ]
     },
     "execution_count": 344,
     "metadata": {},
     "output_type": "execute_result"
    }
   ],
   "source": [
    "SRH['COST IN ₹ (CR.)'].max()"
   ]
  },
  {
   "cell_type": "code",
   "execution_count": 345,
   "metadata": {},
   "outputs": [
    {
     "data": {
      "text/plain": [
       "3.8530286839739065"
      ]
     },
     "execution_count": 345,
     "metadata": {},
     "output_type": "execute_result"
    }
   ],
   "source": [
    "SRH['COST IN ₹ (CR.)'].std()\n"
   ]
  },
  {
   "cell_type": "code",
   "execution_count": 346,
   "metadata": {},
   "outputs": [],
   "source": [
    "#Observation\n",
    "#a) Total money spent by SRH is 89.90 crores\n",
    "#b) Mean of total money spent by SRH is 3.90 crores\n",
    "#c) Maximum money spent on player is 14 crores.\n",
    "#d) Standard deviation is 3.853 ce in SRH"
   ]
  },
  {
   "cell_type": "code",
   "execution_count": 347,
   "metadata": {},
   "outputs": [
    {
     "data": {
      "text/plain": [
       "<matplotlib.collections.PathCollection at 0x2a7bfaaff70>"
      ]
     },
     "execution_count": 347,
     "metadata": {},
     "output_type": "execute_result"
    },
    {
     "data": {
      "image/png": "[encoded data removed]",
      "text/plain": [
       "<Figure size 864x432 with 1 Axes>"
      ]
     },
     "metadata": {
      "needs_background": "light"
     },
     "output_type": "display_data"
    }
   ],
   "source": [
    "plt.scatter(x=SRH['TYPE'],y=SRH['COST IN ₹ (CR.)'])"
   ]
  },
  {
   "cell_type": "code",
   "execution_count": 348,
   "metadata": {},
   "outputs": [
    {
     "data": {
      "text/html": [
       "<div>\n",
       "<style scoped>\n",
       "    .dataframe tbody tr th:only-of-type {\n",
       "        vertical-align: middle;\n",
       "    }\n",
       "\n",
       "    .dataframe tbody tr th {\n",
       "        vertical-align: top;\n",
       "    }\n",
       "\n",
       "    .dataframe thead th {\n",
       "        text-align: right;\n",
       "    }\n",
       "</style>\n",
       "<table border=\"1\" class=\"dataframe\">\n",
       "  <thead>\n",
       "    <tr style=\"text-align: right;\">\n",
       "      <th></th>\n",
       "      <th>Base Price</th>\n",
       "      <th>Count</th>\n",
       "    </tr>\n",
       "  </thead>\n",
       "  <tbody>\n",
       "    <tr>\n",
       "      <th>0</th>\n",
       "      <td>1 Cr</td>\n",
       "      <td>2</td>\n",
       "    </tr>\n",
       "    <tr>\n",
       "      <th>1</th>\n",
       "      <td>1.5 Cr</td>\n",
       "      <td>3</td>\n",
       "    </tr>\n",
       "    <tr>\n",
       "      <th>2</th>\n",
       "      <td>2 Cr</td>\n",
       "      <td>1</td>\n",
       "    </tr>\n",
       "    <tr>\n",
       "      <th>3</th>\n",
       "      <td>20 Lakh</td>\n",
       "      <td>9</td>\n",
       "    </tr>\n",
       "    <tr>\n",
       "      <th>4</th>\n",
       "      <td>40 Lakh</td>\n",
       "      <td>1</td>\n",
       "    </tr>\n",
       "    <tr>\n",
       "      <th>5</th>\n",
       "      <td>50 Lakh</td>\n",
       "      <td>2</td>\n",
       "    </tr>\n",
       "    <tr>\n",
       "      <th>6</th>\n",
       "      <td>75 Lakh</td>\n",
       "      <td>2</td>\n",
       "    </tr>\n",
       "    <tr>\n",
       "      <th>7</th>\n",
       "      <td>Retained</td>\n",
       "      <td>3</td>\n",
       "    </tr>\n",
       "  </tbody>\n",
       "</table>\n",
       "</div>"
      ],
      "text/plain": [
       "  Base Price  Count\n",
       "0       1 Cr      2\n",
       "1     1.5 Cr      3\n",
       "2       2 Cr      1\n",
       "3    20 Lakh      9\n",
       "4    40 Lakh      1\n",
       "5    50 Lakh      2\n",
       "6    75 Lakh      2\n",
       "7   Retained      3"
      ]
     },
     "execution_count": 348,
     "metadata": {},
     "output_type": "execute_result"
    }
   ],
   "source": [
    "SRH.groupby('Base Price').size().reset_index().rename(columns={0:'Count'})"
   ]
  },
  {
   "cell_type": "code",
   "execution_count": 349,
   "metadata": {},
   "outputs": [
    {
     "data": {
      "text/html": [
       "<div>\n",
       "<style scoped>\n",
       "    .dataframe tbody tr th:only-of-type {\n",
       "        vertical-align: middle;\n",
       "    }\n",
       "\n",
       "    .dataframe tbody tr th {\n",
       "        vertical-align: top;\n",
       "    }\n",
       "\n",
       "    .dataframe thead th {\n",
       "        text-align: right;\n",
       "    }\n",
       "</style>\n",
       "<table border=\"1\" class=\"dataframe\">\n",
       "  <thead>\n",
       "    <tr style=\"text-align: right;\">\n",
       "      <th></th>\n",
       "      <th>sum</th>\n",
       "      <th>count</th>\n",
       "    </tr>\n",
       "    <tr>\n",
       "      <th>TYPE</th>\n",
       "      <th></th>\n",
       "      <th></th>\n",
       "    </tr>\n",
       "  </thead>\n",
       "  <tbody>\n",
       "    <tr>\n",
       "      <th>ALL-ROUNDER</th>\n",
       "      <td>31.40</td>\n",
       "      <td>6</td>\n",
       "    </tr>\n",
       "    <tr>\n",
       "      <th>BATTER</th>\n",
       "      <td>25.50</td>\n",
       "      <td>5</td>\n",
       "    </tr>\n",
       "    <tr>\n",
       "      <th>BOWLER</th>\n",
       "      <td>20.25</td>\n",
       "      <td>9</td>\n",
       "    </tr>\n",
       "    <tr>\n",
       "      <th>WICKETKEEPER</th>\n",
       "      <td>12.75</td>\n",
       "      <td>3</td>\n",
       "    </tr>\n",
       "  </tbody>\n",
       "</table>\n",
       "</div>"
      ],
      "text/plain": [
       "                sum  count\n",
       "TYPE                      \n",
       "ALL-ROUNDER   31.40      6\n",
       "BATTER        25.50      5\n",
       "BOWLER        20.25      9\n",
       "WICKETKEEPER  12.75      3"
      ]
     },
     "execution_count": 349,
     "metadata": {},
     "output_type": "execute_result"
    }
   ],
   "source": [
    "SRH.groupby('TYPE')['COST IN ₹ (CR.)'].agg(['sum','count'])"
   ]
  },
  {
   "cell_type": "code",
   "execution_count": 350,
   "metadata": {},
   "outputs": [
    {
     "data": {
      "text/plain": [
       "<AxesSubplot: xlabel='TYPE'>"
      ]
     },
     "execution_count": 350,
     "metadata": {},
     "output_type": "execute_result"
    },
    {
     "data": {
      "image/png": "[encoded data removed]",
      "text/plain": [
       "<Figure size 864x432 with 1 Axes>"
      ]
     },
     "metadata": {
      "needs_background": "light"
     },
     "output_type": "display_data"
    }
   ],
   "source": [
    "SRH.groupby('TYPE')['COST IN ₹ (CR.)'].agg(['sum','count']).plot(kind='bar')"
   ]
  },
  {
   "cell_type": "code",
   "execution_count": 351,
   "metadata": {},
   "outputs": [],
   "source": [
    "#OBSERVATIONS\n",
    "#SRH has\n",
    "#a)6 All Rounders on whom 31.40 cr is spent\n",
    "#b)5 Batters on whom 25.50 cr is spent\n",
    "#c)9 Bowlers on whom 20.25 cr is spent\n",
    "#d)3 Wicketkeepers on which 12.75 cr is spent\n",
    "#e)3 players were retained from the last season\n",
    "#f)We infer that SRH focused mainly on all rounders in the auction."
   ]
  },
  {
   "attachments": {},
   "cell_type": "markdown",
   "metadata": {},
   "source": [
    "Lucknow Super Giants"
   ]
  },
  {
   "cell_type": "code",
   "execution_count": 352,
   "metadata": {},
   "outputs": [
    {
     "data": {
      "text/html": [
       "<div>\n",
       "<style scoped>\n",
       "    .dataframe tbody tr th:only-of-type {\n",
       "        vertical-align: middle;\n",
       "    }\n",
       "\n",
       "    .dataframe tbody tr th {\n",
       "        vertical-align: top;\n",
       "    }\n",
       "\n",
       "    .dataframe thead th {\n",
       "        text-align: right;\n",
       "    }\n",
       "</style>\n",
       "<table border=\"1\" class=\"dataframe\">\n",
       "  <thead>\n",
       "    <tr style=\"text-align: right;\">\n",
       "      <th></th>\n",
       "      <th>Unnamed: 0</th>\n",
       "      <th>Player</th>\n",
       "      <th>Base Price</th>\n",
       "      <th>TYPE</th>\n",
       "      <th>COST IN ₹ (CR.)</th>\n",
       "      <th>Cost IN $ (000)</th>\n",
       "      <th>2021 Squad</th>\n",
       "      <th>Team</th>\n",
       "    </tr>\n",
       "  </thead>\n",
       "  <tbody>\n",
       "    <tr>\n",
       "      <th>121</th>\n",
       "      <td>121</td>\n",
       "      <td>KL Rahul</td>\n",
       "      <td>Draft Pick</td>\n",
       "      <td>WICKETKEEPER</td>\n",
       "      <td>17.00</td>\n",
       "      <td>2210.0</td>\n",
       "      <td>PBKS</td>\n",
       "      <td>Lucknow Super Giants</td>\n",
       "    </tr>\n",
       "    <tr>\n",
       "      <th>122</th>\n",
       "      <td>122</td>\n",
       "      <td>Avesh Khan</td>\n",
       "      <td>20 Lakh</td>\n",
       "      <td>BOWLER</td>\n",
       "      <td>10.00</td>\n",
       "      <td>1300.0</td>\n",
       "      <td>DC</td>\n",
       "      <td>Lucknow Super Giants</td>\n",
       "    </tr>\n",
       "    <tr>\n",
       "      <th>123</th>\n",
       "      <td>123</td>\n",
       "      <td>Marcus Stoinis</td>\n",
       "      <td>Draft Pick</td>\n",
       "      <td>ALL-ROUNDER</td>\n",
       "      <td>9.20</td>\n",
       "      <td>1196.0</td>\n",
       "      <td>DC</td>\n",
       "      <td>Lucknow Super Giants</td>\n",
       "    </tr>\n",
       "    <tr>\n",
       "      <th>124</th>\n",
       "      <td>124</td>\n",
       "      <td>Jason Holder</td>\n",
       "      <td>1.5 Cr</td>\n",
       "      <td>ALL-ROUNDER</td>\n",
       "      <td>8.75</td>\n",
       "      <td>1137.5</td>\n",
       "      <td>SRH</td>\n",
       "      <td>Lucknow Super Giants</td>\n",
       "    </tr>\n",
       "    <tr>\n",
       "      <th>125</th>\n",
       "      <td>125</td>\n",
       "      <td>Krunal Pandya</td>\n",
       "      <td>2 Cr</td>\n",
       "      <td>ALL-ROUNDER</td>\n",
       "      <td>8.25</td>\n",
       "      <td>1072.5</td>\n",
       "      <td>MI</td>\n",
       "      <td>Lucknow Super Giants</td>\n",
       "    </tr>\n",
       "    <tr>\n",
       "      <th>126</th>\n",
       "      <td>126</td>\n",
       "      <td>Mark Wood</td>\n",
       "      <td>2 Cr</td>\n",
       "      <td>BOWLER</td>\n",
       "      <td>7.50</td>\n",
       "      <td>975.0</td>\n",
       "      <td>NaN</td>\n",
       "      <td>Lucknow Super Giants</td>\n",
       "    </tr>\n",
       "    <tr>\n",
       "      <th>127</th>\n",
       "      <td>127</td>\n",
       "      <td>Quinton De Kock</td>\n",
       "      <td>2 Cr</td>\n",
       "      <td>WICKETKEEPER</td>\n",
       "      <td>6.75</td>\n",
       "      <td>877.5</td>\n",
       "      <td>MI</td>\n",
       "      <td>Lucknow Super Giants</td>\n",
       "    </tr>\n",
       "    <tr>\n",
       "      <th>128</th>\n",
       "      <td>128</td>\n",
       "      <td>Deepak Hooda</td>\n",
       "      <td>75 Lakh</td>\n",
       "      <td>ALL-ROUNDER</td>\n",
       "      <td>5.75</td>\n",
       "      <td>747.5</td>\n",
       "      <td>PBKS</td>\n",
       "      <td>Lucknow Super Giants</td>\n",
       "    </tr>\n",
       "    <tr>\n",
       "      <th>129</th>\n",
       "      <td>129</td>\n",
       "      <td>Manish Pandey</td>\n",
       "      <td>1 Cr</td>\n",
       "      <td>BATTER</td>\n",
       "      <td>4.60</td>\n",
       "      <td>598.0</td>\n",
       "      <td>SRH</td>\n",
       "      <td>Lucknow Super Giants</td>\n",
       "    </tr>\n",
       "    <tr>\n",
       "      <th>130</th>\n",
       "      <td>130</td>\n",
       "      <td>Ravi Bishnoi</td>\n",
       "      <td>Draft Pick</td>\n",
       "      <td>BOWLER</td>\n",
       "      <td>4.00</td>\n",
       "      <td>520.0</td>\n",
       "      <td>PBKS</td>\n",
       "      <td>Lucknow Super Giants</td>\n",
       "    </tr>\n",
       "    <tr>\n",
       "      <th>131</th>\n",
       "      <td>131</td>\n",
       "      <td>Dushmanta Chameera</td>\n",
       "      <td>50 Lakh</td>\n",
       "      <td>BOWLER</td>\n",
       "      <td>2.00</td>\n",
       "      <td>260.0</td>\n",
       "      <td>NaN</td>\n",
       "      <td>Lucknow Super Giants</td>\n",
       "    </tr>\n",
       "    <tr>\n",
       "      <th>132</th>\n",
       "      <td>132</td>\n",
       "      <td>Evin Lewis</td>\n",
       "      <td>2 Cr</td>\n",
       "      <td>BATTER</td>\n",
       "      <td>2.00</td>\n",
       "      <td>260.0</td>\n",
       "      <td>RR</td>\n",
       "      <td>Lucknow Super Giants</td>\n",
       "    </tr>\n",
       "    <tr>\n",
       "      <th>133</th>\n",
       "      <td>133</td>\n",
       "      <td>K. Gowtham</td>\n",
       "      <td>50 Lakh</td>\n",
       "      <td>ALL-ROUNDER</td>\n",
       "      <td>0.90</td>\n",
       "      <td>117.0</td>\n",
       "      <td>CSK</td>\n",
       "      <td>Lucknow Super Giants</td>\n",
       "    </tr>\n",
       "    <tr>\n",
       "      <th>134</th>\n",
       "      <td>134</td>\n",
       "      <td>Kyle Mayers</td>\n",
       "      <td>50 Lakh</td>\n",
       "      <td>ALL-ROUNDER</td>\n",
       "      <td>0.50</td>\n",
       "      <td>65.0</td>\n",
       "      <td>NaN</td>\n",
       "      <td>Lucknow Super Giants</td>\n",
       "    </tr>\n",
       "    <tr>\n",
       "      <th>135</th>\n",
       "      <td>135</td>\n",
       "      <td>Shahbaz Nadeem</td>\n",
       "      <td>50 Lakh</td>\n",
       "      <td>BOWLER</td>\n",
       "      <td>0.50</td>\n",
       "      <td>65.0</td>\n",
       "      <td>SRH</td>\n",
       "      <td>Lucknow Super Giants</td>\n",
       "    </tr>\n",
       "    <tr>\n",
       "      <th>136</th>\n",
       "      <td>136</td>\n",
       "      <td>Ankit Singh Rajpoot</td>\n",
       "      <td>20 Lakh</td>\n",
       "      <td>BOWLER</td>\n",
       "      <td>0.50</td>\n",
       "      <td>65.0</td>\n",
       "      <td>NaN</td>\n",
       "      <td>Lucknow Super Giants</td>\n",
       "    </tr>\n",
       "    <tr>\n",
       "      <th>137</th>\n",
       "      <td>137</td>\n",
       "      <td>Manan Vohra</td>\n",
       "      <td>20 Lakh</td>\n",
       "      <td>BATTER</td>\n",
       "      <td>0.20</td>\n",
       "      <td>26.0</td>\n",
       "      <td>RR</td>\n",
       "      <td>Lucknow Super Giants</td>\n",
       "    </tr>\n",
       "    <tr>\n",
       "      <th>138</th>\n",
       "      <td>138</td>\n",
       "      <td>B. Sai Sudharsan</td>\n",
       "      <td>20 Lakh</td>\n",
       "      <td>ALL-ROUNDER</td>\n",
       "      <td>0.20</td>\n",
       "      <td>26.0</td>\n",
       "      <td>NaN</td>\n",
       "      <td>Lucknow Super Giants</td>\n",
       "    </tr>\n",
       "    <tr>\n",
       "      <th>139</th>\n",
       "      <td>139</td>\n",
       "      <td>Karan Sharma</td>\n",
       "      <td>20 Lakh</td>\n",
       "      <td>ALL-ROUNDER</td>\n",
       "      <td>0.20</td>\n",
       "      <td>26.0</td>\n",
       "      <td>NaN</td>\n",
       "      <td>Lucknow Super Giants</td>\n",
       "    </tr>\n",
       "    <tr>\n",
       "      <th>140</th>\n",
       "      <td>140</td>\n",
       "      <td>Ayush Badoni</td>\n",
       "      <td>20 Lakh</td>\n",
       "      <td>ALL-ROUNDER</td>\n",
       "      <td>0.20</td>\n",
       "      <td>26.0</td>\n",
       "      <td>NaN</td>\n",
       "      <td>Lucknow Super Giants</td>\n",
       "    </tr>\n",
       "    <tr>\n",
       "      <th>141</th>\n",
       "      <td>141</td>\n",
       "      <td>Mohsin Khan</td>\n",
       "      <td>20 Lakh</td>\n",
       "      <td>BOWLER</td>\n",
       "      <td>0.20</td>\n",
       "      <td>26.0</td>\n",
       "      <td>MI</td>\n",
       "      <td>Lucknow Super Giants</td>\n",
       "    </tr>\n",
       "    <tr>\n",
       "      <th>142</th>\n",
       "      <td>142</td>\n",
       "      <td>Mayank Yadav</td>\n",
       "      <td>20 Lakh</td>\n",
       "      <td>BOWLER</td>\n",
       "      <td>0.20</td>\n",
       "      <td>26.0</td>\n",
       "      <td>NaN</td>\n",
       "      <td>Lucknow Super Giants</td>\n",
       "    </tr>\n",
       "  </tbody>\n",
       "</table>\n",
       "</div>"
      ],
      "text/plain": [
       "     Unnamed: 0               Player  Base Price          TYPE  \\\n",
       "121         121             KL Rahul  Draft Pick  WICKETKEEPER   \n",
       "122         122           Avesh Khan     20 Lakh        BOWLER   \n",
       "123         123       Marcus Stoinis  Draft Pick   ALL-ROUNDER   \n",
       "124         124         Jason Holder      1.5 Cr   ALL-ROUNDER   \n",
       "125         125        Krunal Pandya        2 Cr   ALL-ROUNDER   \n",
       "126         126            Mark Wood        2 Cr        BOWLER   \n",
       "127         127      Quinton De Kock        2 Cr  WICKETKEEPER   \n",
       "128         128         Deepak Hooda     75 Lakh   ALL-ROUNDER   \n",
       "129         129        Manish Pandey        1 Cr        BATTER   \n",
       "130         130         Ravi Bishnoi  Draft Pick        BOWLER   \n",
       "131         131   Dushmanta Chameera     50 Lakh        BOWLER   \n",
       "132         132           Evin Lewis        2 Cr        BATTER   \n",
       "133         133           K. Gowtham     50 Lakh   ALL-ROUNDER   \n",
       "134         134          Kyle Mayers     50 Lakh   ALL-ROUNDER   \n",
       "135         135       Shahbaz Nadeem     50 Lakh        BOWLER   \n",
       "136         136  Ankit Singh Rajpoot     20 Lakh        BOWLER   \n",
       "137         137          Manan Vohra     20 Lakh        BATTER   \n",
       "138         138     B. Sai Sudharsan     20 Lakh   ALL-ROUNDER   \n",
       "139         139         Karan Sharma     20 Lakh   ALL-ROUNDER   \n",
       "140         140         Ayush Badoni     20 Lakh   ALL-ROUNDER   \n",
       "141         141          Mohsin Khan     20 Lakh        BOWLER   \n",
       "142         142         Mayank Yadav     20 Lakh        BOWLER   \n",
       "\n",
       "     COST IN ₹ (CR.)  Cost IN $ (000) 2021 Squad                  Team  \n",
       "121            17.00           2210.0       PBKS  Lucknow Super Giants  \n",
       "122            10.00           1300.0         DC  Lucknow Super Giants  \n",
       "123             9.20           1196.0         DC  Lucknow Super Giants  \n",
       "124             8.75           1137.5        SRH  Lucknow Super Giants  \n",
       "125             8.25           1072.5         MI  Lucknow Super Giants  \n",
       "126             7.50            975.0        NaN  Lucknow Super Giants  \n",
       "127             6.75            877.5         MI  Lucknow Super Giants  \n",
       "128             5.75            747.5       PBKS  Lucknow Super Giants  \n",
       "129             4.60            598.0        SRH  Lucknow Super Giants  \n",
       "130             4.00            520.0       PBKS  Lucknow Super Giants  \n",
       "131             2.00            260.0        NaN  Lucknow Super Giants  \n",
       "132             2.00            260.0         RR  Lucknow Super Giants  \n",
       "133             0.90            117.0        CSK  Lucknow Super Giants  \n",
       "134             0.50             65.0        NaN  Lucknow Super Giants  \n",
       "135             0.50             65.0        SRH  Lucknow Super Giants  \n",
       "136             0.50             65.0        NaN  Lucknow Super Giants  \n",
       "137             0.20             26.0         RR  Lucknow Super Giants  \n",
       "138             0.20             26.0        NaN  Lucknow Super Giants  \n",
       "139             0.20             26.0        NaN  Lucknow Super Giants  \n",
       "140             0.20             26.0        NaN  Lucknow Super Giants  \n",
       "141             0.20             26.0         MI  Lucknow Super Giants  \n",
       "142             0.20             26.0        NaN  Lucknow Super Giants  "
      ]
     },
     "execution_count": 352,
     "metadata": {},
     "output_type": "execute_result"
    }
   ],
   "source": [
    "LSG = df.loc[df['Team']=='Lucknow Super Giants']\n",
    "LSG\n"
   ]
  },
  {
   "cell_type": "code",
   "execution_count": 353,
   "metadata": {},
   "outputs": [
    {
     "data": {
      "text/plain": [
       "89.4"
      ]
     },
     "execution_count": 353,
     "metadata": {},
     "output_type": "execute_result"
    }
   ],
   "source": [
    "LSG['COST IN ₹ (CR.)'].sum()"
   ]
  },
  {
   "cell_type": "code",
   "execution_count": 354,
   "metadata": {},
   "outputs": [
    {
     "data": {
      "text/plain": [
       "17.0"
      ]
     },
     "execution_count": 354,
     "metadata": {},
     "output_type": "execute_result"
    }
   ],
   "source": [
    "LSG['COST IN ₹ (CR.)'].max()"
   ]
  },
  {
   "cell_type": "code",
   "execution_count": 355,
   "metadata": {},
   "outputs": [
    {
     "data": {
      "text/plain": [
       "4.0636363636363635"
      ]
     },
     "execution_count": 355,
     "metadata": {},
     "output_type": "execute_result"
    }
   ],
   "source": [
    "LSG['COST IN ₹ (CR.)'].mean()"
   ]
  },
  {
   "cell_type": "code",
   "execution_count": 356,
   "metadata": {},
   "outputs": [
    {
     "data": {
      "text/plain": [
       "4.560758651860398"
      ]
     },
     "execution_count": 356,
     "metadata": {},
     "output_type": "execute_result"
    }
   ],
   "source": [
    "LSG['COST IN ₹ (CR.)'].std()"
   ]
  },
  {
   "cell_type": "code",
   "execution_count": 357,
   "metadata": {},
   "outputs": [],
   "source": [
    "#Observation\n",
    "#a) Total money spent by LSG is 89.4 crores\n",
    "#b) Mean of total money spent by LSG is 4.06 crores\n",
    "#c) Maximum money spent on player is 17 crores.\n",
    "#d) Standard deviation is 4.56 cr in LSG"
   ]
  },
  {
   "cell_type": "code",
   "execution_count": 358,
   "metadata": {},
   "outputs": [
    {
     "data": {
      "text/plain": [
       "<matplotlib.collections.PathCollection at 0x2a7c8338ee0>"
      ]
     },
     "execution_count": 358,
     "metadata": {},
     "output_type": "execute_result"
    },
    {
     "data": {
      "image/png": "[encoded data removed]",
      "text/plain": [
       "<Figure size 864x432 with 1 Axes>"
      ]
     },
     "metadata": {
      "needs_background": "light"
     },
     "output_type": "display_data"
    }
   ],
   "source": [
    "plt.scatter(x=LSG['TYPE'],y=LSG['COST IN ₹ (CR.)'])"
   ]
  },
  {
   "cell_type": "code",
   "execution_count": 359,
   "metadata": {},
   "outputs": [
    {
     "data": {
      "text/html": [
       "<div>\n",
       "<style scoped>\n",
       "    .dataframe tbody tr th:only-of-type {\n",
       "        vertical-align: middle;\n",
       "    }\n",
       "\n",
       "    .dataframe tbody tr th {\n",
       "        vertical-align: top;\n",
       "    }\n",
       "\n",
       "    .dataframe thead th {\n",
       "        text-align: right;\n",
       "    }\n",
       "</style>\n",
       "<table border=\"1\" class=\"dataframe\">\n",
       "  <thead>\n",
       "    <tr style=\"text-align: right;\">\n",
       "      <th></th>\n",
       "      <th>Base Price</th>\n",
       "      <th>Count</th>\n",
       "    </tr>\n",
       "  </thead>\n",
       "  <tbody>\n",
       "    <tr>\n",
       "      <th>0</th>\n",
       "      <td>1 Cr</td>\n",
       "      <td>1</td>\n",
       "    </tr>\n",
       "    <tr>\n",
       "      <th>1</th>\n",
       "      <td>1.5 Cr</td>\n",
       "      <td>1</td>\n",
       "    </tr>\n",
       "    <tr>\n",
       "      <th>2</th>\n",
       "      <td>2 Cr</td>\n",
       "      <td>4</td>\n",
       "    </tr>\n",
       "    <tr>\n",
       "      <th>3</th>\n",
       "      <td>20 Lakh</td>\n",
       "      <td>8</td>\n",
       "    </tr>\n",
       "    <tr>\n",
       "      <th>4</th>\n",
       "      <td>50 Lakh</td>\n",
       "      <td>4</td>\n",
       "    </tr>\n",
       "    <tr>\n",
       "      <th>5</th>\n",
       "      <td>75 Lakh</td>\n",
       "      <td>1</td>\n",
       "    </tr>\n",
       "    <tr>\n",
       "      <th>6</th>\n",
       "      <td>Draft Pick</td>\n",
       "      <td>3</td>\n",
       "    </tr>\n",
       "  </tbody>\n",
       "</table>\n",
       "</div>"
      ],
      "text/plain": [
       "   Base Price  Count\n",
       "0        1 Cr      1\n",
       "1      1.5 Cr      1\n",
       "2        2 Cr      4\n",
       "3     20 Lakh      8\n",
       "4     50 Lakh      4\n",
       "5     75 Lakh      1\n",
       "6  Draft Pick      3"
      ]
     },
     "execution_count": 359,
     "metadata": {},
     "output_type": "execute_result"
    }
   ],
   "source": [
    "LSG.groupby('Base Price').size().reset_index().rename(columns={0:'Count'})"
   ]
  },
  {
   "cell_type": "code",
   "execution_count": 360,
   "metadata": {},
   "outputs": [
    {
     "data": {
      "text/html": [
       "<div>\n",
       "<style scoped>\n",
       "    .dataframe tbody tr th:only-of-type {\n",
       "        vertical-align: middle;\n",
       "    }\n",
       "\n",
       "    .dataframe tbody tr th {\n",
       "        vertical-align: top;\n",
       "    }\n",
       "\n",
       "    .dataframe thead th {\n",
       "        text-align: right;\n",
       "    }\n",
       "</style>\n",
       "<table border=\"1\" class=\"dataframe\">\n",
       "  <thead>\n",
       "    <tr style=\"text-align: right;\">\n",
       "      <th></th>\n",
       "      <th>sum</th>\n",
       "      <th>count</th>\n",
       "    </tr>\n",
       "    <tr>\n",
       "      <th>TYPE</th>\n",
       "      <th></th>\n",
       "      <th></th>\n",
       "    </tr>\n",
       "  </thead>\n",
       "  <tbody>\n",
       "    <tr>\n",
       "      <th>ALL-ROUNDER</th>\n",
       "      <td>33.95</td>\n",
       "      <td>9</td>\n",
       "    </tr>\n",
       "    <tr>\n",
       "      <th>BATTER</th>\n",
       "      <td>6.80</td>\n",
       "      <td>3</td>\n",
       "    </tr>\n",
       "    <tr>\n",
       "      <th>BOWLER</th>\n",
       "      <td>24.90</td>\n",
       "      <td>8</td>\n",
       "    </tr>\n",
       "    <tr>\n",
       "      <th>WICKETKEEPER</th>\n",
       "      <td>23.75</td>\n",
       "      <td>2</td>\n",
       "    </tr>\n",
       "  </tbody>\n",
       "</table>\n",
       "</div>"
      ],
      "text/plain": [
       "                sum  count\n",
       "TYPE                      \n",
       "ALL-ROUNDER   33.95      9\n",
       "BATTER         6.80      3\n",
       "BOWLER        24.90      8\n",
       "WICKETKEEPER  23.75      2"
      ]
     },
     "execution_count": 360,
     "metadata": {},
     "output_type": "execute_result"
    }
   ],
   "source": [
    "LSG.groupby('TYPE')['COST IN ₹ (CR.)'].agg(['sum','count'])"
   ]
  },
  {
   "cell_type": "code",
   "execution_count": 361,
   "metadata": {},
   "outputs": [
    {
     "data": {
      "text/plain": [
       "<AxesSubplot: xlabel='TYPE'>"
      ]
     },
     "execution_count": 361,
     "metadata": {},
     "output_type": "execute_result"
    },
    {
     "data": {
      "image/png": "[encoded data removed]",
      "text/plain": [
       "<Figure size 864x432 with 1 Axes>"
      ]
     },
     "metadata": {
      "needs_background": "light"
     },
     "output_type": "display_data"
    }
   ],
   "source": [
    "LSG.groupby('TYPE')['COST IN ₹ (CR.)'].agg(['sum','count']).plot(kind='bar')"
   ]
  },
  {
   "cell_type": "code",
   "execution_count": 362,
   "metadata": {},
   "outputs": [],
   "source": [
    "#OBSERVATIONS\n",
    "#LSG has\n",
    "#a)9 All Rounders on whom 33.95 cr is spent\n",
    "#b)3 Batters on whom 6.80 cr is spent\n",
    "#c)8 Bowlers on whom 24.90 cr is spent\n",
    "#d)2 Wicketkeepers on which 23.75 cr is spent\n",
    "#e)3 players were draft picked.\n",
    "#f)We infer that LSG focused mainly on all rounders in the auction."
   ]
  },
  {
   "attachments": {},
   "cell_type": "markdown",
   "metadata": {},
   "source": [
    "UNSOLD\n"
   ]
  },
  {
   "cell_type": "code",
   "execution_count": 363,
   "metadata": {},
   "outputs": [
    {
     "data": {
      "text/html": [
       "<div>\n",
       "<style scoped>\n",
       "    .dataframe tbody tr th:only-of-type {\n",
       "        vertical-align: middle;\n",
       "    }\n",
       "\n",
       "    .dataframe tbody tr th {\n",
       "        vertical-align: top;\n",
       "    }\n",
       "\n",
       "    .dataframe thead th {\n",
       "        text-align: right;\n",
       "    }\n",
       "</style>\n",
       "<table border=\"1\" class=\"dataframe\">\n",
       "  <thead>\n",
       "    <tr style=\"text-align: right;\">\n",
       "      <th></th>\n",
       "      <th>Unnamed: 0</th>\n",
       "      <th>Player</th>\n",
       "      <th>Base Price</th>\n",
       "      <th>TYPE</th>\n",
       "      <th>COST IN ₹ (CR.)</th>\n",
       "      <th>Cost IN $ (000)</th>\n",
       "      <th>2021 Squad</th>\n",
       "      <th>Team</th>\n",
       "    </tr>\n",
       "  </thead>\n",
       "  <tbody>\n",
       "    <tr>\n",
       "      <th>237</th>\n",
       "      <td>237</td>\n",
       "      <td>Suresh Raina</td>\n",
       "      <td>2 Cr</td>\n",
       "      <td>BATTER</td>\n",
       "      <td>NaN</td>\n",
       "      <td>NaN</td>\n",
       "      <td>CSK</td>\n",
       "      <td>Unsold</td>\n",
       "    </tr>\n",
       "    <tr>\n",
       "      <th>238</th>\n",
       "      <td>238</td>\n",
       "      <td>Steve Smith</td>\n",
       "      <td>2 Cr</td>\n",
       "      <td>BATTER</td>\n",
       "      <td>NaN</td>\n",
       "      <td>NaN</td>\n",
       "      <td>DC</td>\n",
       "      <td>Unsold</td>\n",
       "    </tr>\n",
       "    <tr>\n",
       "      <th>239</th>\n",
       "      <td>239</td>\n",
       "      <td>Shakib Al Hasan</td>\n",
       "      <td>2 Cr</td>\n",
       "      <td>ALL-ROUNDER</td>\n",
       "      <td>NaN</td>\n",
       "      <td>NaN</td>\n",
       "      <td>KKR</td>\n",
       "      <td>Unsold</td>\n",
       "    </tr>\n",
       "    <tr>\n",
       "      <th>240</th>\n",
       "      <td>240</td>\n",
       "      <td>Amit Mishra</td>\n",
       "      <td>1.5 Cr</td>\n",
       "      <td>BOWLER</td>\n",
       "      <td>NaN</td>\n",
       "      <td>NaN</td>\n",
       "      <td>DC</td>\n",
       "      <td>Unsold</td>\n",
       "    </tr>\n",
       "    <tr>\n",
       "      <th>241</th>\n",
       "      <td>241</td>\n",
       "      <td>Adil Rashid</td>\n",
       "      <td>2 Cr</td>\n",
       "      <td>BOWLER</td>\n",
       "      <td>NaN</td>\n",
       "      <td>NaN</td>\n",
       "      <td>PBKS</td>\n",
       "      <td>Unsold</td>\n",
       "    </tr>\n",
       "    <tr>\n",
       "      <th>...</th>\n",
       "      <td>...</td>\n",
       "      <td>...</td>\n",
       "      <td>...</td>\n",
       "      <td>...</td>\n",
       "      <td>...</td>\n",
       "      <td>...</td>\n",
       "      <td>...</td>\n",
       "      <td>...</td>\n",
       "    </tr>\n",
       "    <tr>\n",
       "      <th>628</th>\n",
       "      <td>628</td>\n",
       "      <td>Sairaj Patil</td>\n",
       "      <td>20 Lakh</td>\n",
       "      <td>BATTER</td>\n",
       "      <td>NaN</td>\n",
       "      <td>NaN</td>\n",
       "      <td>NaN</td>\n",
       "      <td>Unsold</td>\n",
       "    </tr>\n",
       "    <tr>\n",
       "      <th>629</th>\n",
       "      <td>629</td>\n",
       "      <td>Monu Singh</td>\n",
       "      <td>20 Lakh</td>\n",
       "      <td>BOWLER</td>\n",
       "      <td>NaN</td>\n",
       "      <td>NaN</td>\n",
       "      <td>NaN</td>\n",
       "      <td>Unsold</td>\n",
       "    </tr>\n",
       "    <tr>\n",
       "      <th>630</th>\n",
       "      <td>630</td>\n",
       "      <td>Nivethan Radhakrishnan</td>\n",
       "      <td>20 Lakh</td>\n",
       "      <td>BOWLER</td>\n",
       "      <td>NaN</td>\n",
       "      <td>NaN</td>\n",
       "      <td>NaN</td>\n",
       "      <td>Unsold</td>\n",
       "    </tr>\n",
       "    <tr>\n",
       "      <th>631</th>\n",
       "      <td>631</td>\n",
       "      <td>Lance Morris</td>\n",
       "      <td>20 Lakh</td>\n",
       "      <td>BOWLER</td>\n",
       "      <td>NaN</td>\n",
       "      <td>NaN</td>\n",
       "      <td>NaN</td>\n",
       "      <td>Unsold</td>\n",
       "    </tr>\n",
       "    <tr>\n",
       "      <th>632</th>\n",
       "      <td>632</td>\n",
       "      <td>Aaron Hardie</td>\n",
       "      <td>20 Lakh</td>\n",
       "      <td>ALL-ROUNDER</td>\n",
       "      <td>NaN</td>\n",
       "      <td>NaN</td>\n",
       "      <td>NaN</td>\n",
       "      <td>Unsold</td>\n",
       "    </tr>\n",
       "  </tbody>\n",
       "</table>\n",
       "<p>396 rows × 8 columns</p>\n",
       "</div>"
      ],
      "text/plain": [
       "     Unnamed: 0                  Player Base Price         TYPE  \\\n",
       "237         237            Suresh Raina       2 Cr       BATTER   \n",
       "238         238             Steve Smith       2 Cr       BATTER   \n",
       "239         239         Shakib Al Hasan       2 Cr  ALL-ROUNDER   \n",
       "240         240             Amit Mishra     1.5 Cr       BOWLER   \n",
       "241         241             Adil Rashid       2 Cr       BOWLER   \n",
       "..          ...                     ...        ...          ...   \n",
       "628         628            Sairaj Patil    20 Lakh       BATTER   \n",
       "629         629              Monu Singh    20 Lakh       BOWLER   \n",
       "630         630  Nivethan Radhakrishnan    20 Lakh       BOWLER   \n",
       "631         631            Lance Morris    20 Lakh       BOWLER   \n",
       "632         632            Aaron Hardie    20 Lakh  ALL-ROUNDER   \n",
       "\n",
       "     COST IN ₹ (CR.)  Cost IN $ (000) 2021 Squad    Team  \n",
       "237              NaN              NaN        CSK  Unsold  \n",
       "238              NaN              NaN         DC  Unsold  \n",
       "239              NaN              NaN        KKR  Unsold  \n",
       "240              NaN              NaN         DC  Unsold  \n",
       "241              NaN              NaN       PBKS  Unsold  \n",
       "..               ...              ...        ...     ...  \n",
       "628              NaN              NaN        NaN  Unsold  \n",
       "629              NaN              NaN        NaN  Unsold  \n",
       "630              NaN              NaN        NaN  Unsold  \n",
       "631              NaN              NaN        NaN  Unsold  \n",
       "632              NaN              NaN        NaN  Unsold  \n",
       "\n",
       "[396 rows x 8 columns]"
      ]
     },
     "execution_count": 363,
     "metadata": {},
     "output_type": "execute_result"
    }
   ],
   "source": [
    "US = df.loc[df['Team']=='Unsold']\n",
    "US\n"
   ]
  },
  {
   "cell_type": "code",
   "execution_count": 364,
   "metadata": {},
   "outputs": [
    {
     "data": {
      "text/html": [
       "<div>\n",
       "<style scoped>\n",
       "    .dataframe tbody tr th:only-of-type {\n",
       "        vertical-align: middle;\n",
       "    }\n",
       "\n",
       "    .dataframe tbody tr th {\n",
       "        vertical-align: top;\n",
       "    }\n",
       "\n",
       "    .dataframe thead th {\n",
       "        text-align: right;\n",
       "    }\n",
       "</style>\n",
       "<table border=\"1\" class=\"dataframe\">\n",
       "  <thead>\n",
       "    <tr style=\"text-align: right;\">\n",
       "      <th></th>\n",
       "      <th>Base Price</th>\n",
       "      <th>Count</th>\n",
       "    </tr>\n",
       "  </thead>\n",
       "  <tbody>\n",
       "    <tr>\n",
       "      <th>0</th>\n",
       "      <td>1 Cr</td>\n",
       "      <td>12</td>\n",
       "    </tr>\n",
       "    <tr>\n",
       "      <th>1</th>\n",
       "      <td>1.5 Cr</td>\n",
       "      <td>10</td>\n",
       "    </tr>\n",
       "    <tr>\n",
       "      <th>2</th>\n",
       "      <td>2 Cr</td>\n",
       "      <td>12</td>\n",
       "    </tr>\n",
       "    <tr>\n",
       "      <th>3</th>\n",
       "      <td>20 Lakh</td>\n",
       "      <td>261</td>\n",
       "    </tr>\n",
       "    <tr>\n",
       "      <th>4</th>\n",
       "      <td>30 Lakh</td>\n",
       "      <td>3</td>\n",
       "    </tr>\n",
       "    <tr>\n",
       "      <th>5</th>\n",
       "      <td>40 Lakh</td>\n",
       "      <td>8</td>\n",
       "    </tr>\n",
       "    <tr>\n",
       "      <th>6</th>\n",
       "      <td>50 Lakh</td>\n",
       "      <td>79</td>\n",
       "    </tr>\n",
       "    <tr>\n",
       "      <th>7</th>\n",
       "      <td>75 Lakh</td>\n",
       "      <td>11</td>\n",
       "    </tr>\n",
       "  </tbody>\n",
       "</table>\n",
       "</div>"
      ],
      "text/plain": [
       "  Base Price  Count\n",
       "0       1 Cr     12\n",
       "1     1.5 Cr     10\n",
       "2       2 Cr     12\n",
       "3    20 Lakh    261\n",
       "4    30 Lakh      3\n",
       "5    40 Lakh      8\n",
       "6    50 Lakh     79\n",
       "7    75 Lakh     11"
      ]
     },
     "execution_count": 364,
     "metadata": {},
     "output_type": "execute_result"
    }
   ],
   "source": [
    "US.groupby('Base Price').size().reset_index().rename(columns={0:'Count'})"
   ]
  },
  {
   "cell_type": "code",
   "execution_count": 365,
   "metadata": {},
   "outputs": [
    {
     "data": {
      "text/html": [
       "<div>\n",
       "<style scoped>\n",
       "    .dataframe tbody tr th:only-of-type {\n",
       "        vertical-align: middle;\n",
       "    }\n",
       "\n",
       "    .dataframe tbody tr th {\n",
       "        vertical-align: top;\n",
       "    }\n",
       "\n",
       "    .dataframe thead th {\n",
       "        text-align: right;\n",
       "    }\n",
       "</style>\n",
       "<table border=\"1\" class=\"dataframe\">\n",
       "  <thead>\n",
       "    <tr style=\"text-align: right;\">\n",
       "      <th></th>\n",
       "      <th>2021 Squad</th>\n",
       "      <th>Count</th>\n",
       "    </tr>\n",
       "  </thead>\n",
       "  <tbody>\n",
       "    <tr>\n",
       "      <th>0</th>\n",
       "      <td>CSK</td>\n",
       "      <td>3</td>\n",
       "    </tr>\n",
       "    <tr>\n",
       "      <th>1</th>\n",
       "      <td>DC</td>\n",
       "      <td>7</td>\n",
       "    </tr>\n",
       "    <tr>\n",
       "      <th>2</th>\n",
       "      <td>KKR</td>\n",
       "      <td>5</td>\n",
       "    </tr>\n",
       "    <tr>\n",
       "      <th>3</th>\n",
       "      <td>MI</td>\n",
       "      <td>6</td>\n",
       "    </tr>\n",
       "    <tr>\n",
       "      <th>4</th>\n",
       "      <td>PBKS</td>\n",
       "      <td>5</td>\n",
       "    </tr>\n",
       "    <tr>\n",
       "      <th>5</th>\n",
       "      <td>RCB</td>\n",
       "      <td>7</td>\n",
       "    </tr>\n",
       "    <tr>\n",
       "      <th>6</th>\n",
       "      <td>RR</td>\n",
       "      <td>3</td>\n",
       "    </tr>\n",
       "    <tr>\n",
       "      <th>7</th>\n",
       "      <td>SRH</td>\n",
       "      <td>4</td>\n",
       "    </tr>\n",
       "  </tbody>\n",
       "</table>\n",
       "</div>"
      ],
      "text/plain": [
       "  2021 Squad  Count\n",
       "0        CSK      3\n",
       "1         DC      7\n",
       "2        KKR      5\n",
       "3         MI      6\n",
       "4       PBKS      5\n",
       "5        RCB      7\n",
       "6         RR      3\n",
       "7        SRH      4"
      ]
     },
     "execution_count": 365,
     "metadata": {},
     "output_type": "execute_result"
    }
   ],
   "source": [
    "PUS  = US.groupby('2021 Squad').size().reset_index().rename(columns={0:'Count'})\n",
    "PUS"
   ]
  },
  {
   "cell_type": "code",
   "execution_count": 366,
   "metadata": {},
   "outputs": [
    {
     "data": {
      "text/plain": [
       "2021 Squad    CSKDCKKRMIPBKSRCBRRSRH\n",
       "Count                             40\n",
       "dtype: object"
      ]
     },
     "execution_count": 366,
     "metadata": {},
     "output_type": "execute_result"
    }
   ],
   "source": [
    "PUS.sum()"
   ]
  },
  {
   "cell_type": "code",
   "execution_count": 367,
   "metadata": {},
   "outputs": [
    {
     "data": {
      "text/plain": [
       "<BarContainer object of 8 artists>"
      ]
     },
     "execution_count": 367,
     "metadata": {},
     "output_type": "execute_result"
    },
    {
     "data": {
      "image/png": "[encoded data removed]",
      "text/plain": [
       "<Figure size 864x432 with 1 Axes>"
      ]
     },
     "metadata": {
      "needs_background": "light"
     },
     "output_type": "display_data"
    }
   ],
   "source": [
    "cl = ['yellow','blue','purple','blue','red','red','pink','orange']\n",
    "plt.bar(x = PUS['2021 Squad'],height = PUS['Count'],color = cl)"
   ]
  },
  {
   "cell_type": "code",
   "execution_count": 368,
   "metadata": {},
   "outputs": [],
   "source": [
    "#Observation\n",
    "#40 players were realsed from teams as follows -\n",
    "#1)3 players were released from CSK\n",
    "#2)7 players were released from DC\n",
    "#3)5 players were released from KKR\n",
    "#4)6 players were released from MI\n",
    "#5)5 players were released from PBKS\n",
    "#6)7 players were released from RCB\n",
    "#7)3 players were released from RR\n",
    "#8)4 players were released from SRH\n"
   ]
  },
  {
   "cell_type": "code",
   "execution_count": 369,
   "metadata": {},
   "outputs": [
    {
     "data": {
      "text/html": [
       "<div>\n",
       "<style scoped>\n",
       "    .dataframe tbody tr th:only-of-type {\n",
       "        vertical-align: middle;\n",
       "    }\n",
       "\n",
       "    .dataframe tbody tr th {\n",
       "        vertical-align: top;\n",
       "    }\n",
       "\n",
       "    .dataframe thead th {\n",
       "        text-align: right;\n",
       "    }\n",
       "</style>\n",
       "<table border=\"1\" class=\"dataframe\">\n",
       "  <thead>\n",
       "    <tr style=\"text-align: right;\">\n",
       "      <th></th>\n",
       "      <th>TYPE</th>\n",
       "      <th>Count</th>\n",
       "    </tr>\n",
       "  </thead>\n",
       "  <tbody>\n",
       "    <tr>\n",
       "      <th>0</th>\n",
       "      <td>ALL-ROUNDER</td>\n",
       "      <td>154</td>\n",
       "    </tr>\n",
       "    <tr>\n",
       "      <th>1</th>\n",
       "      <td>BATTER</td>\n",
       "      <td>67</td>\n",
       "    </tr>\n",
       "    <tr>\n",
       "      <th>2</th>\n",
       "      <td>BOWLER</td>\n",
       "      <td>138</td>\n",
       "    </tr>\n",
       "    <tr>\n",
       "      <th>3</th>\n",
       "      <td>WICKETKEEPER</td>\n",
       "      <td>37</td>\n",
       "    </tr>\n",
       "  </tbody>\n",
       "</table>\n",
       "</div>"
      ],
      "text/plain": [
       "           TYPE  Count\n",
       "0   ALL-ROUNDER    154\n",
       "1        BATTER     67\n",
       "2        BOWLER    138\n",
       "3  WICKETKEEPER     37"
      ]
     },
     "execution_count": 369,
     "metadata": {},
     "output_type": "execute_result"
    }
   ],
   "source": [
    "PUS1 = US.groupby('TYPE').size().reset_index().rename(columns={0:'Count'})\n",
    "PUS1"
   ]
  },
  {
   "cell_type": "code",
   "execution_count": 370,
   "metadata": {},
   "outputs": [
    {
     "data": {
      "text/plain": [
       "<AxesSubplot: ylabel='TYPE'>"
      ]
     },
     "execution_count": 370,
     "metadata": {},
     "output_type": "execute_result"
    },
    {
     "data": {
      "image/png": "[encoded data removed]",
      "text/plain": [
       "<Figure size 864x432 with 1 Axes>"
      ]
     },
     "metadata": {},
     "output_type": "display_data"
    }
   ],
   "source": [
    "US['TYPE'].value_counts().plot(kind = 'pie', autopct = \"%.2f%%\",labels = df.Team.value_counts().index)"
   ]
  },
  {
   "cell_type": "code",
   "execution_count": 371,
   "metadata": {},
   "outputs": [
    {
     "data": {
      "text/plain": [
       "<BarContainer object of 4 artists>"
      ]
     },
     "execution_count": 371,
     "metadata": {},
     "output_type": "execute_result"
    },
    {
     "data": {
      "image/png": "[encoded data removed]",
      "text/plain": [
       "<Figure size 864x432 with 1 Axes>"
      ]
     },
     "metadata": {
      "needs_background": "light"
     },
     "output_type": "display_data"
    }
   ],
   "source": [
    "plt.bar(x = PUS1['TYPE'],height=PUS1['Count'])"
   ]
  },
  {
   "cell_type": "code",
   "execution_count": 372,
   "metadata": {},
   "outputs": [],
   "source": [
    "#Observations\n",
    "# a) 154 All rounders were Unsold.\n",
    "# b) 67 Batters were Unsold.\n",
    "# c) 138 Bowlers were Unsold.\n",
    "# d) 37 Wicket Keepers were Unsold."
   ]
  }
 ],
 "metadata": {
  "kernelspec": {
   "display_name": "Python 3",
   "language": "python",
   "name": "python3"
  },
  "language_info": {
   "codemirror_mode": {
    "name": "ipython",
    "version": 3
   },
   "file_extension": ".py",
   "mimetype": "text/x-python",
   "name": "python",
   "nbconvert_exporter": "python",
   "pygments_lexer": "ipython3",
   "version": "3.10.1"
  },
  "orig_nbformat": 4,
  "vscode": {
   "interpreter": {
    "hash": "369f2c481f4da34e4445cda3fffd2e751bd1c4d706f27375911949ba6bb62e1c"
   }
  }
 },
 "nbformat": 4,
 "nbformat_minor": 2
}
